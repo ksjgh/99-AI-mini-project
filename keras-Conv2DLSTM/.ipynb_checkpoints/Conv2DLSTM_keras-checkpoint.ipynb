{
 "cells": [
  {
   "cell_type": "code",
   "execution_count": 1,
   "metadata": {},
   "outputs": [
    {
     "name": "stderr",
     "output_type": "stream",
     "text": [
      "Using TensorFlow backend.\n",
      "/usr/lib/python3.6/importlib/_bootstrap.py:219: RuntimeWarning: numpy.dtype size changed, may indicate binary incompatibility. Expected 96, got 88\n",
      "  return f(*args, **kwds)\n",
      "/usr/lib/python3.6/importlib/_bootstrap.py:219: RuntimeWarning: numpy.dtype size changed, may indicate binary incompatibility. Expected 96, got 88\n",
      "  return f(*args, **kwds)\n"
     ]
    }
   ],
   "source": [
    "\"\"\"\n",
    "#This script demonstrates the use of a convolutional LSTM network.\n",
    "This network is used to predict the next frame of an artificially\n",
    "generated movie which contains moving squares.\n",
    "\"\"\"\n",
    "from keras.models import Sequential\n",
    "from keras.layers.convolutional import Conv3D\n",
    "from keras.layers.convolutional_recurrent import ConvLSTM2D\n",
    "from keras.layers.normalization import BatchNormalization\n",
    "import numpy as np\n",
    "import pylab as plt"
   ]
  },
  {
   "cell_type": "code",
   "execution_count": 2,
   "metadata": {},
   "outputs": [],
   "source": [
    "# We create a layer which take as input movies of shape\n",
    "# (n_frames, width, height, channels) and returns a movie\n",
    "# of identical shape.\n",
    "\n",
    "seq = Sequential()\n",
    "seq.add(ConvLSTM2D(filters=40, kernel_size=(3, 3),\n",
    "                   input_shape=(None, 40, 40, 1),\n",
    "                   padding='same', return_sequences=True))\n",
    "seq.add(BatchNormalization())\n",
    "\n",
    "seq.add(ConvLSTM2D(filters=40, kernel_size=(3, 3),\n",
    "                   padding='same', return_sequences=True))\n",
    "seq.add(BatchNormalization())\n",
    "\n",
    "seq.add(ConvLSTM2D(filters=40, kernel_size=(3, 3),\n",
    "                   padding='same', return_sequences=True))\n",
    "seq.add(BatchNormalization())\n",
    "\n",
    "seq.add(ConvLSTM2D(filters=40, kernel_size=(3, 3),\n",
    "                   padding='same', return_sequences=True))\n",
    "seq.add(BatchNormalization())\n",
    "\n",
    "seq.add(Conv3D(filters=1, kernel_size=(3, 3, 3),\n",
    "               activation='sigmoid',\n",
    "               padding='same', data_format='channels_last'))\n",
    "seq.compile(loss='binary_crossentropy', optimizer='adadelta')"
   ]
  },
  {
   "cell_type": "code",
   "execution_count": 3,
   "metadata": {},
   "outputs": [
    {
     "name": "stdout",
     "output_type": "stream",
     "text": [
      "_________________________________________________________________\n",
      "Layer (type)                 Output Shape              Param #   \n",
      "=================================================================\n",
      "conv_lst_m2d_1 (ConvLSTM2D)  (None, None, 40, 40, 40)  59200     \n",
      "_________________________________________________________________\n",
      "batch_normalization_1 (Batch (None, None, 40, 40, 40)  160       \n",
      "_________________________________________________________________\n",
      "conv_lst_m2d_2 (ConvLSTM2D)  (None, None, 40, 40, 40)  115360    \n",
      "_________________________________________________________________\n",
      "batch_normalization_2 (Batch (None, None, 40, 40, 40)  160       \n",
      "_________________________________________________________________\n",
      "conv_lst_m2d_3 (ConvLSTM2D)  (None, None, 40, 40, 40)  115360    \n",
      "_________________________________________________________________\n",
      "batch_normalization_3 (Batch (None, None, 40, 40, 40)  160       \n",
      "_________________________________________________________________\n",
      "conv_lst_m2d_4 (ConvLSTM2D)  (None, None, 40, 40, 40)  115360    \n",
      "_________________________________________________________________\n",
      "batch_normalization_4 (Batch (None, None, 40, 40, 40)  160       \n",
      "_________________________________________________________________\n",
      "conv3d_1 (Conv3D)            (None, None, 40, 40, 1)   1081      \n",
      "=================================================================\n",
      "Total params: 407,001\n",
      "Trainable params: 406,681\n",
      "Non-trainable params: 320\n",
      "_________________________________________________________________\n"
     ]
    }
   ],
   "source": [
    "seq.summary()"
   ]
  },
  {
   "cell_type": "code",
   "execution_count": 4,
   "metadata": {},
   "outputs": [
    {
     "data": {
      "image/svg+xml": [
       "<svg height=\"792pt\" viewBox=\"0.00 0.00 431.00 792.00\" width=\"431pt\" xmlns=\"http://www.w3.org/2000/svg\" xmlns:xlink=\"http://www.w3.org/1999/xlink\">\n",
       "<g class=\"graph\" id=\"graph0\" transform=\"scale(1 1) rotate(0) translate(4 788)\">\n",
       "<title>G</title>\n",
       "<polygon fill=\"white\" points=\"-4,4 -4,-788 427,-788 427,4 -4,4\" stroke=\"none\"/>\n",
       "<!-- 140013903823928 -->\n",
       "<g class=\"node\" id=\"node1\"><title>140013903823928</title>\n",
       "<polygon fill=\"none\" points=\"22.5,-664.5 22.5,-710.5 400.5,-710.5 400.5,-664.5 22.5,-664.5\" stroke=\"black\"/>\n",
       "<text font-family=\"Times,serif\" font-size=\"14.00\" text-anchor=\"middle\" x=\"80.5\" y=\"-683.8\">ConvLSTM2D</text>\n",
       "<polyline fill=\"none\" points=\"138.5,-664.5 138.5,-710.5 \" stroke=\"black\"/>\n",
       "<text font-family=\"Times,serif\" font-size=\"14.00\" text-anchor=\"middle\" x=\"172.5\" y=\"-695.3\">input:</text>\n",
       "<polyline fill=\"none\" points=\"138.5,-687.5 206.5,-687.5 \" stroke=\"black\"/>\n",
       "<text font-family=\"Times,serif\" font-size=\"14.00\" text-anchor=\"middle\" x=\"172.5\" y=\"-672.3\">output:</text>\n",
       "<polyline fill=\"none\" points=\"206.5,-664.5 206.5,-710.5 \" stroke=\"black\"/>\n",
       "<text font-family=\"Times,serif\" font-size=\"14.00\" text-anchor=\"middle\" x=\"303.5\" y=\"-695.3\">(None, None, 40, 40, 1)</text>\n",
       "<polyline fill=\"none\" points=\"206.5,-687.5 400.5,-687.5 \" stroke=\"black\"/>\n",
       "<text font-family=\"Times,serif\" font-size=\"14.00\" text-anchor=\"middle\" x=\"303.5\" y=\"-672.3\">(None, None, 40, 40, 40)</text>\n",
       "</g>\n",
       "<!-- 140017146500824 -->\n",
       "<g class=\"node\" id=\"node2\"><title>140017146500824</title>\n",
       "<polygon fill=\"none\" points=\"0,-581.5 0,-627.5 423,-627.5 423,-581.5 0,-581.5\" stroke=\"black\"/>\n",
       "<text font-family=\"Times,serif\" font-size=\"14.00\" text-anchor=\"middle\" x=\"80.5\" y=\"-600.8\">BatchNormalization</text>\n",
       "<polyline fill=\"none\" points=\"161,-581.5 161,-627.5 \" stroke=\"black\"/>\n",
       "<text font-family=\"Times,serif\" font-size=\"14.00\" text-anchor=\"middle\" x=\"195\" y=\"-612.3\">input:</text>\n",
       "<polyline fill=\"none\" points=\"161,-604.5 229,-604.5 \" stroke=\"black\"/>\n",
       "<text font-family=\"Times,serif\" font-size=\"14.00\" text-anchor=\"middle\" x=\"195\" y=\"-589.3\">output:</text>\n",
       "<polyline fill=\"none\" points=\"229,-581.5 229,-627.5 \" stroke=\"black\"/>\n",
       "<text font-family=\"Times,serif\" font-size=\"14.00\" text-anchor=\"middle\" x=\"326\" y=\"-612.3\">(None, None, 40, 40, 40)</text>\n",
       "<polyline fill=\"none\" points=\"229,-604.5 423,-604.5 \" stroke=\"black\"/>\n",
       "<text font-family=\"Times,serif\" font-size=\"14.00\" text-anchor=\"middle\" x=\"326\" y=\"-589.3\">(None, None, 40, 40, 40)</text>\n",
       "</g>\n",
       "<!-- 140013903823928&#45;&gt;140017146500824 -->\n",
       "<g class=\"edge\" id=\"edge2\"><title>140013903823928-&gt;140017146500824</title>\n",
       "<path d=\"M211.5,-664.366C211.5,-656.152 211.5,-646.658 211.5,-637.725\" fill=\"none\" stroke=\"black\"/>\n",
       "<polygon fill=\"black\" points=\"215,-637.607 211.5,-627.607 208,-637.607 215,-637.607\" stroke=\"black\"/>\n",
       "</g>\n",
       "<!-- 140013903824936 -->\n",
       "<g class=\"node\" id=\"node3\"><title>140013903824936</title>\n",
       "<polygon fill=\"none\" points=\"22.5,-498.5 22.5,-544.5 400.5,-544.5 400.5,-498.5 22.5,-498.5\" stroke=\"black\"/>\n",
       "<text font-family=\"Times,serif\" font-size=\"14.00\" text-anchor=\"middle\" x=\"80.5\" y=\"-517.8\">ConvLSTM2D</text>\n",
       "<polyline fill=\"none\" points=\"138.5,-498.5 138.5,-544.5 \" stroke=\"black\"/>\n",
       "<text font-family=\"Times,serif\" font-size=\"14.00\" text-anchor=\"middle\" x=\"172.5\" y=\"-529.3\">input:</text>\n",
       "<polyline fill=\"none\" points=\"138.5,-521.5 206.5,-521.5 \" stroke=\"black\"/>\n",
       "<text font-family=\"Times,serif\" font-size=\"14.00\" text-anchor=\"middle\" x=\"172.5\" y=\"-506.3\">output:</text>\n",
       "<polyline fill=\"none\" points=\"206.5,-498.5 206.5,-544.5 \" stroke=\"black\"/>\n",
       "<text font-family=\"Times,serif\" font-size=\"14.00\" text-anchor=\"middle\" x=\"303.5\" y=\"-529.3\">(None, None, 40, 40, 40)</text>\n",
       "<polyline fill=\"none\" points=\"206.5,-521.5 400.5,-521.5 \" stroke=\"black\"/>\n",
       "<text font-family=\"Times,serif\" font-size=\"14.00\" text-anchor=\"middle\" x=\"303.5\" y=\"-506.3\">(None, None, 40, 40, 40)</text>\n",
       "</g>\n",
       "<!-- 140017146500824&#45;&gt;140013903824936 -->\n",
       "<g class=\"edge\" id=\"edge3\"><title>140017146500824-&gt;140013903824936</title>\n",
       "<path d=\"M211.5,-581.366C211.5,-573.152 211.5,-563.658 211.5,-554.725\" fill=\"none\" stroke=\"black\"/>\n",
       "<polygon fill=\"black\" points=\"215,-554.607 211.5,-544.607 208,-554.607 215,-554.607\" stroke=\"black\"/>\n",
       "</g>\n",
       "<!-- 140013913042504 -->\n",
       "<g class=\"node\" id=\"node4\"><title>140013913042504</title>\n",
       "<polygon fill=\"none\" points=\"0,-415.5 0,-461.5 423,-461.5 423,-415.5 0,-415.5\" stroke=\"black\"/>\n",
       "<text font-family=\"Times,serif\" font-size=\"14.00\" text-anchor=\"middle\" x=\"80.5\" y=\"-434.8\">BatchNormalization</text>\n",
       "<polyline fill=\"none\" points=\"161,-415.5 161,-461.5 \" stroke=\"black\"/>\n",
       "<text font-family=\"Times,serif\" font-size=\"14.00\" text-anchor=\"middle\" x=\"195\" y=\"-446.3\">input:</text>\n",
       "<polyline fill=\"none\" points=\"161,-438.5 229,-438.5 \" stroke=\"black\"/>\n",
       "<text font-family=\"Times,serif\" font-size=\"14.00\" text-anchor=\"middle\" x=\"195\" y=\"-423.3\">output:</text>\n",
       "<polyline fill=\"none\" points=\"229,-415.5 229,-461.5 \" stroke=\"black\"/>\n",
       "<text font-family=\"Times,serif\" font-size=\"14.00\" text-anchor=\"middle\" x=\"326\" y=\"-446.3\">(None, None, 40, 40, 40)</text>\n",
       "<polyline fill=\"none\" points=\"229,-438.5 423,-438.5 \" stroke=\"black\"/>\n",
       "<text font-family=\"Times,serif\" font-size=\"14.00\" text-anchor=\"middle\" x=\"326\" y=\"-423.3\">(None, None, 40, 40, 40)</text>\n",
       "</g>\n",
       "<!-- 140013903824936&#45;&gt;140013913042504 -->\n",
       "<g class=\"edge\" id=\"edge4\"><title>140013903824936-&gt;140013913042504</title>\n",
       "<path d=\"M211.5,-498.366C211.5,-490.152 211.5,-480.658 211.5,-471.725\" fill=\"none\" stroke=\"black\"/>\n",
       "<polygon fill=\"black\" points=\"215,-471.607 211.5,-461.607 208,-471.607 215,-471.607\" stroke=\"black\"/>\n",
       "</g>\n",
       "<!-- 140013856721552 -->\n",
       "<g class=\"node\" id=\"node5\"><title>140013856721552</title>\n",
       "<polygon fill=\"none\" points=\"22.5,-332.5 22.5,-378.5 400.5,-378.5 400.5,-332.5 22.5,-332.5\" stroke=\"black\"/>\n",
       "<text font-family=\"Times,serif\" font-size=\"14.00\" text-anchor=\"middle\" x=\"80.5\" y=\"-351.8\">ConvLSTM2D</text>\n",
       "<polyline fill=\"none\" points=\"138.5,-332.5 138.5,-378.5 \" stroke=\"black\"/>\n",
       "<text font-family=\"Times,serif\" font-size=\"14.00\" text-anchor=\"middle\" x=\"172.5\" y=\"-363.3\">input:</text>\n",
       "<polyline fill=\"none\" points=\"138.5,-355.5 206.5,-355.5 \" stroke=\"black\"/>\n",
       "<text font-family=\"Times,serif\" font-size=\"14.00\" text-anchor=\"middle\" x=\"172.5\" y=\"-340.3\">output:</text>\n",
       "<polyline fill=\"none\" points=\"206.5,-332.5 206.5,-378.5 \" stroke=\"black\"/>\n",
       "<text font-family=\"Times,serif\" font-size=\"14.00\" text-anchor=\"middle\" x=\"303.5\" y=\"-363.3\">(None, None, 40, 40, 40)</text>\n",
       "<polyline fill=\"none\" points=\"206.5,-355.5 400.5,-355.5 \" stroke=\"black\"/>\n",
       "<text font-family=\"Times,serif\" font-size=\"14.00\" text-anchor=\"middle\" x=\"303.5\" y=\"-340.3\">(None, None, 40, 40, 40)</text>\n",
       "</g>\n",
       "<!-- 140013913042504&#45;&gt;140013856721552 -->\n",
       "<g class=\"edge\" id=\"edge5\"><title>140013913042504-&gt;140013856721552</title>\n",
       "<path d=\"M211.5,-415.366C211.5,-407.152 211.5,-397.658 211.5,-388.725\" fill=\"none\" stroke=\"black\"/>\n",
       "<polygon fill=\"black\" points=\"215,-388.607 211.5,-378.607 208,-388.607 215,-388.607\" stroke=\"black\"/>\n",
       "</g>\n",
       "<!-- 140013855561320 -->\n",
       "<g class=\"node\" id=\"node6\"><title>140013855561320</title>\n",
       "<polygon fill=\"none\" points=\"0,-249.5 0,-295.5 423,-295.5 423,-249.5 0,-249.5\" stroke=\"black\"/>\n",
       "<text font-family=\"Times,serif\" font-size=\"14.00\" text-anchor=\"middle\" x=\"80.5\" y=\"-268.8\">BatchNormalization</text>\n",
       "<polyline fill=\"none\" points=\"161,-249.5 161,-295.5 \" stroke=\"black\"/>\n",
       "<text font-family=\"Times,serif\" font-size=\"14.00\" text-anchor=\"middle\" x=\"195\" y=\"-280.3\">input:</text>\n",
       "<polyline fill=\"none\" points=\"161,-272.5 229,-272.5 \" stroke=\"black\"/>\n",
       "<text font-family=\"Times,serif\" font-size=\"14.00\" text-anchor=\"middle\" x=\"195\" y=\"-257.3\">output:</text>\n",
       "<polyline fill=\"none\" points=\"229,-249.5 229,-295.5 \" stroke=\"black\"/>\n",
       "<text font-family=\"Times,serif\" font-size=\"14.00\" text-anchor=\"middle\" x=\"326\" y=\"-280.3\">(None, None, 40, 40, 40)</text>\n",
       "<polyline fill=\"none\" points=\"229,-272.5 423,-272.5 \" stroke=\"black\"/>\n",
       "<text font-family=\"Times,serif\" font-size=\"14.00\" text-anchor=\"middle\" x=\"326\" y=\"-257.3\">(None, None, 40, 40, 40)</text>\n",
       "</g>\n",
       "<!-- 140013856721552&#45;&gt;140013855561320 -->\n",
       "<g class=\"edge\" id=\"edge6\"><title>140013856721552-&gt;140013855561320</title>\n",
       "<path d=\"M211.5,-332.366C211.5,-324.152 211.5,-314.658 211.5,-305.725\" fill=\"none\" stroke=\"black\"/>\n",
       "<polygon fill=\"black\" points=\"215,-305.607 211.5,-295.607 208,-305.607 215,-305.607\" stroke=\"black\"/>\n",
       "</g>\n",
       "<!-- 140013785892288 -->\n",
       "<g class=\"node\" id=\"node7\"><title>140013785892288</title>\n",
       "<polygon fill=\"none\" points=\"22.5,-166.5 22.5,-212.5 400.5,-212.5 400.5,-166.5 22.5,-166.5\" stroke=\"black\"/>\n",
       "<text font-family=\"Times,serif\" font-size=\"14.00\" text-anchor=\"middle\" x=\"80.5\" y=\"-185.8\">ConvLSTM2D</text>\n",
       "<polyline fill=\"none\" points=\"138.5,-166.5 138.5,-212.5 \" stroke=\"black\"/>\n",
       "<text font-family=\"Times,serif\" font-size=\"14.00\" text-anchor=\"middle\" x=\"172.5\" y=\"-197.3\">input:</text>\n",
       "<polyline fill=\"none\" points=\"138.5,-189.5 206.5,-189.5 \" stroke=\"black\"/>\n",
       "<text font-family=\"Times,serif\" font-size=\"14.00\" text-anchor=\"middle\" x=\"172.5\" y=\"-174.3\">output:</text>\n",
       "<polyline fill=\"none\" points=\"206.5,-166.5 206.5,-212.5 \" stroke=\"black\"/>\n",
       "<text font-family=\"Times,serif\" font-size=\"14.00\" text-anchor=\"middle\" x=\"303.5\" y=\"-197.3\">(None, None, 40, 40, 40)</text>\n",
       "<polyline fill=\"none\" points=\"206.5,-189.5 400.5,-189.5 \" stroke=\"black\"/>\n",
       "<text font-family=\"Times,serif\" font-size=\"14.00\" text-anchor=\"middle\" x=\"303.5\" y=\"-174.3\">(None, None, 40, 40, 40)</text>\n",
       "</g>\n",
       "<!-- 140013855561320&#45;&gt;140013785892288 -->\n",
       "<g class=\"edge\" id=\"edge7\"><title>140013855561320-&gt;140013785892288</title>\n",
       "<path d=\"M211.5,-249.366C211.5,-241.152 211.5,-231.658 211.5,-222.725\" fill=\"none\" stroke=\"black\"/>\n",
       "<polygon fill=\"black\" points=\"215,-222.607 211.5,-212.607 208,-222.607 215,-222.607\" stroke=\"black\"/>\n",
       "</g>\n",
       "<!-- 140013783457072 -->\n",
       "<g class=\"node\" id=\"node8\"><title>140013783457072</title>\n",
       "<polygon fill=\"none\" points=\"0,-83.5 0,-129.5 423,-129.5 423,-83.5 0,-83.5\" stroke=\"black\"/>\n",
       "<text font-family=\"Times,serif\" font-size=\"14.00\" text-anchor=\"middle\" x=\"80.5\" y=\"-102.8\">BatchNormalization</text>\n",
       "<polyline fill=\"none\" points=\"161,-83.5 161,-129.5 \" stroke=\"black\"/>\n",
       "<text font-family=\"Times,serif\" font-size=\"14.00\" text-anchor=\"middle\" x=\"195\" y=\"-114.3\">input:</text>\n",
       "<polyline fill=\"none\" points=\"161,-106.5 229,-106.5 \" stroke=\"black\"/>\n",
       "<text font-family=\"Times,serif\" font-size=\"14.00\" text-anchor=\"middle\" x=\"195\" y=\"-91.3\">output:</text>\n",
       "<polyline fill=\"none\" points=\"229,-83.5 229,-129.5 \" stroke=\"black\"/>\n",
       "<text font-family=\"Times,serif\" font-size=\"14.00\" text-anchor=\"middle\" x=\"326\" y=\"-114.3\">(None, None, 40, 40, 40)</text>\n",
       "<polyline fill=\"none\" points=\"229,-106.5 423,-106.5 \" stroke=\"black\"/>\n",
       "<text font-family=\"Times,serif\" font-size=\"14.00\" text-anchor=\"middle\" x=\"326\" y=\"-91.3\">(None, None, 40, 40, 40)</text>\n",
       "</g>\n",
       "<!-- 140013785892288&#45;&gt;140013783457072 -->\n",
       "<g class=\"edge\" id=\"edge8\"><title>140013785892288-&gt;140013783457072</title>\n",
       "<path d=\"M211.5,-166.366C211.5,-158.152 211.5,-148.658 211.5,-139.725\" fill=\"none\" stroke=\"black\"/>\n",
       "<polygon fill=\"black\" points=\"215,-139.607 211.5,-129.607 208,-139.607 215,-139.607\" stroke=\"black\"/>\n",
       "</g>\n",
       "<!-- 140013782883016 -->\n",
       "<g class=\"node\" id=\"node9\"><title>140013782883016</title>\n",
       "<polygon fill=\"none\" points=\"43.5,-0.5 43.5,-46.5 379.5,-46.5 379.5,-0.5 43.5,-0.5\" stroke=\"black\"/>\n",
       "<text font-family=\"Times,serif\" font-size=\"14.00\" text-anchor=\"middle\" x=\"80.5\" y=\"-19.8\">Conv3D</text>\n",
       "<polyline fill=\"none\" points=\"117.5,-0.5 117.5,-46.5 \" stroke=\"black\"/>\n",
       "<text font-family=\"Times,serif\" font-size=\"14.00\" text-anchor=\"middle\" x=\"151.5\" y=\"-31.3\">input:</text>\n",
       "<polyline fill=\"none\" points=\"117.5,-23.5 185.5,-23.5 \" stroke=\"black\"/>\n",
       "<text font-family=\"Times,serif\" font-size=\"14.00\" text-anchor=\"middle\" x=\"151.5\" y=\"-8.3\">output:</text>\n",
       "<polyline fill=\"none\" points=\"185.5,-0.5 185.5,-46.5 \" stroke=\"black\"/>\n",
       "<text font-family=\"Times,serif\" font-size=\"14.00\" text-anchor=\"middle\" x=\"282.5\" y=\"-31.3\">(None, None, 40, 40, 40)</text>\n",
       "<polyline fill=\"none\" points=\"185.5,-23.5 379.5,-23.5 \" stroke=\"black\"/>\n",
       "<text font-family=\"Times,serif\" font-size=\"14.00\" text-anchor=\"middle\" x=\"282.5\" y=\"-8.3\">(None, None, 40, 40, 1)</text>\n",
       "</g>\n",
       "<!-- 140013783457072&#45;&gt;140013782883016 -->\n",
       "<g class=\"edge\" id=\"edge9\"><title>140013783457072-&gt;140013782883016</title>\n",
       "<path d=\"M211.5,-83.3664C211.5,-75.1516 211.5,-65.6579 211.5,-56.7252\" fill=\"none\" stroke=\"black\"/>\n",
       "<polygon fill=\"black\" points=\"215,-56.6068 211.5,-46.6068 208,-56.6069 215,-56.6068\" stroke=\"black\"/>\n",
       "</g>\n",
       "<!-- 140013903824712 -->\n",
       "<g class=\"node\" id=\"node10\"><title>140013903824712</title>\n",
       "<polygon fill=\"none\" points=\"135.5,-747.5 135.5,-783.5 287.5,-783.5 287.5,-747.5 135.5,-747.5\" stroke=\"black\"/>\n",
       "<text font-family=\"Times,serif\" font-size=\"14.00\" text-anchor=\"middle\" x=\"211.5\" y=\"-761.8\">140013903824712</text>\n",
       "</g>\n",
       "<!-- 140013903824712&#45;&gt;140013903823928 -->\n",
       "<g class=\"edge\" id=\"edge1\"><title>140013903824712-&gt;140013903823928</title>\n",
       "<path d=\"M211.5,-747.254C211.5,-739.363 211.5,-729.749 211.5,-720.602\" fill=\"none\" stroke=\"black\"/>\n",
       "<polygon fill=\"black\" points=\"215,-720.591 211.5,-710.591 208,-720.591 215,-720.591\" stroke=\"black\"/>\n",
       "</g>\n",
       "</g>\n",
       "</svg>"
      ],
      "text/plain": [
       "<IPython.core.display.SVG object>"
      ]
     },
     "execution_count": 4,
     "metadata": {},
     "output_type": "execute_result"
    }
   ],
   "source": [
    "#  Display Model in Jupyter notebook\n",
    "\n",
    "from IPython.display import SVG\n",
    "from keras.utils.vis_utils import model_to_dot\n",
    "\n",
    "def plot_keras_model(model,show_shapes=True,show_layer_names=True):\n",
    "    return SVG(model_to_dot(model,show_shapes=show_shapes,show_layer_names=show_layer_names).create(prog='dot',format='svg'))\n",
    "\n",
    "plot_keras_model(seq, show_shapes=True, show_layer_names=False)"
   ]
  },
  {
   "cell_type": "code",
   "execution_count": 5,
   "metadata": {},
   "outputs": [],
   "source": [
    "# Artificial data generation:\n",
    "# Generate movies with 3 to 7 moving squares inside.\n",
    "# The squares are of shape 1x1 or 2x2 pixels,\n",
    "# which move linearly over time.\n",
    "# For convenience we first create movies with bigger width and height (80x80)\n",
    "# and at the end we select a 40x40 window.\n",
    "\n",
    "def generate_movies(n_samples=1200, n_frames=15):\n",
    "    row = 80\n",
    "    col = 80\n",
    "    noisy_movies = np.zeros((n_samples, n_frames, row, col, 1), dtype=np.float)\n",
    "    shifted_movies = np.zeros((n_samples, n_frames, row, col, 1),dtype=np.float)\n",
    "\n",
    "    for i in range(n_samples):\n",
    "        # Add 3 to 7 moving squares\n",
    "        n = np.random.randint(3, 8)\n",
    "\n",
    "        for j in range(n):\n",
    "            # Initial position\n",
    "            xstart = np.random.randint(20, 60)\n",
    "            ystart = np.random.randint(20, 60)\n",
    "            # Direction of motion\n",
    "            directionx = np.random.randint(0, 3) - 1 # [-1,0,1]\n",
    "            directiony = np.random.randint(0, 3) - 1\n",
    "\n",
    "            # Size of the square\n",
    "            w = np.random.randint(2, 4)\n",
    "\n",
    "            for t in range(n_frames):\n",
    "                x_shift = xstart + directionx * t\n",
    "                y_shift = ystart + directiony * t\n",
    "                noisy_movies[i, t, x_shift - w: x_shift + w,\n",
    "                             y_shift - w: y_shift + w, 0] += 1\n",
    "\n",
    "                # Make it more robust by adding noise.\n",
    "                # The idea is that if during inference,\n",
    "                # the value of the pixel is not exactly one,\n",
    "                # we need to train the network to be robust and still\n",
    "                # consider it as a pixel belonging to a square.\n",
    "                if np.random.randint(0, 2):\n",
    "                    noise_f = (-1)**np.random.randint(0, 2)\n",
    "                    noisy_movies[i, t,\n",
    "                                 x_shift - w - 1: x_shift + w + 1,\n",
    "                                 y_shift - w - 1: y_shift + w + 1,\n",
    "                                 0] += noise_f * 0.1\n",
    "\n",
    "                # Shift the ground truth by 1\n",
    "                x_shift = xstart + directionx * (t + 1)\n",
    "                y_shift = ystart + directiony * (t + 1)\n",
    "                shifted_movies[i, t, x_shift - w: x_shift + w,\n",
    "                               y_shift - w: y_shift + w, 0] += 1\n",
    "\n",
    "    # Cut to a 40x40 window\n",
    "    noisy_movies = noisy_movies[::, ::, 20:60, 20:60, ::]\n",
    "    shifted_movies = shifted_movies[::, ::, 20:60, 20:60, ::]\n",
    "    \n",
    "    # clipping\n",
    "    noisy_movies[noisy_movies >= 1] = 1\n",
    "    shifted_movies[shifted_movies >= 1] = 1\n",
    "    return noisy_movies, shifted_movies"
   ]
  },
  {
   "cell_type": "code",
   "execution_count": 6,
   "metadata": {},
   "outputs": [],
   "source": [
    "# generate data\n",
    "noisy_movies, shifted_movies = generate_movies(n_samples=1200)  # n_frames = 15"
   ]
  },
  {
   "cell_type": "code",
   "execution_count": 7,
   "metadata": {},
   "outputs": [
    {
     "data": {
      "text/plain": [
       "(40, 40, 1)"
      ]
     },
     "execution_count": 7,
     "metadata": {},
     "output_type": "execute_result"
    }
   ],
   "source": [
    "noisy_movies[0][0].shape"
   ]
  },
  {
   "cell_type": "code",
   "execution_count": 8,
   "metadata": {},
   "outputs": [
    {
     "data": {
      "text/plain": [
       "array([[ 0. ,  0. ,  0. ,  0. ,  0. ,  0. ,  0. ,  0. ,  0. ,  0. , -0.1,\n",
       "         0.9,  0.9,  0.9,  0.9,  0.9,  0.9, -0.1,  0. ,  0. ,  0. ,  0. ,\n",
       "         0. ,  0. ,  0. ,  0. ,  0. ,  0. ,  0. ,  0. ,  0. ,  0. ,  0. ,\n",
       "         0. ,  0. ,  0. ,  0. ,  0. ,  0. ,  0. ],\n",
       "       [ 0. ,  0. ,  0. ,  0. ,  0. ,  0. ,  0. ,  0. ,  0. ,  0. , -0.1,\n",
       "         0.9,  0.9,  0.9,  0.9,  0.9,  0.9, -0.1,  0. ,  0. ,  0. ,  0. ,\n",
       "         0. ,  0. ,  0. ,  0. ,  0. ,  0. ,  0. ,  0. ,  0. ,  0. ,  0. ,\n",
       "         0. ,  0. ,  0. ,  0. ,  0. ,  0. ,  0. ],\n",
       "       [ 0. ,  0. ,  0. ,  0. ,  0. ,  0. ,  0. ,  0. ,  0. ,  0. , -0.1,\n",
       "         0.9,  0.9,  0.9,  0.9,  0.9,  0.9, -0.1,  0. ,  0. ,  0. ,  0. ,\n",
       "         0. ,  0. ,  0. ,  0. ,  0. ,  0. ,  0. ,  0. ,  0. ,  0. ,  0. ,\n",
       "         0. ,  0. ,  0. ,  0. ,  0. ,  0. ,  0. ],\n",
       "       [ 0. ,  0. ,  0. ,  0. ,  0. ,  0. ,  0. ,  0. ,  0. ,  0. , -0.1,\n",
       "         0.9,  0.9,  0.9,  0.9,  0.9,  0.9, -0.1,  0. ,  0. ,  0. ,  0. ,\n",
       "         0. ,  0. ,  0. ,  0. ,  0. ,  0. ,  0. ,  0. ,  0. ,  0. ,  0. ,\n",
       "         0. ,  0. ,  0. ,  0. ,  0. ,  0. ,  0. ],\n",
       "       [ 0. ,  0. ,  0. ,  0. ,  0. ,  0. ,  0. ,  0. ,  0. ,  0. , -0.1,\n",
       "        -0.1, -0.1, -0.1, -0.1, -0.1, -0.1, -0.1,  0. ,  0. ,  0. ,  0. ,\n",
       "         0. ,  0. ,  0. ,  0. ,  0. ,  0. ,  0. ,  0. ,  0. ,  0. ,  0. ,\n",
       "         0. ,  0. ,  0. ,  0. ,  0. ,  0. ,  0. ],\n",
       "       [ 0. ,  0. ,  0. ,  0. ,  0. ,  0. ,  0. ,  0. ,  0. ,  0. ,  0. ,\n",
       "         0. ,  0. ,  0. ,  0. ,  0. ,  0. ,  0. ,  0. ,  0. ,  0. ,  0. ,\n",
       "         0. ,  0. ,  0. ,  0. ,  0. ,  0. ,  0. ,  0. ,  0. ,  0. ,  0. ,\n",
       "         0. ,  0. ,  0. ,  0. ,  0. ,  0. ,  0. ],\n",
       "       [ 0. ,  0. ,  0. ,  0. ,  0. ,  0. ,  0. ,  0. ,  0. ,  0. ,  0. ,\n",
       "         0. ,  0. ,  0. ,  0. ,  0. ,  0. ,  0. ,  0. ,  0. ,  0. ,  0. ,\n",
       "         0. ,  0. ,  0. ,  0. ,  0. ,  0. ,  0. ,  0. ,  0. ,  0. ,  0. ,\n",
       "         0. ,  0. ,  0. ,  0. ,  0. ,  0. ,  0. ],\n",
       "       [ 0. ,  0. ,  0. ,  0. ,  0. ,  0. ,  0. ,  0. ,  0. ,  0. ,  0. ,\n",
       "         0. ,  0. ,  0. ,  0. ,  0. ,  0. ,  0. ,  0. ,  0. ,  0. ,  0. ,\n",
       "         0. ,  0. ,  0. ,  0. ,  0. ,  0. ,  0. ,  0. ,  0. ,  0. ,  0. ,\n",
       "         0. ,  0. ,  0. ,  0. ,  0. ,  0. ,  0. ],\n",
       "       [ 0. ,  0. ,  0. ,  0. ,  0. ,  0. ,  0. ,  0. ,  0. ,  0. ,  0. ,\n",
       "         0. ,  0. ,  0. ,  0. ,  0. ,  0. ,  0. ,  0. ,  0. ,  0. ,  0. ,\n",
       "         0. ,  0. ,  0. ,  0. ,  0. ,  0. ,  0. ,  0. ,  0. ,  0. ,  0. ,\n",
       "         0. ,  0. ,  0. ,  0. ,  0. ,  0. ,  0. ],\n",
       "       [ 0. ,  0. ,  0. ,  0. ,  0. ,  0. ,  0. ,  0. ,  0. ,  0. ,  0. ,\n",
       "         0. ,  0. ,  0. ,  0. ,  0. ,  0. ,  0. ,  0. ,  0. ,  0. ,  0. ,\n",
       "         0. ,  0. ,  0. ,  0. ,  0. ,  0. ,  0. ,  0. ,  0. ,  0. ,  0. ,\n",
       "         0. ,  0. ,  0. ,  0. ,  0. ,  0. ,  0. ],\n",
       "       [ 0. ,  0. ,  0. ,  0. ,  0. ,  0. ,  0. ,  0. ,  0. ,  0. ,  0. ,\n",
       "         0. ,  0. ,  0. ,  0. ,  0. ,  0. ,  0. ,  0. ,  0. ,  0. ,  0. ,\n",
       "         0. ,  0. ,  0. ,  0. ,  0. ,  0. ,  0. ,  0. ,  0. ,  0. ,  0. ,\n",
       "         0. ,  0. ,  0. ,  0. ,  0. ,  0. ,  0. ],\n",
       "       [ 0. ,  0. ,  0. ,  0. ,  0. ,  0. ,  0. ,  0. ,  0. ,  0. ,  0. ,\n",
       "         0. ,  0. ,  0. ,  0. ,  0. ,  0. ,  0. ,  0. ,  0. ,  0. ,  0. ,\n",
       "         0. ,  0. ,  0. ,  0. ,  0. ,  0. ,  0. ,  0. ,  0. ,  0. ,  0. ,\n",
       "         0. ,  0. ,  0. ,  0. ,  0. ,  0. ,  0. ],\n",
       "       [ 0. ,  0. ,  0. ,  0. ,  0. ,  0. ,  0. ,  0. ,  0. ,  0. ,  0. ,\n",
       "         0. ,  0. ,  0. ,  0. ,  0. ,  0. ,  0. ,  0. ,  0. ,  0. ,  0. ,\n",
       "         0. ,  0. ,  0. ,  0. ,  0. ,  0. ,  0. ,  0. ,  0. ,  0. ,  0. ,\n",
       "         0. ,  0. ,  0. ,  0. ,  0. ,  0. ,  0. ],\n",
       "       [ 0. ,  0. ,  0. ,  0. ,  0. ,  0. ,  0. ,  0. ,  0. ,  0. ,  0. ,\n",
       "         0. ,  0. ,  0. ,  0. ,  0. ,  0. ,  0. ,  0. ,  0. ,  0. ,  0. ,\n",
       "         0. ,  0. ,  0. ,  0. ,  0. ,  0. ,  0. ,  0. ,  0. ,  0. ,  0. ,\n",
       "         0. ,  0. ,  0. ,  0. ,  0. ,  0. ,  0. ],\n",
       "       [ 0. ,  0. ,  0. ,  0. ,  0. ,  0. ,  0. ,  0. ,  0. ,  0. ,  0. ,\n",
       "         0. ,  0. ,  0. ,  0. ,  0. ,  0. ,  0. ,  0. ,  0. ,  0. ,  0. ,\n",
       "         0. ,  0. ,  0. ,  0. ,  0. ,  0. ,  0. ,  0. ,  0. ,  0. ,  0. ,\n",
       "         0. ,  0. ,  0. ,  0. ,  0. ,  0. ,  0. ],\n",
       "       [ 0. ,  0. ,  0. ,  0. ,  0. ,  0. ,  0. ,  0. ,  0. ,  0. ,  0. ,\n",
       "         0. ,  0. ,  0. ,  0. ,  0. ,  0. ,  0. ,  0. ,  0. ,  0. ,  0. ,\n",
       "         0. ,  0. ,  0. ,  0. ,  0. ,  0. ,  0. ,  0. ,  0. ,  0. ,  0. ,\n",
       "         0. ,  0. ,  0. ,  0. ,  0. ,  0. ,  0. ],\n",
       "       [ 0. ,  0. ,  0. ,  0. ,  0. ,  0. ,  0. ,  0. ,  0. ,  0. ,  0. ,\n",
       "         0. ,  0. ,  0. ,  0. ,  0. ,  0. ,  0. ,  0. ,  0. ,  0. ,  0. ,\n",
       "         0. ,  0. ,  0. ,  0. ,  0. ,  0. ,  0. ,  0. ,  0. ,  0. ,  0. ,\n",
       "         0. ,  0. ,  0. ,  0. ,  0. ,  0. ,  0. ],\n",
       "       [ 0. ,  0. ,  0. ,  0. ,  0. ,  0. ,  0. ,  0. ,  0. ,  0. ,  0. ,\n",
       "         0. ,  0. ,  0. ,  0. ,  0. ,  0. ,  0. ,  0. ,  0. ,  0. ,  0. ,\n",
       "         0. ,  0. ,  0. ,  0. ,  0. ,  0. ,  0. ,  0. ,  0. ,  0. ,  0. ,\n",
       "         0. ,  0. ,  0. ,  0. ,  0. ,  0. ,  0. ],\n",
       "       [ 0. ,  0. ,  0. ,  0. ,  0. ,  0. ,  0. ,  0. ,  0. ,  0. ,  0. ,\n",
       "         0. ,  0. ,  0. ,  0. ,  0. ,  0. ,  0. ,  0. ,  0. ,  0. ,  0. ,\n",
       "         0. ,  0. ,  0. ,  0. ,  0. ,  0. ,  0. ,  0. ,  0. ,  0. ,  0. ,\n",
       "         0. ,  0. ,  0. ,  0. ,  0. ,  0. ,  0. ],\n",
       "       [ 0. ,  0. ,  1. ,  1. ,  1. ,  1. ,  1. ,  1. ,  0. ,  0. ,  0. ,\n",
       "         0. ,  0. ,  0. ,  0. ,  0. ,  0. ,  0. ,  0. ,  0. ,  0. ,  0. ,\n",
       "         0. ,  0. ,  0. ,  0. ,  0. ,  0. ,  0. ,  0. ,  0. ,  0. ,  0. ,\n",
       "         0. ,  0. ,  0. ,  0. ,  0. ,  0. ,  0. ],\n",
       "       [ 0. ,  0. ,  1. ,  1. ,  1. ,  1. ,  1. ,  1. ,  0. ,  0. ,  0. ,\n",
       "         0. ,  0. ,  0. ,  0. ,  0. ,  0. ,  0. ,  0. ,  0. ,  0. ,  0. ,\n",
       "         0. ,  0. ,  0. ,  0. ,  0. ,  0. ,  0. ,  0. ,  0. ,  0. ,  0. ,\n",
       "         0. ,  0. ,  0. ,  0. ,  0. ,  0. ,  0. ],\n",
       "       [ 0. ,  0. ,  1. ,  1. ,  1. ,  1. ,  1. ,  1. ,  0. ,  0. ,  0. ,\n",
       "         0. ,  0. ,  0. ,  0. ,  0. ,  0. ,  0. ,  0. ,  0. ,  0. ,  0. ,\n",
       "         0. ,  0. ,  0. ,  0. ,  0. ,  0. ,  0. ,  0. ,  0. ,  0. ,  0. ,\n",
       "         0. ,  0. ,  0. ,  0. ,  0. ,  0. ,  0. ],\n",
       "       [ 0. ,  0. ,  1. ,  1. ,  1. ,  1. ,  1. ,  1. ,  0. ,  0. ,  0. ,\n",
       "         0. ,  0. ,  0. ,  0. ,  0. ,  0. ,  0. ,  0. ,  0. ,  0. ,  0. ,\n",
       "         0. ,  0. ,  0. ,  0. ,  0. ,  0. ,  0. ,  0. ,  0. ,  0. ,  0. ,\n",
       "         0. ,  0. ,  0. ,  0. ,  0. ,  0. ,  0. ],\n",
       "       [ 0. ,  0. ,  1. ,  1. ,  1. ,  1. ,  1. ,  1. ,  0. ,  0. ,  0. ,\n",
       "         0. ,  0. ,  0. ,  0. ,  0. ,  0. ,  0. ,  0. ,  0. ,  0. ,  0. ,\n",
       "         0. ,  0. ,  0. ,  0. ,  0. ,  0. ,  0. ,  0. ,  0. ,  0. ,  0. ,\n",
       "         0. ,  0. ,  0. ,  0. ,  0. ,  0. ,  0. ],\n",
       "       [ 0. ,  0. ,  1. ,  1. ,  1. ,  1. ,  1. ,  1. ,  0. ,  0. ,  0. ,\n",
       "         0. ,  0. ,  0. ,  0. ,  0. ,  0. ,  0. ,  0. ,  0. ,  0. ,  0. ,\n",
       "         0. ,  0. ,  0. ,  0. ,  0. ,  0. ,  0. ,  0. ,  0. ,  0. ,  0. ,\n",
       "         0. ,  0. ,  0. ,  0. ,  0. ,  0. ,  0. ],\n",
       "       [ 0. ,  0. ,  1. ,  1. ,  1. ,  1. ,  0. ,  0. ,  0. ,  0. ,  0. ,\n",
       "         0. ,  0. ,  0. ,  0. ,  0. ,  0. ,  0. ,  0. ,  0. ,  0. ,  0. ,\n",
       "         0. ,  0. ,  0. ,  0. ,  0. ,  0. ,  0. ,  0. ,  0. ,  0. ,  0. ,\n",
       "         0. ,  0. ,  0. ,  0. ,  0. ,  0. ,  0. ],\n",
       "       [ 0. ,  0. ,  0. ,  0. ,  0. ,  0. ,  0. ,  0. ,  0. ,  0. ,  0. ,\n",
       "         0. ,  0. ,  0. ,  0. ,  0. ,  0. ,  0. ,  0. ,  0. ,  0. ,  0. ,\n",
       "         0. ,  0. ,  0. ,  0. ,  0. ,  0. ,  0. ,  0. ,  0. ,  0. ,  0. ,\n",
       "         0. ,  0. ,  0. ,  0. ,  0. ,  0. ,  0. ],\n",
       "       [ 0. ,  0. ,  0. ,  0. ,  0. ,  0. ,  0. ,  0. ,  0. ,  0. ,  0. ,\n",
       "         0. ,  0. ,  0. ,  0. ,  0. ,  0. ,  0. ,  0. ,  0. ,  0. ,  0. ,\n",
       "         0. ,  0. ,  0. ,  0. ,  0. ,  0. ,  0. ,  0. ,  0. ,  0. ,  0. ,\n",
       "         0. ,  0. ,  0. ,  0. ,  0. ,  0. ,  0. ],\n",
       "       [ 0. ,  0. ,  0. ,  0. ,  0. ,  0. ,  0. ,  0. ,  0. ,  0. ,  0. ,\n",
       "         0. ,  0. ,  0. ,  0. ,  0. ,  0. ,  0. ,  0. ,  0. ,  0. ,  0. ,\n",
       "         0. ,  0. ,  0. ,  0. ,  0. ,  0. ,  0. ,  0. ,  0. ,  0. ,  0. ,\n",
       "         0. ,  0. ,  0. ,  0. ,  0. ,  0. ,  0. ],\n",
       "       [ 0. ,  0. ,  0. ,  0. ,  0. ,  0. ,  0. ,  0. ,  0. ,  0. ,  0. ,\n",
       "         0. ,  0. ,  0. ,  0. ,  0. ,  0. ,  0. ,  0. ,  0. ,  0. ,  0. ,\n",
       "         0. ,  0. ,  0. ,  0. ,  0. ,  0. ,  0. ,  0. ,  0. ,  0. ,  0. ,\n",
       "         0. ,  0. ,  0. ,  0. ,  0. ,  0. ,  0. ],\n",
       "       [ 0. ,  0. ,  0. ,  0. ,  0. ,  0. ,  0. ,  0. ,  0. ,  0. ,  0. ,\n",
       "         0. ,  0. ,  0. ,  0. ,  0. ,  0. ,  0. ,  0. ,  0. ,  0. ,  0. ,\n",
       "         0. ,  0. ,  0. ,  0. ,  0. ,  0. ,  0. ,  0. ,  0. ,  0. ,  0. ,\n",
       "         0. ,  0. ,  0. ,  0. ,  0. ,  0. ,  0. ],\n",
       "       [ 0. ,  0. ,  0. ,  0. ,  0. ,  0. ,  0. ,  0. ,  0. ,  0. ,  0. ,\n",
       "         0. ,  0. ,  0. ,  0. ,  0. ,  0. ,  0. ,  0. ,  0. ,  0. ,  0. ,\n",
       "         0. ,  0. ,  0. ,  0. ,  0. ,  0. ,  0. ,  0. ,  0. ,  0. ,  0. ,\n",
       "         0. ,  0. ,  0. ,  0. ,  0. ,  0. ,  0. ],\n",
       "       [ 0. ,  0. ,  0. ,  0. ,  0. ,  0. ,  0. ,  0. ,  0. ,  0. ,  0. ,\n",
       "         0. ,  0. ,  0. ,  0. ,  0. ,  0. ,  0. ,  0. ,  0. ,  0. ,  0. ,\n",
       "         0. ,  0. ,  0. ,  0. ,  0. ,  0. ,  0. ,  0. ,  0. ,  0. ,  0. ,\n",
       "         0. ,  0. ,  0. ,  0. ,  0. ,  0. ,  0. ],\n",
       "       [ 0. ,  0. ,  0. ,  0. ,  0. ,  0. ,  0. ,  0. ,  0. ,  0. ,  0. ,\n",
       "         0. ,  0. ,  0. ,  0. ,  0. ,  0. ,  0. ,  0. ,  0. ,  0. ,  0. ,\n",
       "         0. ,  0. ,  0. ,  0. ,  0. ,  0. ,  0. ,  0. ,  0. ,  0. ,  0. ,\n",
       "         0. ,  0. ,  0. ,  0. ,  0. ,  0. ,  0. ],\n",
       "       [ 0. ,  0. ,  0. ,  0. ,  0. ,  0. ,  0. ,  0. ,  0. ,  0. ,  0. ,\n",
       "         0. ,  0. ,  0. ,  0. ,  0. ,  0. ,  0. ,  0. ,  0. ,  0. ,  0. ,\n",
       "         0. ,  0. ,  0. ,  0. ,  0. ,  0. ,  0. ,  0. ,  0. ,  0. ,  0. ,\n",
       "         0. ,  0. ,  0. ,  0. ,  0. ,  0. ,  0. ],\n",
       "       [ 0. ,  0. ,  0. ,  0. ,  0. ,  0. ,  0. ,  0. ,  0. ,  0. ,  0. ,\n",
       "         0. ,  0. ,  0. ,  0. ,  0. ,  0. ,  0. ,  0. ,  0. ,  0. ,  0. ,\n",
       "         0. ,  0. ,  0. ,  0. ,  0. ,  0. ,  0. ,  0. ,  0. ,  0. ,  0. ,\n",
       "         0. ,  0. ,  0. ,  0. ,  0. ,  0. ,  0. ],\n",
       "       [ 0. ,  0. ,  0. ,  0. ,  0. ,  0. ,  0. ,  0. ,  0. ,  0. ,  0. ,\n",
       "         0. ,  0. ,  0. ,  0. ,  0. ,  0. ,  0. ,  0. ,  0. ,  0. ,  0. ,\n",
       "         0. ,  0. ,  0. ,  0. ,  0. ,  0. ,  0. ,  0. ,  0. ,  0. ,  0. ,\n",
       "         0. ,  0. ,  0. ,  0. ,  0. ,  0. ,  0. ],\n",
       "       [ 0. ,  0. ,  0. ,  0. ,  0. ,  0. ,  0. ,  0. ,  0. ,  0. ,  0. ,\n",
       "         0. ,  0. ,  0. ,  0. ,  0. ,  0. ,  0. ,  0. ,  0. ,  0. ,  0. ,\n",
       "         0. ,  0. ,  0. ,  0. ,  0. ,  0. ,  0. ,  0. ,  0. ,  0. ,  0. ,\n",
       "         0. ,  0. ,  0. ,  0. ,  0. ,  0. ,  0. ],\n",
       "       [ 0. ,  0. ,  0. ,  0. ,  0. ,  0. ,  0. ,  0. ,  0. ,  0. ,  0. ,\n",
       "         0. ,  0. ,  0. ,  0. ,  0. ,  0. ,  0. ,  0. ,  0. ,  0. ,  0. ,\n",
       "         0. ,  0. ,  0. ,  0. ,  0. ,  0. ,  0. ,  0. ,  0. ,  0. ,  0. ,\n",
       "         0. ,  0. ,  0. ,  0. ,  0. ,  0. ,  0. ],\n",
       "       [ 0. ,  0. ,  0. ,  0. ,  0. ,  0. ,  0. ,  0. ,  0. ,  0. ,  0. ,\n",
       "         0. ,  0. ,  0. ,  0. ,  0. ,  0. ,  0. ,  0. ,  0. ,  0. ,  0. ,\n",
       "         0. ,  0. ,  0. ,  0. ,  0. ,  0. ,  0. ,  0. ,  0. ,  0. ,  0. ,\n",
       "         0. ,  0. ,  0. ,  0. ,  0. ,  0. ,  0. ]])"
      ]
     },
     "execution_count": 8,
     "metadata": {},
     "output_type": "execute_result"
    }
   ],
   "source": [
    "np.set_printoptions(threshold=np.inf)\n",
    "noisy_movies[0][0][:,:,0]"
   ]
  },
  {
   "cell_type": "code",
   "execution_count": 9,
   "metadata": {},
   "outputs": [
    {
     "data": {
      "text/plain": [
       "<matplotlib.image.AxesImage at 0x7f582d179b70>"
      ]
     },
     "execution_count": 9,
     "metadata": {},
     "output_type": "execute_result"
    },
    {
     "data": {
      "image/png": "[encoded data removed]",
      "text/plain": [
       "<Figure size 432x288 with 1 Axes>"
      ]
     },
     "metadata": {
      "needs_background": "light"
     },
     "output_type": "display_data"
    }
   ],
   "source": [
    "# plt.imshow(noisy_movies[0][0], cmap='gray', vmin=0, vmax=255)\n",
    "# plt.show()\n",
    "\n",
    "plt.imshow(noisy_movies[0][0].reshape(40,40), cmap=plt.get_cmap('gray'))"
   ]
  },
  {
   "cell_type": "code",
   "execution_count": 10,
   "metadata": {},
   "outputs": [
    {
     "data": {
      "text/plain": [
       "<matplotlib.image.AxesImage at 0x7f582c896470>"
      ]
     },
     "execution_count": 10,
     "metadata": {},
     "output_type": "execute_result"
    },
    {
     "data": {
      "image/png": "[encoded data removed]",
      "text/plain": [
       "<Figure size 432x288 with 1 Axes>"
      ]
     },
     "metadata": {
      "needs_background": "light"
     },
     "output_type": "display_data"
    }
   ],
   "source": [
    "plt.imshow(shifted_movies[0][1].reshape(40,40), cmap=plt.get_cmap('gray'))"
   ]
  },
  {
   "cell_type": "code",
   "execution_count": 4,
   "metadata": {},
   "outputs": [
    {
     "name": "stdout",
     "output_type": "stream",
     "text": [
      "Train on 950 samples, validate on 50 samples\n",
      "Epoch 1/300\n",
      "950/950 [==============================] - 32s 33ms/step - loss: 0.2379 - val_loss: 0.1487\n",
      "Epoch 2/300\n",
      "950/950 [==============================] - 27s 29ms/step - loss: 0.0199 - val_loss: 0.0085\n",
      "Epoch 3/300\n",
      "950/950 [==============================] - 27s 28ms/step - loss: 0.0033 - val_loss: 0.0024\n",
      "Epoch 4/300\n",
      "950/950 [==============================] - 27s 28ms/step - loss: 0.0012 - val_loss: 0.0010\n",
      "Epoch 5/300\n",
      "950/950 [==============================] - 27s 29ms/step - loss: 7.3965e-04 - val_loss: 6.8323e-04\n",
      "Epoch 6/300\n",
      "950/950 [==============================] - 27s 29ms/step - loss: 5.6602e-04 - val_loss: 5.3474e-04\n",
      "Epoch 7/300\n",
      "950/950 [==============================] - 27s 29ms/step - loss: 4.6738e-04 - val_loss: 4.9350e-04\n",
      "Epoch 8/300\n",
      "950/950 [==============================] - 27s 29ms/step - loss: 3.9590e-04 - val_loss: 4.0058e-04\n",
      "Epoch 9/300\n",
      "950/950 [==============================] - 27s 29ms/step - loss: 3.4464e-04 - val_loss: 3.7851e-04\n",
      "Epoch 10/300\n",
      "950/950 [==============================] - 27s 28ms/step - loss: 3.1539e-04 - val_loss: 3.3419e-04\n",
      "Epoch 11/300\n",
      "950/950 [==============================] - 27s 29ms/step - loss: 2.8294e-04 - val_loss: 3.3864e-04\n",
      "Epoch 12/300\n",
      "950/950 [==============================] - 27s 29ms/step - loss: 2.5970e-04 - val_loss: 2.9124e-04\n",
      "Epoch 13/300\n",
      "950/950 [==============================] - 27s 29ms/step - loss: 2.4160e-04 - val_loss: 2.7273e-04\n",
      "Epoch 14/300\n",
      "950/950 [==============================] - 27s 29ms/step - loss: 2.2464e-04 - val_loss: 2.7926e-04\n",
      "Epoch 15/300\n",
      "950/950 [==============================] - 27s 29ms/step - loss: 2.1045e-04 - val_loss: 2.4997e-04\n",
      "Epoch 16/300\n",
      "950/950 [==============================] - 27s 29ms/step - loss: 1.9977e-04 - val_loss: 2.4210e-04\n",
      "Epoch 17/300\n",
      "950/950 [==============================] - 27s 29ms/step - loss: 1.8953e-04 - val_loss: 2.3334e-04\n",
      "Epoch 18/300\n",
      "950/950 [==============================] - 27s 29ms/step - loss: 1.7856e-04 - val_loss: 2.4649e-04\n",
      "Epoch 19/300\n",
      "950/950 [==============================] - 27s 29ms/step - loss: 1.7173e-04 - val_loss: 2.2659e-04\n",
      "Epoch 20/300\n",
      "950/950 [==============================] - 27s 29ms/step - loss: 1.6603e-04 - val_loss: 2.2156e-04\n",
      "Epoch 21/300\n",
      "950/950 [==============================] - 27s 29ms/step - loss: 1.5618e-04 - val_loss: 2.0950e-04\n",
      "Epoch 22/300\n",
      "950/950 [==============================] - 27s 29ms/step - loss: 1.5091e-04 - val_loss: 2.1233e-04\n",
      "Epoch 23/300\n",
      "950/950 [==============================] - 27s 29ms/step - loss: 1.4328e-04 - val_loss: 2.0155e-04\n",
      "Epoch 24/300\n",
      "950/950 [==============================] - 27s 29ms/step - loss: 1.3956e-04 - val_loss: 2.0429e-04\n",
      "Epoch 25/300\n",
      "950/950 [==============================] - 27s 29ms/step - loss: 1.3429e-04 - val_loss: 1.9097e-04\n",
      "Epoch 26/300\n",
      "950/950 [==============================] - 27s 29ms/step - loss: 1.2934e-04 - val_loss: 1.9462e-04\n",
      "Epoch 27/300\n",
      "950/950 [==============================] - 27s 29ms/step - loss: 1.2513e-04 - val_loss: 1.9476e-04\n",
      "Epoch 28/300\n",
      "950/950 [==============================] - 27s 29ms/step - loss: 1.2301e-04 - val_loss: 1.8250e-04\n",
      "Epoch 29/300\n",
      "950/950 [==============================] - 27s 29ms/step - loss: 1.1738e-04 - val_loss: 1.8104e-04\n",
      "Epoch 30/300\n",
      "950/950 [==============================] - 27s 29ms/step - loss: 1.1392e-04 - val_loss: 1.7845e-04\n",
      "Epoch 31/300\n",
      "950/950 [==============================] - 27s 29ms/step - loss: 1.0952e-04 - val_loss: 1.7651e-04\n",
      "Epoch 32/300\n",
      "950/950 [==============================] - 27s 29ms/step - loss: 1.0659e-04 - val_loss: 1.8442e-04\n",
      "Epoch 33/300\n",
      "950/950 [==============================] - 27s 29ms/step - loss: 1.0366e-04 - val_loss: 1.7717e-04\n",
      "Epoch 34/300\n",
      "950/950 [==============================] - 27s 29ms/step - loss: 1.0092e-04 - val_loss: 1.7217e-04\n",
      "Epoch 35/300\n",
      "950/950 [==============================] - 27s 29ms/step - loss: 9.7667e-05 - val_loss: 1.6738e-04\n",
      "Epoch 36/300\n",
      "950/950 [==============================] - 27s 29ms/step - loss: 9.4699e-05 - val_loss: 1.6365e-04\n",
      "Epoch 37/300\n",
      "950/950 [==============================] - 27s 29ms/step - loss: 9.2190e-05 - val_loss: 1.8452e-04\n",
      "Epoch 38/300\n",
      "950/950 [==============================] - 27s 29ms/step - loss: 9.0162e-05 - val_loss: 1.6913e-04\n",
      "Epoch 39/300\n",
      "950/950 [==============================] - 27s 29ms/step - loss: 8.7256e-05 - val_loss: 1.9038e-04\n",
      "Epoch 40/300\n",
      "950/950 [==============================] - 27s 29ms/step - loss: 8.6328e-05 - val_loss: 1.6605e-04\n",
      "Epoch 41/300\n",
      "950/950 [==============================] - 27s 29ms/step - loss: 8.3454e-05 - val_loss: 1.5759e-04\n",
      "Epoch 42/300\n",
      "950/950 [==============================] - 27s 29ms/step - loss: 8.0067e-05 - val_loss: 1.5448e-04\n",
      "Epoch 43/300\n",
      "950/950 [==============================] - 27s 29ms/step - loss: 7.8266e-05 - val_loss: 1.5359e-04\n",
      "Epoch 44/300\n",
      "950/950 [==============================] - 27s 29ms/step - loss: 7.6244e-05 - val_loss: 1.5785e-04\n",
      "Epoch 45/300\n",
      "950/950 [==============================] - 27s 29ms/step - loss: 7.4653e-05 - val_loss: 1.8441e-04\n",
      "Epoch 46/300\n",
      "950/950 [==============================] - 27s 29ms/step - loss: 7.2999e-05 - val_loss: 1.5967e-04\n",
      "Epoch 47/300\n",
      "950/950 [==============================] - 27s 29ms/step - loss: 7.1434e-05 - val_loss: 1.5873e-04\n",
      "Epoch 48/300\n",
      "950/950 [==============================] - 27s 29ms/step - loss: 6.9265e-05 - val_loss: 1.5457e-04\n",
      "Epoch 49/300\n",
      "950/950 [==============================] - 27s 29ms/step - loss: 6.8094e-05 - val_loss: 1.6012e-04\n",
      "Epoch 50/300\n",
      "950/950 [==============================] - 27s 29ms/step - loss: 6.8208e-05 - val_loss: 1.5573e-04\n",
      "Epoch 51/300\n",
      "950/950 [==============================] - 27s 29ms/step - loss: 6.5611e-05 - val_loss: 1.5122e-04\n",
      "Epoch 52/300\n",
      "950/950 [==============================] - 27s 29ms/step - loss: 6.5417e-05 - val_loss: 1.5515e-04\n",
      "Epoch 53/300\n",
      "950/950 [==============================] - 27s 29ms/step - loss: 6.1600e-05 - val_loss: 1.5153e-04\n",
      "Epoch 54/300\n",
      "950/950 [==============================] - 27s 29ms/step - loss: 6.0746e-05 - val_loss: 1.6001e-04\n",
      "Epoch 55/300\n",
      "950/950 [==============================] - 27s 29ms/step - loss: 5.8189e-05 - val_loss: 1.5086e-04\n",
      "Epoch 56/300\n",
      "950/950 [==============================] - 27s 29ms/step - loss: 5.7555e-05 - val_loss: 1.5365e-04\n",
      "Epoch 57/300\n",
      "950/950 [==============================] - 27s 29ms/step - loss: 5.6531e-05 - val_loss: 1.4842e-04\n",
      "Epoch 58/300\n",
      "950/950 [==============================] - 27s 29ms/step - loss: 5.4969e-05 - val_loss: 1.4978e-04\n",
      "Epoch 59/300\n",
      "950/950 [==============================] - 27s 29ms/step - loss: 5.4595e-05 - val_loss: 1.5011e-04\n",
      "Epoch 60/300\n",
      "950/950 [==============================] - 27s 29ms/step - loss: 5.2908e-05 - val_loss: 1.5458e-04\n",
      "Epoch 61/300\n",
      "950/950 [==============================] - 27s 29ms/step - loss: 5.2487e-05 - val_loss: 1.4346e-04\n",
      "Epoch 62/300\n",
      "950/950 [==============================] - 27s 29ms/step - loss: 5.0587e-05 - val_loss: 1.4309e-04\n",
      "Epoch 63/300\n",
      "950/950 [==============================] - 27s 29ms/step - loss: 4.9296e-05 - val_loss: 1.4252e-04\n",
      "Epoch 64/300\n",
      "950/950 [==============================] - 27s 29ms/step - loss: 4.7637e-05 - val_loss: 1.6779e-04\n",
      "Epoch 65/300\n",
      "950/950 [==============================] - 27s 29ms/step - loss: 4.7790e-05 - val_loss: 1.4938e-04\n",
      "Epoch 66/300\n",
      "950/950 [==============================] - 27s 29ms/step - loss: 4.6662e-05 - val_loss: 1.5575e-04\n",
      "Epoch 67/300\n",
      "950/950 [==============================] - 27s 29ms/step - loss: 4.5116e-05 - val_loss: 1.4574e-04\n",
      "Epoch 68/300\n",
      "950/950 [==============================] - 27s 29ms/step - loss: 4.4677e-05 - val_loss: 1.4370e-04\n",
      "Epoch 69/300\n",
      "950/950 [==============================] - 27s 29ms/step - loss: 4.3181e-05 - val_loss: 1.6136e-04\n",
      "Epoch 70/300\n",
      "950/950 [==============================] - 27s 29ms/step - loss: 4.3520e-05 - val_loss: 1.6824e-04\n",
      "Epoch 71/300\n",
      "950/950 [==============================] - 27s 29ms/step - loss: 4.1318e-05 - val_loss: 1.5092e-04\n",
      "Epoch 72/300\n",
      "950/950 [==============================] - 27s 29ms/step - loss: 4.0537e-05 - val_loss: 1.4441e-04\n",
      "Epoch 73/300\n",
      "950/950 [==============================] - 27s 29ms/step - loss: 4.0521e-05 - val_loss: 1.4820e-04\n",
      "Epoch 74/300\n"
     ]
    },
    {
     "name": "stdout",
     "output_type": "stream",
     "text": [
      "950/950 [==============================] - 27s 29ms/step - loss: 3.7914e-05 - val_loss: 1.5751e-04\n",
      "Epoch 75/300\n",
      "950/950 [==============================] - 27s 29ms/step - loss: 3.7662e-05 - val_loss: 1.5174e-04\n",
      "Epoch 76/300\n",
      "950/950 [==============================] - 27s 29ms/step - loss: 3.6927e-05 - val_loss: 1.4793e-04\n",
      "Epoch 77/300\n",
      "950/950 [==============================] - 27s 29ms/step - loss: 3.7008e-05 - val_loss: 1.4023e-04\n",
      "Epoch 78/300\n",
      "950/950 [==============================] - 27s 29ms/step - loss: 3.5861e-05 - val_loss: 1.5237e-04\n",
      "Epoch 79/300\n",
      "950/950 [==============================] - 27s 29ms/step - loss: 3.5540e-05 - val_loss: 1.4791e-04\n",
      "Epoch 80/300\n",
      "950/950 [==============================] - 27s 29ms/step - loss: 3.4342e-05 - val_loss: 1.4756e-04\n",
      "Epoch 81/300\n",
      "950/950 [==============================] - 27s 29ms/step - loss: 3.2350e-05 - val_loss: 1.5014e-04\n",
      "Epoch 82/300\n",
      "950/950 [==============================] - 27s 29ms/step - loss: 3.1344e-05 - val_loss: 1.4799e-04\n",
      "Epoch 83/300\n",
      "950/950 [==============================] - 27s 29ms/step - loss: 3.1726e-05 - val_loss: 1.4270e-04\n",
      "Epoch 84/300\n",
      "950/950 [==============================] - 27s 29ms/step - loss: 3.1359e-05 - val_loss: 1.4828e-04\n",
      "Epoch 85/300\n",
      "950/950 [==============================] - 27s 29ms/step - loss: 3.2098e-05 - val_loss: 1.4481e-04\n",
      "Epoch 86/300\n",
      "950/950 [==============================] - 27s 29ms/step - loss: 2.9690e-05 - val_loss: 1.4295e-04\n",
      "Epoch 87/300\n",
      "950/950 [==============================] - 27s 29ms/step - loss: 2.9181e-05 - val_loss: 1.4934e-04\n",
      "Epoch 88/300\n",
      "950/950 [==============================] - 27s 29ms/step - loss: 2.8798e-05 - val_loss: 1.4982e-04\n",
      "Epoch 89/300\n",
      "950/950 [==============================] - 27s 29ms/step - loss: 2.7050e-05 - val_loss: 1.4934e-04\n",
      "Epoch 90/300\n",
      "950/950 [==============================] - 27s 29ms/step - loss: 2.6652e-05 - val_loss: 1.5147e-04\n",
      "Epoch 91/300\n",
      "950/950 [==============================] - 27s 29ms/step - loss: 2.7643e-05 - val_loss: 1.4988e-04\n",
      "Epoch 92/300\n",
      "950/950 [==============================] - 27s 29ms/step - loss: 2.5751e-05 - val_loss: 1.4820e-04\n",
      "Epoch 93/300\n",
      "950/950 [==============================] - 27s 29ms/step - loss: 2.5556e-05 - val_loss: 1.4937e-04\n",
      "Epoch 94/300\n",
      "950/950 [==============================] - 27s 29ms/step - loss: 2.5450e-05 - val_loss: 1.4083e-04\n",
      "Epoch 95/300\n",
      "950/950 [==============================] - 27s 29ms/step - loss: 2.4779e-05 - val_loss: 1.5427e-04\n",
      "Epoch 96/300\n",
      "950/950 [==============================] - 27s 29ms/step - loss: 2.4468e-05 - val_loss: 1.4476e-04\n",
      "Epoch 97/300\n",
      "950/950 [==============================] - 27s 29ms/step - loss: 2.5068e-05 - val_loss: 1.4175e-04\n",
      "Epoch 98/300\n",
      "950/950 [==============================] - 27s 29ms/step - loss: 2.3446e-05 - val_loss: 1.5573e-04\n",
      "Epoch 99/300\n",
      "950/950 [==============================] - 27s 29ms/step - loss: 2.3944e-05 - val_loss: 1.5956e-04\n",
      "Epoch 100/300\n",
      "950/950 [==============================] - 27s 29ms/step - loss: 2.2888e-05 - val_loss: 1.5257e-04\n",
      "Epoch 101/300\n",
      "950/950 [==============================] - 27s 29ms/step - loss: 2.2221e-05 - val_loss: 1.4617e-04\n",
      "Epoch 102/300\n",
      "950/950 [==============================] - 27s 29ms/step - loss: 2.1346e-05 - val_loss: 1.4740e-04\n",
      "Epoch 103/300\n",
      "950/950 [==============================] - 27s 29ms/step - loss: 2.1805e-05 - val_loss: 1.7304e-04\n",
      "Epoch 104/300\n",
      "950/950 [==============================] - 27s 29ms/step - loss: 2.1023e-05 - val_loss: 1.4919e-04\n",
      "Epoch 105/300\n",
      "950/950 [==============================] - 27s 29ms/step - loss: 2.0595e-05 - val_loss: 1.5139e-04\n",
      "Epoch 106/300\n",
      "950/950 [==============================] - 27s 29ms/step - loss: 2.0322e-05 - val_loss: 1.5886e-04\n",
      "Epoch 107/300\n",
      "950/950 [==============================] - 27s 29ms/step - loss: 1.9437e-05 - val_loss: 1.5714e-04\n",
      "Epoch 108/300\n",
      "950/950 [==============================] - 27s 29ms/step - loss: 1.9497e-05 - val_loss: 1.4953e-04\n",
      "Epoch 109/300\n",
      "950/950 [==============================] - 27s 29ms/step - loss: 1.8982e-05 - val_loss: 1.4565e-04\n",
      "Epoch 110/300\n",
      "950/950 [==============================] - 27s 29ms/step - loss: 1.8504e-05 - val_loss: 1.4678e-04\n",
      "Epoch 111/300\n",
      "950/950 [==============================] - 27s 29ms/step - loss: 1.7940e-05 - val_loss: 1.4775e-04\n",
      "Epoch 112/300\n",
      "950/950 [==============================] - 27s 29ms/step - loss: 1.8351e-05 - val_loss: 1.6043e-04\n",
      "Epoch 113/300\n",
      "950/950 [==============================] - 27s 29ms/step - loss: 1.7202e-05 - val_loss: 1.4948e-04\n",
      "Epoch 114/300\n",
      "950/950 [==============================] - 27s 29ms/step - loss: 1.7009e-05 - val_loss: 1.5265e-04\n",
      "Epoch 115/300\n",
      "950/950 [==============================] - 27s 29ms/step - loss: 1.7444e-05 - val_loss: 1.4899e-04\n",
      "Epoch 116/300\n",
      "950/950 [==============================] - 27s 29ms/step - loss: 1.6586e-05 - val_loss: 1.5057e-04\n",
      "Epoch 117/300\n",
      "950/950 [==============================] - 27s 29ms/step - loss: 1.6390e-05 - val_loss: 1.6135e-04\n",
      "Epoch 118/300\n",
      "950/950 [==============================] - 27s 29ms/step - loss: 1.6052e-05 - val_loss: 1.6967e-04\n",
      "Epoch 119/300\n",
      "950/950 [==============================] - 27s 29ms/step - loss: 1.6385e-05 - val_loss: 1.5979e-04\n",
      "Epoch 120/300\n",
      "950/950 [==============================] - 27s 29ms/step - loss: 1.5523e-05 - val_loss: 1.5016e-04\n",
      "Epoch 121/300\n",
      "950/950 [==============================] - 27s 29ms/step - loss: 1.6207e-05 - val_loss: 1.5822e-04\n",
      "Epoch 122/300\n",
      "950/950 [==============================] - 27s 29ms/step - loss: 1.5101e-05 - val_loss: 1.5159e-04\n",
      "Epoch 123/300\n",
      "950/950 [==============================] - 27s 29ms/step - loss: 1.5753e-05 - val_loss: 1.5369e-04\n",
      "Epoch 124/300\n",
      "950/950 [==============================] - 27s 29ms/step - loss: 1.4295e-05 - val_loss: 1.5270e-04\n",
      "Epoch 125/300\n",
      "950/950 [==============================] - 27s 29ms/step - loss: 1.3556e-05 - val_loss: 1.5526e-04\n",
      "Epoch 126/300\n",
      "950/950 [==============================] - 27s 29ms/step - loss: 1.3849e-05 - val_loss: 1.5047e-04\n",
      "Epoch 127/300\n",
      "950/950 [==============================] - 27s 29ms/step - loss: 1.3969e-05 - val_loss: 1.6230e-04\n",
      "Epoch 128/300\n",
      "950/950 [==============================] - 27s 29ms/step - loss: 1.3665e-05 - val_loss: 1.4811e-04\n",
      "Epoch 129/300\n",
      "950/950 [==============================] - 27s 29ms/step - loss: 1.3354e-05 - val_loss: 1.6206e-04\n",
      "Epoch 130/300\n",
      "950/950 [==============================] - 27s 29ms/step - loss: 1.3634e-05 - val_loss: 1.5259e-04\n",
      "Epoch 131/300\n",
      "950/950 [==============================] - 27s 29ms/step - loss: 1.2522e-05 - val_loss: 1.5540e-04\n",
      "Epoch 132/300\n",
      "950/950 [==============================] - 27s 29ms/step - loss: 1.2923e-05 - val_loss: 1.5421e-04\n",
      "Epoch 133/300\n",
      "950/950 [==============================] - 27s 29ms/step - loss: 1.2399e-05 - val_loss: 1.5131e-04\n",
      "Epoch 134/300\n",
      "950/950 [==============================] - 27s 29ms/step - loss: 1.2573e-05 - val_loss: 1.5375e-04\n",
      "Epoch 135/300\n",
      "950/950 [==============================] - 27s 29ms/step - loss: 1.2226e-05 - val_loss: 1.5217e-04\n",
      "Epoch 136/300\n",
      "950/950 [==============================] - 27s 29ms/step - loss: 1.2145e-05 - val_loss: 1.5485e-04\n",
      "Epoch 137/300\n",
      "950/950 [==============================] - 27s 29ms/step - loss: 1.1933e-05 - val_loss: 1.5324e-04\n",
      "Epoch 138/300\n",
      "950/950 [==============================] - 27s 29ms/step - loss: 1.1680e-05 - val_loss: 1.5799e-04\n",
      "Epoch 139/300\n",
      "950/950 [==============================] - 27s 29ms/step - loss: 1.1885e-05 - val_loss: 1.5510e-04\n",
      "Epoch 140/300\n",
      "950/950 [==============================] - 27s 29ms/step - loss: 1.1291e-05 - val_loss: 1.5976e-04\n",
      "Epoch 141/300\n",
      "950/950 [==============================] - 27s 29ms/step - loss: 1.1078e-05 - val_loss: 1.5678e-04\n",
      "Epoch 142/300\n",
      "950/950 [==============================] - 27s 29ms/step - loss: 1.1057e-05 - val_loss: 1.5497e-04\n",
      "Epoch 143/300\n",
      "950/950 [==============================] - 27s 29ms/step - loss: 1.0709e-05 - val_loss: 1.5987e-04\n",
      "Epoch 144/300\n",
      "950/950 [==============================] - 27s 29ms/step - loss: 1.0757e-05 - val_loss: 1.5632e-04\n",
      "Epoch 145/300\n",
      "950/950 [==============================] - 27s 29ms/step - loss: 1.0371e-05 - val_loss: 1.5673e-04\n",
      "Epoch 146/300\n",
      "950/950 [==============================] - 27s 29ms/step - loss: 1.0644e-05 - val_loss: 1.5537e-04\n"
     ]
    },
    {
     "name": "stdout",
     "output_type": "stream",
     "text": [
      "Epoch 147/300\n",
      "950/950 [==============================] - 27s 29ms/step - loss: 1.0106e-05 - val_loss: 1.6288e-04\n",
      "Epoch 148/300\n",
      "950/950 [==============================] - 27s 29ms/step - loss: 1.0248e-05 - val_loss: 1.6036e-04\n",
      "Epoch 149/300\n",
      "950/950 [==============================] - 27s 29ms/step - loss: 9.8446e-06 - val_loss: 1.5823e-04\n",
      "Epoch 150/300\n",
      "950/950 [==============================] - 27s 29ms/step - loss: 1.0042e-05 - val_loss: 1.6302e-04\n",
      "Epoch 151/300\n",
      "950/950 [==============================] - 27s 29ms/step - loss: 1.0047e-05 - val_loss: 1.6506e-04\n",
      "Epoch 152/300\n",
      "950/950 [==============================] - 27s 29ms/step - loss: 9.5957e-06 - val_loss: 1.6280e-04\n",
      "Epoch 153/300\n",
      "950/950 [==============================] - 27s 29ms/step - loss: 9.5473e-06 - val_loss: 1.8251e-04\n",
      "Epoch 154/300\n",
      "950/950 [==============================] - 27s 29ms/step - loss: 9.4522e-06 - val_loss: 1.6097e-04\n",
      "Epoch 155/300\n",
      "950/950 [==============================] - 27s 29ms/step - loss: 1.0034e-05 - val_loss: 1.5816e-04\n",
      "Epoch 156/300\n",
      "950/950 [==============================] - 27s 29ms/step - loss: 8.8847e-06 - val_loss: 1.5711e-04\n",
      "Epoch 157/300\n",
      "950/950 [==============================] - 27s 29ms/step - loss: 9.0962e-06 - val_loss: 1.6471e-04\n",
      "Epoch 158/300\n",
      "950/950 [==============================] - 27s 29ms/step - loss: 9.0381e-06 - val_loss: 1.6064e-04\n",
      "Epoch 159/300\n",
      "950/950 [==============================] - 27s 29ms/step - loss: 8.6950e-06 - val_loss: 1.6501e-04\n",
      "Epoch 160/300\n",
      "950/950 [==============================] - 27s 29ms/step - loss: 8.5392e-06 - val_loss: 1.6870e-04\n",
      "Epoch 161/300\n",
      "950/950 [==============================] - 27s 29ms/step - loss: 8.7204e-06 - val_loss: 1.6128e-04\n",
      "Epoch 162/300\n",
      "950/950 [==============================] - 27s 29ms/step - loss: 8.5200e-06 - val_loss: 1.6243e-04\n",
      "Epoch 163/300\n",
      "950/950 [==============================] - 27s 29ms/step - loss: 8.3477e-06 - val_loss: 1.6059e-04\n",
      "Epoch 164/300\n",
      "950/950 [==============================] - 27s 29ms/step - loss: 8.0134e-06 - val_loss: 1.5917e-04\n",
      "Epoch 165/300\n",
      "950/950 [==============================] - 27s 29ms/step - loss: 8.2913e-06 - val_loss: 1.6434e-04\n",
      "Epoch 166/300\n",
      "950/950 [==============================] - 27s 29ms/step - loss: 8.1648e-06 - val_loss: 1.5639e-04\n",
      "Epoch 167/300\n",
      "950/950 [==============================] - 27s 29ms/step - loss: 7.8563e-06 - val_loss: 1.5862e-04\n",
      "Epoch 168/300\n",
      "950/950 [==============================] - 27s 29ms/step - loss: 7.4859e-06 - val_loss: 1.5790e-04\n",
      "Epoch 169/300\n",
      "950/950 [==============================] - 27s 29ms/step - loss: 7.8357e-06 - val_loss: 1.6567e-04\n",
      "Epoch 170/300\n",
      "950/950 [==============================] - 27s 29ms/step - loss: 7.7603e-06 - val_loss: 1.7500e-04\n",
      "Epoch 171/300\n",
      "950/950 [==============================] - 27s 29ms/step - loss: 7.6577e-06 - val_loss: 1.6724e-04\n",
      "Epoch 172/300\n",
      "950/950 [==============================] - 27s 29ms/step - loss: 7.5474e-06 - val_loss: 1.7054e-04\n",
      "Epoch 173/300\n",
      "950/950 [==============================] - 27s 29ms/step - loss: 7.4123e-06 - val_loss: 1.6167e-04\n",
      "Epoch 174/300\n",
      "950/950 [==============================] - 27s 29ms/step - loss: 7.1852e-06 - val_loss: 1.6605e-04\n",
      "Epoch 175/300\n",
      "950/950 [==============================] - 27s 29ms/step - loss: 7.1599e-06 - val_loss: 1.6313e-04\n",
      "Epoch 176/300\n",
      "950/950 [==============================] - 27s 29ms/step - loss: 7.1813e-06 - val_loss: 1.6285e-04\n",
      "Epoch 177/300\n",
      "950/950 [==============================] - 27s 29ms/step - loss: 7.4039e-06 - val_loss: 1.6635e-04\n",
      "Epoch 178/300\n",
      "950/950 [==============================] - 27s 29ms/step - loss: 7.0658e-06 - val_loss: 1.7599e-04\n",
      "Epoch 179/300\n",
      "950/950 [==============================] - 27s 29ms/step - loss: 6.4962e-06 - val_loss: 1.6356e-04\n",
      "Epoch 180/300\n",
      "950/950 [==============================] - 27s 29ms/step - loss: 7.2091e-06 - val_loss: 1.6302e-04\n",
      "Epoch 181/300\n",
      "950/950 [==============================] - 27s 29ms/step - loss: 6.7637e-06 - val_loss: 1.6378e-04\n",
      "Epoch 182/300\n",
      "950/950 [==============================] - 27s 29ms/step - loss: 7.3451e-06 - val_loss: 1.7177e-04\n",
      "Epoch 183/300\n",
      "950/950 [==============================] - 27s 29ms/step - loss: 6.6212e-06 - val_loss: 1.6144e-04\n",
      "Epoch 184/300\n",
      "950/950 [==============================] - 27s 29ms/step - loss: 6.6798e-06 - val_loss: 1.6278e-04\n",
      "Epoch 185/300\n",
      "950/950 [==============================] - 27s 29ms/step - loss: 6.9138e-06 - val_loss: 1.6132e-04\n",
      "Epoch 186/300\n",
      "950/950 [==============================] - 27s 29ms/step - loss: 6.3410e-06 - val_loss: 1.5966e-04\n",
      "Epoch 187/300\n",
      "950/950 [==============================] - 27s 29ms/step - loss: 6.3421e-06 - val_loss: 1.6607e-04\n",
      "Epoch 188/300\n",
      "950/950 [==============================] - 27s 29ms/step - loss: 6.3445e-06 - val_loss: 1.6475e-04\n",
      "Epoch 189/300\n",
      "950/950 [==============================] - 27s 29ms/step - loss: 6.3074e-06 - val_loss: 1.6901e-04\n",
      "Epoch 190/300\n",
      "950/950 [==============================] - 27s 29ms/step - loss: 6.2838e-06 - val_loss: 1.6363e-04\n",
      "Epoch 191/300\n",
      "950/950 [==============================] - 27s 29ms/step - loss: 6.2965e-06 - val_loss: 1.6538e-04\n",
      "Epoch 192/300\n",
      "950/950 [==============================] - 27s 29ms/step - loss: 5.9785e-06 - val_loss: 1.7105e-04\n",
      "Epoch 193/300\n",
      "950/950 [==============================] - 27s 29ms/step - loss: 6.0493e-06 - val_loss: 1.7038e-04\n",
      "Epoch 194/300\n",
      "950/950 [==============================] - 27s 29ms/step - loss: 5.8364e-06 - val_loss: 1.6542e-04\n",
      "Epoch 195/300\n",
      "950/950 [==============================] - 27s 29ms/step - loss: 5.7006e-06 - val_loss: 1.6448e-04\n",
      "Epoch 196/300\n",
      "950/950 [==============================] - 27s 29ms/step - loss: 5.8763e-06 - val_loss: 1.6641e-04\n",
      "Epoch 197/300\n",
      "950/950 [==============================] - 27s 29ms/step - loss: 5.7680e-06 - val_loss: 1.6858e-04\n",
      "Epoch 198/300\n",
      "950/950 [==============================] - 27s 29ms/step - loss: 5.7899e-06 - val_loss: 1.7034e-04\n",
      "Epoch 199/300\n",
      "950/950 [==============================] - 27s 29ms/step - loss: 5.7757e-06 - val_loss: 1.7073e-04\n",
      "Epoch 200/300\n",
      "950/950 [==============================] - 27s 29ms/step - loss: 5.4261e-06 - val_loss: 1.6289e-04\n",
      "Epoch 201/300\n",
      "950/950 [==============================] - 27s 29ms/step - loss: 5.2552e-06 - val_loss: 1.6731e-04\n",
      "Epoch 202/300\n",
      "950/950 [==============================] - 27s 29ms/step - loss: 5.4110e-06 - val_loss: 1.7201e-04\n",
      "Epoch 203/300\n",
      "950/950 [==============================] - 27s 29ms/step - loss: 5.4773e-06 - val_loss: 1.7091e-04\n",
      "Epoch 204/300\n",
      "950/950 [==============================] - 27s 29ms/step - loss: 5.3654e-06 - val_loss: 1.6970e-04\n",
      "Epoch 205/300\n",
      "950/950 [==============================] - 27s 29ms/step - loss: 5.5074e-06 - val_loss: 1.7089e-04\n",
      "Epoch 206/300\n",
      "950/950 [==============================] - 27s 29ms/step - loss: 5.5661e-06 - val_loss: 1.7039e-04\n",
      "Epoch 207/300\n",
      "950/950 [==============================] - 27s 29ms/step - loss: 5.1477e-06 - val_loss: 1.7313e-04\n",
      "Epoch 208/300\n",
      "950/950 [==============================] - 27s 29ms/step - loss: 5.1402e-06 - val_loss: 1.7452e-04\n",
      "Epoch 209/300\n",
      "950/950 [==============================] - 27s 29ms/step - loss: 5.2021e-06 - val_loss: 1.7066e-04\n",
      "Epoch 210/300\n",
      "950/950 [==============================] - 27s 29ms/step - loss: 4.8602e-06 - val_loss: 1.7029e-04\n",
      "Epoch 211/300\n",
      "950/950 [==============================] - 27s 29ms/step - loss: 5.1499e-06 - val_loss: 1.6779e-04\n",
      "Epoch 212/300\n",
      "950/950 [==============================] - 27s 29ms/step - loss: 4.9574e-06 - val_loss: 1.7143e-04\n",
      "Epoch 213/300\n",
      "950/950 [==============================] - 27s 29ms/step - loss: 5.0251e-06 - val_loss: 1.6892e-04\n",
      "Epoch 214/300\n",
      "950/950 [==============================] - 27s 29ms/step - loss: 4.9616e-06 - val_loss: 1.6951e-04\n",
      "Epoch 215/300\n",
      "950/950 [==============================] - 27s 29ms/step - loss: 4.8968e-06 - val_loss: 1.7504e-04\n",
      "Epoch 216/300\n",
      "950/950 [==============================] - 27s 29ms/step - loss: 4.8477e-06 - val_loss: 1.7211e-04\n",
      "Epoch 217/300\n",
      "950/950 [==============================] - 27s 29ms/step - loss: 4.9047e-06 - val_loss: 1.7209e-04\n",
      "Epoch 218/300\n",
      "950/950 [==============================] - 27s 29ms/step - loss: 4.8793e-06 - val_loss: 1.7079e-04\n",
      "Epoch 219/300\n"
     ]
    },
    {
     "name": "stdout",
     "output_type": "stream",
     "text": [
      "950/950 [==============================] - 27s 29ms/step - loss: 4.8125e-06 - val_loss: 1.7367e-04\n",
      "Epoch 220/300\n",
      "950/950 [==============================] - 27s 29ms/step - loss: 4.6945e-06 - val_loss: 1.7457e-04\n",
      "Epoch 221/300\n",
      "950/950 [==============================] - 27s 29ms/step - loss: 4.3797e-06 - val_loss: 1.7644e-04\n",
      "Epoch 222/300\n",
      "950/950 [==============================] - 27s 29ms/step - loss: 4.5575e-06 - val_loss: 1.7684e-04\n",
      "Epoch 223/300\n",
      "950/950 [==============================] - 27s 29ms/step - loss: 4.5025e-06 - val_loss: 1.7424e-04\n",
      "Epoch 224/300\n",
      "950/950 [==============================] - 27s 29ms/step - loss: 4.7172e-06 - val_loss: 1.7087e-04\n",
      "Epoch 225/300\n",
      "950/950 [==============================] - 27s 29ms/step - loss: 4.5788e-06 - val_loss: 1.6689e-04\n",
      "Epoch 226/300\n",
      "950/950 [==============================] - 27s 29ms/step - loss: 4.7369e-06 - val_loss: 1.7690e-04\n",
      "Epoch 227/300\n",
      "950/950 [==============================] - 27s 29ms/step - loss: 4.4035e-06 - val_loss: 1.8127e-04\n",
      "Epoch 228/300\n",
      "950/950 [==============================] - 27s 29ms/step - loss: 4.3698e-06 - val_loss: 1.7476e-04\n",
      "Epoch 229/300\n",
      "950/950 [==============================] - 27s 29ms/step - loss: 4.2367e-06 - val_loss: 1.7447e-04\n",
      "Epoch 230/300\n",
      "950/950 [==============================] - 27s 29ms/step - loss: 4.3343e-06 - val_loss: 1.7262e-04\n",
      "Epoch 231/300\n",
      "950/950 [==============================] - 27s 29ms/step - loss: 4.1466e-06 - val_loss: 1.7380e-04\n",
      "Epoch 232/300\n",
      "950/950 [==============================] - 27s 29ms/step - loss: 4.1045e-06 - val_loss: 1.7616e-04\n",
      "Epoch 233/300\n",
      "950/950 [==============================] - 27s 29ms/step - loss: 4.1138e-06 - val_loss: 1.7470e-04\n",
      "Epoch 234/300\n",
      "950/950 [==============================] - 27s 29ms/step - loss: 4.1299e-06 - val_loss: 1.7867e-04\n",
      "Epoch 235/300\n",
      "950/950 [==============================] - 27s 29ms/step - loss: 4.1378e-06 - val_loss: 1.8120e-04\n",
      "Epoch 236/300\n",
      "950/950 [==============================] - 27s 29ms/step - loss: 4.1633e-06 - val_loss: 1.7252e-04\n",
      "Epoch 237/300\n",
      "950/950 [==============================] - 27s 29ms/step - loss: 4.1006e-06 - val_loss: 1.7351e-04\n",
      "Epoch 238/300\n",
      "950/950 [==============================] - 27s 29ms/step - loss: 3.9726e-06 - val_loss: 1.7134e-04\n",
      "Epoch 239/300\n",
      "950/950 [==============================] - 27s 29ms/step - loss: 4.0815e-06 - val_loss: 1.7776e-04\n",
      "Epoch 240/300\n",
      "950/950 [==============================] - 27s 29ms/step - loss: 4.0678e-06 - val_loss: 1.8201e-04\n",
      "Epoch 241/300\n",
      "950/950 [==============================] - 27s 29ms/step - loss: 3.9691e-06 - val_loss: 1.7865e-04\n",
      "Epoch 242/300\n",
      "950/950 [==============================] - 27s 29ms/step - loss: 3.9809e-06 - val_loss: 1.7635e-04\n",
      "Epoch 243/300\n",
      "950/950 [==============================] - 27s 29ms/step - loss: 3.8203e-06 - val_loss: 1.7509e-04\n",
      "Epoch 244/300\n",
      "950/950 [==============================] - 27s 29ms/step - loss: 3.7167e-06 - val_loss: 1.7392e-04\n",
      "Epoch 245/300\n",
      "950/950 [==============================] - 27s 29ms/step - loss: 3.7830e-06 - val_loss: 1.7452e-04\n",
      "Epoch 246/300\n",
      "950/950 [==============================] - 27s 29ms/step - loss: 3.6956e-06 - val_loss: 1.7611e-04\n",
      "Epoch 247/300\n",
      "950/950 [==============================] - 27s 29ms/step - loss: 3.9000e-06 - val_loss: 1.7542e-04\n",
      "Epoch 248/300\n",
      "950/950 [==============================] - 27s 29ms/step - loss: 3.6731e-06 - val_loss: 1.8055e-04\n",
      "Epoch 249/300\n",
      "950/950 [==============================] - 27s 29ms/step - loss: 3.7113e-06 - val_loss: 1.7492e-04\n",
      "Epoch 250/300\n",
      "950/950 [==============================] - 27s 29ms/step - loss: 3.6737e-06 - val_loss: 1.7675e-04\n",
      "Epoch 251/300\n",
      "950/950 [==============================] - 27s 29ms/step - loss: 3.5979e-06 - val_loss: 1.7972e-04\n",
      "Epoch 252/300\n",
      "950/950 [==============================] - 27s 29ms/step - loss: 3.5680e-06 - val_loss: 1.7826e-04\n",
      "Epoch 253/300\n",
      "950/950 [==============================] - 27s 29ms/step - loss: 3.5794e-06 - val_loss: 1.7906e-04\n",
      "Epoch 254/300\n",
      "950/950 [==============================] - 27s 29ms/step - loss: 3.3586e-06 - val_loss: 1.7780e-04\n",
      "Epoch 255/300\n",
      "950/950 [==============================] - 27s 29ms/step - loss: 3.5609e-06 - val_loss: 1.7505e-04\n",
      "Epoch 256/300\n",
      "950/950 [==============================] - 27s 29ms/step - loss: 3.6017e-06 - val_loss: 1.7898e-04\n",
      "Epoch 257/300\n",
      "950/950 [==============================] - 27s 29ms/step - loss: 3.5649e-06 - val_loss: 1.8065e-04\n",
      "Epoch 258/300\n",
      "950/950 [==============================] - 27s 29ms/step - loss: 3.2984e-06 - val_loss: 1.7787e-04\n",
      "Epoch 259/300\n",
      "950/950 [==============================] - 27s 29ms/step - loss: 3.3439e-06 - val_loss: 1.7906e-04\n",
      "Epoch 260/300\n",
      "950/950 [==============================] - 27s 29ms/step - loss: 3.3169e-06 - val_loss: 1.7674e-04\n",
      "Epoch 261/300\n",
      "950/950 [==============================] - 27s 29ms/step - loss: 3.4580e-06 - val_loss: 1.7827e-04\n",
      "Epoch 262/300\n",
      "950/950 [==============================] - 27s 29ms/step - loss: 3.5145e-06 - val_loss: 1.8087e-04\n",
      "Epoch 263/300\n",
      "950/950 [==============================] - 27s 29ms/step - loss: 3.4901e-06 - val_loss: 1.7816e-04\n",
      "Epoch 264/300\n",
      "950/950 [==============================] - 27s 29ms/step - loss: 3.2345e-06 - val_loss: 1.7770e-04\n",
      "Epoch 265/300\n",
      "950/950 [==============================] - 27s 29ms/step - loss: 3.3080e-06 - val_loss: 1.7652e-04\n",
      "Epoch 266/300\n",
      "950/950 [==============================] - 27s 29ms/step - loss: 3.2756e-06 - val_loss: 1.7905e-04\n",
      "Epoch 267/300\n",
      "950/950 [==============================] - 27s 29ms/step - loss: 3.4114e-06 - val_loss: 1.8187e-04\n",
      "Epoch 268/300\n",
      "950/950 [==============================] - 27s 29ms/step - loss: 3.5172e-06 - val_loss: 1.7972e-04\n",
      "Epoch 269/300\n",
      "950/950 [==============================] - 27s 29ms/step - loss: 3.2333e-06 - val_loss: 1.8166e-04\n",
      "Epoch 270/300\n",
      "950/950 [==============================] - 27s 29ms/step - loss: 3.3636e-06 - val_loss: 1.7798e-04\n",
      "Epoch 271/300\n",
      "950/950 [==============================] - 27s 29ms/step - loss: 3.3494e-06 - val_loss: 1.8296e-04\n",
      "Epoch 272/300\n",
      "950/950 [==============================] - 27s 29ms/step - loss: 3.1334e-06 - val_loss: 1.8057e-04\n",
      "Epoch 273/300\n",
      "950/950 [==============================] - 27s 29ms/step - loss: 3.1154e-06 - val_loss: 1.8163e-04\n",
      "Epoch 274/300\n",
      "950/950 [==============================] - 27s 29ms/step - loss: 3.2313e-06 - val_loss: 1.7930e-04\n",
      "Epoch 275/300\n",
      "950/950 [==============================] - 27s 29ms/step - loss: 3.6394e-06 - val_loss: 1.7894e-04\n",
      "Epoch 276/300\n",
      "950/950 [==============================] - 27s 29ms/step - loss: 3.2786e-06 - val_loss: 1.8116e-04\n",
      "Epoch 277/300\n",
      "950/950 [==============================] - 27s 29ms/step - loss: 3.0342e-06 - val_loss: 1.8125e-04\n",
      "Epoch 278/300\n",
      "950/950 [==============================] - 27s 29ms/step - loss: 3.0263e-06 - val_loss: 1.8325e-04\n",
      "Epoch 279/300\n",
      "950/950 [==============================] - 27s 29ms/step - loss: 3.0283e-06 - val_loss: 1.8074e-04\n",
      "Epoch 280/300\n",
      "950/950 [==============================] - 27s 29ms/step - loss: 2.8901e-06 - val_loss: 1.8399e-04\n",
      "Epoch 281/300\n",
      "950/950 [==============================] - 27s 29ms/step - loss: 2.9266e-06 - val_loss: 1.8192e-04\n",
      "Epoch 282/300\n",
      "950/950 [==============================] - 27s 29ms/step - loss: 3.0059e-06 - val_loss: 1.7991e-04\n",
      "Epoch 283/300\n",
      "950/950 [==============================] - 27s 29ms/step - loss: 3.0500e-06 - val_loss: 1.8203e-04\n",
      "Epoch 284/300\n",
      "950/950 [==============================] - 27s 29ms/step - loss: 3.0760e-06 - val_loss: 1.8307e-04\n",
      "Epoch 285/300\n",
      "950/950 [==============================] - 27s 29ms/step - loss: 2.9378e-06 - val_loss: 1.8285e-04\n",
      "Epoch 286/300\n",
      "950/950 [==============================] - 27s 29ms/step - loss: 2.9744e-06 - val_loss: 1.8961e-04\n",
      "Epoch 287/300\n",
      "950/950 [==============================] - 27s 29ms/step - loss: 2.9329e-06 - val_loss: 1.8202e-04\n",
      "Epoch 288/300\n",
      "950/950 [==============================] - 27s 29ms/step - loss: 2.7630e-06 - val_loss: 1.8187e-04\n",
      "Epoch 289/300\n",
      "950/950 [==============================] - 27s 29ms/step - loss: 2.9611e-06 - val_loss: 1.8005e-04\n",
      "Epoch 290/300\n",
      "950/950 [==============================] - 27s 29ms/step - loss: 2.9812e-06 - val_loss: 1.8717e-04\n",
      "Epoch 291/300\n"
     ]
    },
    {
     "name": "stdout",
     "output_type": "stream",
     "text": [
      "950/950 [==============================] - 27s 29ms/step - loss: 2.9240e-06 - val_loss: 1.8727e-04\n",
      "Epoch 292/300\n",
      "950/950 [==============================] - 27s 29ms/step - loss: 2.7586e-06 - val_loss: 1.8377e-04\n",
      "Epoch 293/300\n",
      "950/950 [==============================] - 27s 29ms/step - loss: 2.7449e-06 - val_loss: 1.8494e-04\n",
      "Epoch 294/300\n",
      "950/950 [==============================] - 27s 29ms/step - loss: 2.7441e-06 - val_loss: 1.8070e-04\n",
      "Epoch 295/300\n",
      "950/950 [==============================] - 27s 29ms/step - loss: 2.8905e-06 - val_loss: 1.8358e-04\n",
      "Epoch 296/300\n",
      "950/950 [==============================] - 27s 29ms/step - loss: 2.7231e-06 - val_loss: 1.8192e-04\n",
      "Epoch 297/300\n",
      "950/950 [==============================] - 27s 29ms/step - loss: 2.6448e-06 - val_loss: 1.8228e-04\n",
      "Epoch 298/300\n",
      "950/950 [==============================] - 27s 29ms/step - loss: 2.5513e-06 - val_loss: 1.8327e-04\n",
      "Epoch 299/300\n",
      "950/950 [==============================] - 27s 29ms/step - loss: 2.8308e-06 - val_loss: 1.8414e-04\n",
      "Epoch 300/300\n",
      "950/950 [==============================] - 27s 29ms/step - loss: 2.7959e-06 - val_loss: 1.8742e-04\n"
     ]
    },
    {
     "data": {
      "text/plain": [
       "<keras.callbacks.History at 0x7fb22ce2f9b0>"
      ]
     },
     "execution_count": 4,
     "metadata": {},
     "output_type": "execute_result"
    }
   ],
   "source": [
    "# Train the network\n",
    "seq.fit(noisy_movies[:1000], shifted_movies[:1000], batch_size=10,\n",
    "        epochs=300, validation_split=0.05)"
   ]
  },
  {
   "cell_type": "code",
   "execution_count": 11,
   "metadata": {},
   "outputs": [],
   "source": [
    "# # save weight\n",
    "# seq.save(\"pretrained.h5\")\n",
    "\n",
    "#load model\n",
    "import keras\n",
    "seq=keras.models.load_model(\"pretrained.h5\")"
   ]
  },
  {
   "cell_type": "code",
   "execution_count": 16,
   "metadata": {},
   "outputs": [],
   "source": [
    "# Testing the network on one movie\n",
    "# feed it with the first 7 positions and then\n",
    "# predict the new positions\n",
    "which = 1005\n",
    "track = noisy_movies[which][:7, ::, ::, ::]\n",
    "\n",
    "for j in range(16):\n",
    "    new_pos = seq.predict(track[np.newaxis, ::, ::, ::, ::])\n",
    "    new = new_pos[::, -1, ::, ::, ::]\n",
    "    track = np.concatenate((track, new), axis=0)"
   ]
  },
  {
   "cell_type": "code",
   "execution_count": 19,
   "metadata": {},
   "outputs": [
    {
     "data": {
      "text/plain": [
       "(23, 40, 40, 1)"
      ]
     },
     "execution_count": 19,
     "metadata": {},
     "output_type": "execute_result"
    }
   ],
   "source": [
    "track.shape"
   ]
  },
  {
   "cell_type": "code",
   "execution_count": 21,
   "metadata": {},
   "outputs": [
    {
     "data": {
      "image/png": "[encoded data removed]",
      "text/plain": [
       "<Figure size 720x360 with 2 Axes>"
      ]
     },
     "metadata": {
      "needs_background": "light"
     },
     "output_type": "display_data"
    },
    {
     "data": {
      "image/png": "[encoded data removed]",
      "text/plain": [
       "<Figure size 720x360 with 2 Axes>"
      ]
     },
     "metadata": {
      "needs_background": "light"
     },
     "output_type": "display_data"
    },
    {
     "data": {
      "image/png": "[encoded data removed]",
      "text/plain": [
       "<Figure size 720x360 with 2 Axes>"
      ]
     },
     "metadata": {
      "needs_background": "light"
     },
     "output_type": "display_data"
    },
    {
     "data": {
      "image/png": "[encoded data removed]",
      "text/plain": [
       "<Figure size 720x360 with 2 Axes>"
      ]
     },
     "metadata": {
      "needs_background": "light"
     },
     "output_type": "display_data"
    },
    {
     "data": {
      "image/png": "[encoded data removed]",
      "text/plain": [
       "<Figure size 720x360 with 2 Axes>"
      ]
     },
     "metadata": {
      "needs_background": "light"
     },
     "output_type": "display_data"
    },
    {
     "data": {
      "image/png": "[encoded data removed]",
      "text/plain": [
       "<Figure size 720x360 with 2 Axes>"
      ]
     },
     "metadata": {
      "needs_background": "light"
     },
     "output_type": "display_data"
    },
    {
     "data": {
      "image/png": "[encoded data removed]",
      "text/plain": [
       "<Figure size 720x360 with 2 Axes>"
      ]
     },
     "metadata": {
      "needs_background": "light"
     },
     "output_type": "display_data"
    },
    {
     "data": {
      "image/png": "[encoded data removed]",
      "text/plain": [
       "<Figure size 720x360 with 2 Axes>"
      ]
     },
     "metadata": {
      "needs_background": "light"
     },
     "output_type": "display_data"
    },
    {
     "data": {
      "image/png": "[encoded data removed]",
      "text/plain": [
       "<Figure size 720x360 with 2 Axes>"
      ]
     },
     "metadata": {
      "needs_background": "light"
     },
     "output_type": "display_data"
    },
    {
     "data": {
      "image/png": "[encoded data removed]",
      "text/plain": [
       "<Figure size 720x360 with 2 Axes>"
      ]
     },
     "metadata": {
      "needs_background": "light"
     },
     "output_type": "display_data"
    },
    {
     "data": {
      "image/png": "[encoded data removed]",
      "text/plain": [
       "<Figure size 720x360 with 2 Axes>"
      ]
     },
     "metadata": {
      "needs_background": "light"
     },
     "output_type": "display_data"
    },
    {
     "data": {
      "image/png": "[encoded data removed]",
      "text/plain": [
       "<Figure size 720x360 with 2 Axes>"
      ]
     },
     "metadata": {
      "needs_background": "light"
     },
     "output_type": "display_data"
    },
    {
     "data": {
      "image/png": "[encoded data removed]",
      "text/plain": [
       "<Figure size 720x360 with 2 Axes>"
      ]
     },
     "metadata": {
      "needs_background": "light"
     },
     "output_type": "display_data"
    },
    {
     "data": {
      "image/png": "[encoded data removed]",
      "text/plain": [
       "<Figure size 720x360 with 2 Axes>"
      ]
     },
     "metadata": {
      "needs_background": "light"
     },
     "output_type": "display_data"
    },
    {
     "data": {
      "image/png": "[encoded data removed]",
      "text/plain": [
       "<Figure size 720x360 with 2 Axes>"
      ]
     },
     "metadata": {
      "needs_background": "light"
     },
     "output_type": "display_data"
    }
   ],
   "source": [
    "# And then compare the predictions\n",
    "# to the ground truth\n",
    "track2 = noisy_movies[which][::, ::, ::, ::]\n",
    "for i in range(15):\n",
    "    fig = plt.figure(figsize=(10, 5))\n",
    "\n",
    "    ax = fig.add_subplot(121)\n",
    "\n",
    "    if i >= 7:\n",
    "        ax.text(1, 3, 'Predictions !', fontsize=20, color='w')\n",
    "    else:\n",
    "        ax.text(1, 3, 'Initial trajectory', fontsize=20)\n",
    "\n",
    "    toplot = track[i, ::, ::, 0]\n",
    "    plt.imshow(toplot.reshape(40,40), cmap=plt.get_cmap('gray'))\n",
    "#     plt.imshow(toplot)\n",
    "    \n",
    "    ax = fig.add_subplot(122)\n",
    "    plt.text(1, 3, 'Ground truth', fontsize=20)\n",
    "    toplot = track2[i, ::, ::, 0]\n",
    "    \n",
    "    if i >= 2:\n",
    "        toplot = shifted_movies[which][i - 1, ::, ::, 0]\n",
    "\n",
    "    plt.imshow(toplot.reshape(40,40), cmap=plt.get_cmap('gray'))\n",
    "#     plt.imshow(toplot)\n",
    "#     plt.savefig('%i_animate.png' % (i + 1))"
   ]
  },
  {
   "cell_type": "markdown",
   "metadata": {},
   "source": [
    "# End"
   ]
  },
  {
   "cell_type": "markdown",
   "metadata": {},
   "source": [
    "# test code"
   ]
  },
  {
   "cell_type": "code",
   "execution_count": 33,
   "metadata": {},
   "outputs": [
    {
     "data": {
      "text/plain": [
       "(15, 40, 40, 1)"
      ]
     },
     "execution_count": 33,
     "metadata": {},
     "output_type": "execute_result"
    }
   ],
   "source": [
    "which = 1004 # 1001 ~ 1199 is for test\n",
    "noisy_movies[which][:, ::, ::, ::].shape"
   ]
  },
  {
   "cell_type": "code",
   "execution_count": 34,
   "metadata": {},
   "outputs": [
    {
     "data": {
      "text/plain": [
       "(7, 40, 40, 1)"
      ]
     },
     "execution_count": 34,
     "metadata": {},
     "output_type": "execute_result"
    }
   ],
   "source": [
    "test_track = noisy_movies[which][:7, ::, ::, ::]\n",
    "test_track.shape"
   ]
  },
  {
   "cell_type": "code",
   "execution_count": 35,
   "metadata": {},
   "outputs": [
    {
     "data": {
      "text/plain": [
       "(1, 7, 40, 40, 1)"
      ]
     },
     "execution_count": 35,
     "metadata": {},
     "output_type": "execute_result"
    }
   ],
   "source": [
    "test_track[np.newaxis, ::, ::, ::, ::].shape"
   ]
  },
  {
   "cell_type": "code",
   "execution_count": 36,
   "metadata": {},
   "outputs": [
    {
     "name": "stdout",
     "output_type": "stream",
     "text": [
      "(1, 7, 40, 40, 1)\n"
     ]
    }
   ],
   "source": [
    "test_new_pos1 = seq.predict(test_track[np.newaxis, ::, ::, ::, ::])\n",
    "print(test_new_pos1.shape)"
   ]
  },
  {
   "cell_type": "code",
   "execution_count": 37,
   "metadata": {},
   "outputs": [],
   "source": [
    "for j in range(16):\n",
    "    test_new_pos2 = seq.predict(test_track[np.newaxis, ::, ::, ::, ::])"
   ]
  },
  {
   "cell_type": "code",
   "execution_count": 38,
   "metadata": {},
   "outputs": [
    {
     "data": {
      "text/plain": [
       "(1, 7, 40, 40, 1)"
      ]
     },
     "execution_count": 38,
     "metadata": {},
     "output_type": "execute_result"
    }
   ],
   "source": [
    "test_new_pos2.shape"
   ]
  },
  {
   "cell_type": "code",
   "execution_count": 39,
   "metadata": {},
   "outputs": [
    {
     "data": {
      "text/plain": [
       "(15, 40, 40, 1)"
      ]
     },
     "execution_count": 39,
     "metadata": {},
     "output_type": "execute_result"
    }
   ],
   "source": [
    "test_track2 = noisy_movies[which][::, ::, ::, ::]\n",
    "test_track2.shape"
   ]
  },
  {
   "cell_type": "code",
   "execution_count": null,
   "metadata": {},
   "outputs": [],
   "source": []
  },
  {
   "cell_type": "code",
   "execution_count": null,
   "metadata": {},
   "outputs": [],
   "source": [
    "for j in range(16):\n",
    "    new_pos = seq.predict(track[np.newaxis, ::, ::, ::, ::])# And then compare the predictions\n",
    "# to the ground truth\n"
   ]
  },
  {
   "cell_type": "code",
   "execution_count": 55,
   "metadata": {},
   "outputs": [
    {
     "name": "stdout",
     "output_type": "stream",
     "text": [
      "1\n"
     ]
    }
   ],
   "source": [
    "if True:\n",
    "    x = 1\n",
    "print(x)"
   ]
  },
  {
   "cell_type": "code",
   "execution_count": null,
   "metadata": {},
   "outputs": [],
   "source": []
  }
 ],
 "metadata": {
  "kernelspec": {
   "display_name": "Python 3",
   "language": "python",
   "name": "python3"
  },
  "language_info": {
   "codemirror_mode": {
    "name": "ipython",
    "version": 3
   },
   "file_extension": ".py",
   "mimetype": "text/x-python",
   "name": "python",
   "nbconvert_exporter": "python",
   "pygments_lexer": "ipython3",
   "version": "3.6.6"
  }
 },
 "nbformat": 4,
 "nbformat_minor": 2
}
