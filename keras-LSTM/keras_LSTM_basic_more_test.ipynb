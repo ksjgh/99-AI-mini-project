{
  "nbformat": 4,
  "nbformat_minor": 0,
  "metadata": {
    "colab": {
      "name": "keras_LSTM_basic_more_test.ipynb",
      "version": "0.3.2",
      "provenance": [],
      "collapsed_sections": []
    },
    "kernelspec": {
      "name": "python3",
      "display_name": "Python 3"
    },
    "accelerator": "GPU"
  },
  "cells": [
    {
      "cell_type": "code",
      "metadata": {
        "id": "rJXZFc4CN47m",
        "colab_type": "code",
        "colab": {}
      },
      "source": [
        "# see https://youtu.be/iMIWee_PXl8\n",
        "\n",
        "from keras.models import Sequential\n",
        "from keras.layers import Dense, LSTM\n",
        "from sklearn.model_selection import train_test_split\n",
        "import numpy as np\n",
        "import matplotlib.pyplot as plt"
      ],
      "execution_count": 0,
      "outputs": []
    },
    {
      "cell_type": "code",
      "metadata": {
        "id": "lVrGv0Gnxh02",
        "colab_type": "code",
        "colab": {}
      },
      "source": [
        "# data = [[ [(j+i)] for i in range(5)] for j in range(100) ]\n",
        "data = [[ [(j+i)/100] for i in range(5)] for j in range(100) ]"
      ],
      "execution_count": 0,
      "outputs": []
    },
    {
      "cell_type": "code",
      "metadata": {
        "id": "EyMax_TyyCJI",
        "colab_type": "code",
        "colab": {
          "base_uri": "https://localhost:8080/",
          "height": 187
        },
        "outputId": "f612cde5-123f-4cc3-88cc-b97837397fad"
      },
      "source": [
        "data[:10]"
      ],
      "execution_count": 59,
      "outputs": [
        {
          "output_type": "execute_result",
          "data": {
            "text/plain": [
              "[[[0.0], [0.01], [0.02], [0.03], [0.04]],\n",
              " [[0.01], [0.02], [0.03], [0.04], [0.05]],\n",
              " [[0.02], [0.03], [0.04], [0.05], [0.06]],\n",
              " [[0.03], [0.04], [0.05], [0.06], [0.07]],\n",
              " [[0.04], [0.05], [0.06], [0.07], [0.08]],\n",
              " [[0.05], [0.06], [0.07], [0.08], [0.09]],\n",
              " [[0.06], [0.07], [0.08], [0.09], [0.1]],\n",
              " [[0.07], [0.08], [0.09], [0.1], [0.11]],\n",
              " [[0.08], [0.09], [0.1], [0.11], [0.12]],\n",
              " [[0.09], [0.1], [0.11], [0.12], [0.13]]]"
            ]
          },
          "metadata": {
            "tags": []
          },
          "execution_count": 59
        }
      ]
    },
    {
      "cell_type": "code",
      "metadata": {
        "id": "LWrn5BCGyE4A",
        "colab_type": "code",
        "colab": {}
      },
      "source": [
        "target = [ (i+5)/100 for i in range(100) ]"
      ],
      "execution_count": 0,
      "outputs": []
    },
    {
      "cell_type": "code",
      "metadata": {
        "id": "68IX7Ix1yHsY",
        "colab_type": "code",
        "colab": {
          "base_uri": "https://localhost:8080/",
          "height": 34
        },
        "outputId": "db1bd2d7-7df0-4d89-f418-ff819789b57d"
      },
      "source": [
        "target[:10]"
      ],
      "execution_count": 61,
      "outputs": [
        {
          "output_type": "execute_result",
          "data": {
            "text/plain": [
              "[0.05, 0.06, 0.07, 0.08, 0.09, 0.1, 0.11, 0.12, 0.13, 0.14]"
            ]
          },
          "metadata": {
            "tags": []
          },
          "execution_count": 61
        }
      ]
    },
    {
      "cell_type": "code",
      "metadata": {
        "id": "50z2ITr1GVCi",
        "colab_type": "code",
        "colab": {}
      },
      "source": [
        "# test for variable sequence length\n",
        "# data = [[ [(j+i)/100] for i in range(5)] for j in range(100) ]\n",
        "# target = [ (i++5)/100 for i in range(100) ]\n",
        "\n",
        "data = [[ [(j+i)/100] for i in range(7)] for j in range(100) ]\n",
        "target = [ (i+7)/100 for i in range(100) ]"
      ],
      "execution_count": 0,
      "outputs": []
    },
    {
      "cell_type": "code",
      "metadata": {
        "id": "IxuNb4yBydEJ",
        "colab_type": "code",
        "colab": {}
      },
      "source": [
        "data = np.array(data,dtype=float)\n",
        "target = np.array(target,dtype=float)"
      ],
      "execution_count": 0,
      "outputs": []
    },
    {
      "cell_type": "code",
      "metadata": {
        "id": "pn2Diy60y-ap",
        "colab_type": "code",
        "colab": {
          "base_uri": "https://localhost:8080/",
          "height": 34
        },
        "outputId": "ce4d9ea1-7428-4a7e-f7dc-65992c0dd82b"
      },
      "source": [
        "data.shape"
      ],
      "execution_count": 154,
      "outputs": [
        {
          "output_type": "execute_result",
          "data": {
            "text/plain": [
              "(100, 7, 1)"
            ]
          },
          "metadata": {
            "tags": []
          },
          "execution_count": 154
        }
      ]
    },
    {
      "cell_type": "code",
      "metadata": {
        "id": "F-CUxW1AzBGw",
        "colab_type": "code",
        "colab": {
          "base_uri": "https://localhost:8080/",
          "height": 34
        },
        "outputId": "c3207436-1bd9-4b0a-da99-8fd08a75adfd"
      },
      "source": [
        "target.shape"
      ],
      "execution_count": 155,
      "outputs": [
        {
          "output_type": "execute_result",
          "data": {
            "text/plain": [
              "(100,)"
            ]
          },
          "metadata": {
            "tags": []
          },
          "execution_count": 155
        }
      ]
    },
    {
      "cell_type": "code",
      "metadata": {
        "id": "PNjT1m9PzC0Y",
        "colab_type": "code",
        "colab": {}
      },
      "source": [
        "x_train , x_test , y_train, y_test = train_test_split( data, target, test_size = 0.2, random_state=4)"
      ],
      "execution_count": 0,
      "outputs": []
    },
    {
      "cell_type": "code",
      "metadata": {
        "id": "yllMZNKczzMA",
        "colab_type": "code",
        "colab": {}
      },
      "source": [
        "model = Sequential()"
      ],
      "execution_count": 0,
      "outputs": []
    },
    {
      "cell_type": "code",
      "metadata": {
        "id": "IyCJy7t11pJ3",
        "colab_type": "code",
        "colab": {}
      },
      "source": [
        "# model.add( LSTM((1), batch_input_shape = (None,5,1), return_sequences=True) )\n",
        "model.add( LSTM((4), batch_input_shape = (None,None,1), return_sequences=True) )\n",
        "model.add( LSTM((4), batch_input_shape = (None,None,1), return_sequences=True) )\n",
        "model.add( LSTM((1), return_sequences=False ) )"
      ],
      "execution_count": 0,
      "outputs": []
    },
    {
      "cell_type": "code",
      "metadata": {
        "id": "p397ZE3O1_nf",
        "colab_type": "code",
        "colab": {}
      },
      "source": [
        "model.compile(loss=\"mean_absolute_error\", optimizer = \"adam\", metrics = ['accuracy'])"
      ],
      "execution_count": 0,
      "outputs": []
    },
    {
      "cell_type": "code",
      "metadata": {
        "id": "LWkI1s-Z2Y8H",
        "colab_type": "code",
        "colab": {
          "base_uri": "https://localhost:8080/",
          "height": 238
        },
        "outputId": "b05bcf77-129e-448b-a023-9e6facb65465"
      },
      "source": [
        "model.summary()"
      ],
      "execution_count": 160,
      "outputs": [
        {
          "output_type": "stream",
          "text": [
            "_________________________________________________________________\n",
            "Layer (type)                 Output Shape              Param #   \n",
            "=================================================================\n",
            "lstm_20 (LSTM)               (None, None, 4)           96        \n",
            "_________________________________________________________________\n",
            "lstm_21 (LSTM)               (None, None, 4)           144       \n",
            "_________________________________________________________________\n",
            "lstm_22 (LSTM)               (None, 1)                 24        \n",
            "=================================================================\n",
            "Total params: 264\n",
            "Trainable params: 264\n",
            "Non-trainable params: 0\n",
            "_________________________________________________________________\n"
          ],
          "name": "stdout"
        }
      ]
    },
    {
      "cell_type": "code",
      "metadata": {
        "id": "z78NVaPuaL1-",
        "colab_type": "code",
        "colab": {
          "base_uri": "https://localhost:8080/",
          "height": 413
        },
        "outputId": "a20e97e9-d565-4ca4-9c9e-a5b46b13594f"
      },
      "source": [
        "#  Display Model in Jupyter notebook\n",
        "\n",
        "from IPython.display import SVG\n",
        "from keras.utils.vis_utils import model_to_dot\n",
        "\n",
        "def plot_keras_model(model,show_shapes=True,show_layer_names=True):\n",
        "    return SVG(model_to_dot(model,show_shapes=show_shapes,show_layer_names=show_layer_names).create(prog='dot',format='svg'))\n",
        "\n",
        "plot_keras_model(model, show_shapes=True, show_layer_names=False)"
      ],
      "execution_count": 161,
      "outputs": [
        {
          "output_type": "execute_result",
          "data": {
            "text/plain": [
              "<IPython.core.display.SVG object>"
            ],
            "image/svg+xml": "<svg height=\"294pt\" viewBox=\"0.00 0.00 233.00 294.00\" width=\"233pt\" xmlns=\"http://www.w3.org/2000/svg\" xmlns:xlink=\"http://www.w3.org/1999/xlink\">\n<g class=\"graph\" id=\"graph0\" transform=\"scale(1 1) rotate(0) translate(4 290)\">\n<title>G</title>\n<polygon fill=\"#ffffff\" points=\"-4,4 -4,-290 229,-290 229,4 -4,4\" stroke=\"transparent\"/>\n<!-- 140368111348368 -->\n<g class=\"node\" id=\"node1\">\n<title>140368111348368</title>\n<polygon fill=\"none\" points=\"0,-166.5 0,-212.5 225,-212.5 225,-166.5 0,-166.5\" stroke=\"#000000\"/>\n<text fill=\"#000000\" font-family=\"Times,serif\" font-size=\"14.00\" text-anchor=\"middle\" x=\"28\" y=\"-185.8\">LSTM</text>\n<polyline fill=\"none\" points=\"56,-166.5 56,-212.5 \" stroke=\"#000000\"/>\n<text fill=\"#000000\" font-family=\"Times,serif\" font-size=\"14.00\" text-anchor=\"middle\" x=\"85\" y=\"-197.3\">input:</text>\n<polyline fill=\"none\" points=\"56,-189.5 114,-189.5 \" stroke=\"#000000\"/>\n<text fill=\"#000000\" font-family=\"Times,serif\" font-size=\"14.00\" text-anchor=\"middle\" x=\"85\" y=\"-174.3\">output:</text>\n<polyline fill=\"none\" points=\"114,-166.5 114,-212.5 \" stroke=\"#000000\"/>\n<text fill=\"#000000\" font-family=\"Times,serif\" font-size=\"14.00\" text-anchor=\"middle\" x=\"169.5\" y=\"-197.3\">(None, None, 1)</text>\n<polyline fill=\"none\" points=\"114,-189.5 225,-189.5 \" stroke=\"#000000\"/>\n<text fill=\"#000000\" font-family=\"Times,serif\" font-size=\"14.00\" text-anchor=\"middle\" x=\"169.5\" y=\"-174.3\">(None, None, 4)</text>\n</g>\n<!-- 140368111348872 -->\n<g class=\"node\" id=\"node2\">\n<title>140368111348872</title>\n<polygon fill=\"none\" points=\"0,-83.5 0,-129.5 225,-129.5 225,-83.5 0,-83.5\" stroke=\"#000000\"/>\n<text fill=\"#000000\" font-family=\"Times,serif\" font-size=\"14.00\" text-anchor=\"middle\" x=\"28\" y=\"-102.8\">LSTM</text>\n<polyline fill=\"none\" points=\"56,-83.5 56,-129.5 \" stroke=\"#000000\"/>\n<text fill=\"#000000\" font-family=\"Times,serif\" font-size=\"14.00\" text-anchor=\"middle\" x=\"85\" y=\"-114.3\">input:</text>\n<polyline fill=\"none\" points=\"56,-106.5 114,-106.5 \" stroke=\"#000000\"/>\n<text fill=\"#000000\" font-family=\"Times,serif\" font-size=\"14.00\" text-anchor=\"middle\" x=\"85\" y=\"-91.3\">output:</text>\n<polyline fill=\"none\" points=\"114,-83.5 114,-129.5 \" stroke=\"#000000\"/>\n<text fill=\"#000000\" font-family=\"Times,serif\" font-size=\"14.00\" text-anchor=\"middle\" x=\"169.5\" y=\"-114.3\">(None, None, 4)</text>\n<polyline fill=\"none\" points=\"114,-106.5 225,-106.5 \" stroke=\"#000000\"/>\n<text fill=\"#000000\" font-family=\"Times,serif\" font-size=\"14.00\" text-anchor=\"middle\" x=\"169.5\" y=\"-91.3\">(None, None, 4)</text>\n</g>\n<!-- 140368111348368&#45;&gt;140368111348872 -->\n<g class=\"edge\" id=\"edge2\">\n<title>140368111348368-&gt;140368111348872</title>\n<path d=\"M112.5,-166.3799C112.5,-158.1745 112.5,-148.7679 112.5,-139.8786\" fill=\"none\" stroke=\"#000000\"/>\n<polygon fill=\"#000000\" points=\"116.0001,-139.784 112.5,-129.784 109.0001,-139.784 116.0001,-139.784\" stroke=\"#000000\"/>\n</g>\n<!-- 140368111310160 -->\n<g class=\"node\" id=\"node3\">\n<title>140368111310160</title>\n<polygon fill=\"none\" points=\"0,-.5 0,-46.5 225,-46.5 225,-.5 0,-.5\" stroke=\"#000000\"/>\n<text fill=\"#000000\" font-family=\"Times,serif\" font-size=\"14.00\" text-anchor=\"middle\" x=\"28\" y=\"-19.8\">LSTM</text>\n<polyline fill=\"none\" points=\"56,-.5 56,-46.5 \" stroke=\"#000000\"/>\n<text fill=\"#000000\" font-family=\"Times,serif\" font-size=\"14.00\" text-anchor=\"middle\" x=\"85\" y=\"-31.3\">input:</text>\n<polyline fill=\"none\" points=\"56,-23.5 114,-23.5 \" stroke=\"#000000\"/>\n<text fill=\"#000000\" font-family=\"Times,serif\" font-size=\"14.00\" text-anchor=\"middle\" x=\"85\" y=\"-8.3\">output:</text>\n<polyline fill=\"none\" points=\"114,-.5 114,-46.5 \" stroke=\"#000000\"/>\n<text fill=\"#000000\" font-family=\"Times,serif\" font-size=\"14.00\" text-anchor=\"middle\" x=\"169.5\" y=\"-31.3\">(None, None, 4)</text>\n<polyline fill=\"none\" points=\"114,-23.5 225,-23.5 \" stroke=\"#000000\"/>\n<text fill=\"#000000\" font-family=\"Times,serif\" font-size=\"14.00\" text-anchor=\"middle\" x=\"169.5\" y=\"-8.3\">(None, 1)</text>\n</g>\n<!-- 140368111348872&#45;&gt;140368111310160 -->\n<g class=\"edge\" id=\"edge3\">\n<title>140368111348872-&gt;140368111310160</title>\n<path d=\"M112.5,-83.3799C112.5,-75.1745 112.5,-65.7679 112.5,-56.8786\" fill=\"none\" stroke=\"#000000\"/>\n<polygon fill=\"#000000\" points=\"116.0001,-56.784 112.5,-46.784 109.0001,-56.784 116.0001,-56.784\" stroke=\"#000000\"/>\n</g>\n<!-- 140368111388880 -->\n<g class=\"node\" id=\"node4\">\n<title>140368111388880</title>\n<polygon fill=\"none\" points=\"48.5,-249.5 48.5,-285.5 176.5,-285.5 176.5,-249.5 48.5,-249.5\" stroke=\"#000000\"/>\n<text fill=\"#000000\" font-family=\"Times,serif\" font-size=\"14.00\" text-anchor=\"middle\" x=\"112.5\" y=\"-263.8\">140368111388880</text>\n</g>\n<!-- 140368111388880&#45;&gt;140368111348368 -->\n<g class=\"edge\" id=\"edge1\">\n<title>140368111388880-&gt;140368111348368</title>\n<path d=\"M112.5,-249.4092C112.5,-241.4308 112.5,-231.795 112.5,-222.606\" fill=\"none\" stroke=\"#000000\"/>\n<polygon fill=\"#000000\" points=\"116.0001,-222.5333 112.5,-212.5333 109.0001,-222.5334 116.0001,-222.5333\" stroke=\"#000000\"/>\n</g>\n</g>\n</svg>"
          },
          "metadata": {
            "tags": []
          },
          "execution_count": 161
        }
      ]
    },
    {
      "cell_type": "code",
      "metadata": {
        "id": "p-WdxVm92bWO",
        "colab_type": "code",
        "colab": {
          "base_uri": "https://localhost:8080/",
          "height": 10234
        },
        "outputId": "e0f822f7-72eb-4f5a-9e28-c070a1dcc09b"
      },
      "source": [
        "history = model.fit( x_train, y_train, epochs=300, validation_data=(x_test,y_test) )"
      ],
      "execution_count": 162,
      "outputs": [
        {
          "output_type": "stream",
          "text": [
            "Train on 80 samples, validate on 20 samples\n",
            "Epoch 1/300\n",
            "80/80 [==============================] - 5s 61ms/step - loss: 0.5856 - acc: 0.0000e+00 - val_loss: 0.4667 - val_acc: 0.0000e+00\n",
            "Epoch 2/300\n",
            "80/80 [==============================] - 0s 1ms/step - loss: 0.5718 - acc: 0.0000e+00 - val_loss: 0.4541 - val_acc: 0.0000e+00\n",
            "Epoch 3/300\n",
            "80/80 [==============================] - 0s 1ms/step - loss: 0.5585 - acc: 0.0000e+00 - val_loss: 0.4416 - val_acc: 0.0000e+00\n",
            "Epoch 4/300\n",
            "80/80 [==============================] - 0s 1ms/step - loss: 0.5449 - acc: 0.0000e+00 - val_loss: 0.4289 - val_acc: 0.0000e+00\n",
            "Epoch 5/300\n",
            "80/80 [==============================] - 0s 1ms/step - loss: 0.5316 - acc: 0.0000e+00 - val_loss: 0.4161 - val_acc: 0.0000e+00\n",
            "Epoch 6/300\n",
            "80/80 [==============================] - 0s 1ms/step - loss: 0.5179 - acc: 0.0000e+00 - val_loss: 0.4031 - val_acc: 0.0000e+00\n",
            "Epoch 7/300\n",
            "80/80 [==============================] - 0s 1ms/step - loss: 0.5040 - acc: 0.0000e+00 - val_loss: 0.3898 - val_acc: 0.0000e+00\n",
            "Epoch 8/300\n",
            "80/80 [==============================] - 0s 1ms/step - loss: 0.4898 - acc: 0.0000e+00 - val_loss: 0.3762 - val_acc: 0.0000e+00\n",
            "Epoch 9/300\n",
            "80/80 [==============================] - 0s 1ms/step - loss: 0.4759 - acc: 0.0000e+00 - val_loss: 0.3624 - val_acc: 0.0000e+00\n",
            "Epoch 10/300\n",
            "80/80 [==============================] - 0s 1ms/step - loss: 0.4616 - acc: 0.0000e+00 - val_loss: 0.3494 - val_acc: 0.0000e+00\n",
            "Epoch 11/300\n",
            "80/80 [==============================] - 0s 1ms/step - loss: 0.4474 - acc: 0.0000e+00 - val_loss: 0.3362 - val_acc: 0.0000e+00\n",
            "Epoch 12/300\n",
            "80/80 [==============================] - 0s 1ms/step - loss: 0.4336 - acc: 0.0000e+00 - val_loss: 0.3227 - val_acc: 0.0000e+00\n",
            "Epoch 13/300\n",
            "80/80 [==============================] - 0s 1ms/step - loss: 0.4193 - acc: 0.0000e+00 - val_loss: 0.3091 - val_acc: 0.0000e+00\n",
            "Epoch 14/300\n",
            "80/80 [==============================] - 0s 2ms/step - loss: 0.4065 - acc: 0.0000e+00 - val_loss: 0.2954 - val_acc: 0.0000e+00\n",
            "Epoch 15/300\n",
            "80/80 [==============================] - 0s 1ms/step - loss: 0.3934 - acc: 0.0000e+00 - val_loss: 0.2820 - val_acc: 0.0000e+00\n",
            "Epoch 16/300\n",
            "80/80 [==============================] - 0s 1ms/step - loss: 0.3805 - acc: 0.0000e+00 - val_loss: 0.2697 - val_acc: 0.0000e+00\n",
            "Epoch 17/300\n",
            "80/80 [==============================] - 0s 1ms/step - loss: 0.3690 - acc: 0.0000e+00 - val_loss: 0.2578 - val_acc: 0.0000e+00\n",
            "Epoch 18/300\n",
            "80/80 [==============================] - 0s 1ms/step - loss: 0.3572 - acc: 0.0000e+00 - val_loss: 0.2480 - val_acc: 0.0000e+00\n",
            "Epoch 19/300\n",
            "80/80 [==============================] - 0s 1ms/step - loss: 0.3460 - acc: 0.0000e+00 - val_loss: 0.2393 - val_acc: 0.0000e+00\n",
            "Epoch 20/300\n",
            "80/80 [==============================] - 0s 1ms/step - loss: 0.3354 - acc: 0.0000e+00 - val_loss: 0.2317 - val_acc: 0.0000e+00\n",
            "Epoch 21/300\n",
            "80/80 [==============================] - 0s 1ms/step - loss: 0.3253 - acc: 0.0000e+00 - val_loss: 0.2244 - val_acc: 0.0000e+00\n",
            "Epoch 22/300\n",
            "80/80 [==============================] - 0s 1ms/step - loss: 0.3155 - acc: 0.0000e+00 - val_loss: 0.2181 - val_acc: 0.0000e+00\n",
            "Epoch 23/300\n",
            "80/80 [==============================] - 0s 2ms/step - loss: 0.3073 - acc: 0.0000e+00 - val_loss: 0.2125 - val_acc: 0.0000e+00\n",
            "Epoch 24/300\n",
            "80/80 [==============================] - 0s 1ms/step - loss: 0.2993 - acc: 0.0000e+00 - val_loss: 0.2072 - val_acc: 0.0000e+00\n",
            "Epoch 25/300\n",
            "80/80 [==============================] - 0s 1ms/step - loss: 0.2916 - acc: 0.0000e+00 - val_loss: 0.2032 - val_acc: 0.0000e+00\n",
            "Epoch 26/300\n",
            "80/80 [==============================] - 0s 1ms/step - loss: 0.2856 - acc: 0.0000e+00 - val_loss: 0.2001 - val_acc: 0.0000e+00\n",
            "Epoch 27/300\n",
            "80/80 [==============================] - 0s 1ms/step - loss: 0.2794 - acc: 0.0000e+00 - val_loss: 0.1977 - val_acc: 0.0000e+00\n",
            "Epoch 28/300\n",
            "80/80 [==============================] - 0s 1ms/step - loss: 0.2738 - acc: 0.0000e+00 - val_loss: 0.1956 - val_acc: 0.0000e+00\n",
            "Epoch 29/300\n",
            "80/80 [==============================] - 0s 1ms/step - loss: 0.2691 - acc: 0.0000e+00 - val_loss: 0.1946 - val_acc: 0.0000e+00\n",
            "Epoch 30/300\n",
            "80/80 [==============================] - 0s 1ms/step - loss: 0.2645 - acc: 0.0000e+00 - val_loss: 0.1935 - val_acc: 0.0000e+00\n",
            "Epoch 31/300\n",
            "80/80 [==============================] - 0s 1ms/step - loss: 0.2603 - acc: 0.0000e+00 - val_loss: 0.1926 - val_acc: 0.0000e+00\n",
            "Epoch 32/300\n",
            "80/80 [==============================] - 0s 1ms/step - loss: 0.2569 - acc: 0.0000e+00 - val_loss: 0.1916 - val_acc: 0.0000e+00\n",
            "Epoch 33/300\n",
            "80/80 [==============================] - 0s 1ms/step - loss: 0.2537 - acc: 0.0000e+00 - val_loss: 0.1907 - val_acc: 0.0000e+00\n",
            "Epoch 34/300\n",
            "80/80 [==============================] - 0s 1ms/step - loss: 0.2504 - acc: 0.0000e+00 - val_loss: 0.1898 - val_acc: 0.0000e+00\n",
            "Epoch 35/300\n",
            "80/80 [==============================] - 0s 1ms/step - loss: 0.2480 - acc: 0.0000e+00 - val_loss: 0.1896 - val_acc: 0.0000e+00\n",
            "Epoch 36/300\n",
            "80/80 [==============================] - 0s 1ms/step - loss: 0.2453 - acc: 0.0000e+00 - val_loss: 0.1893 - val_acc: 0.0000e+00\n",
            "Epoch 37/300\n",
            "80/80 [==============================] - 0s 1ms/step - loss: 0.2430 - acc: 0.0000e+00 - val_loss: 0.1894 - val_acc: 0.0000e+00\n",
            "Epoch 38/300\n",
            "80/80 [==============================] - 0s 1ms/step - loss: 0.2407 - acc: 0.0000e+00 - val_loss: 0.1897 - val_acc: 0.0000e+00\n",
            "Epoch 39/300\n",
            "80/80 [==============================] - 0s 1ms/step - loss: 0.2387 - acc: 0.0125 - val_loss: 0.1899 - val_acc: 0.0000e+00\n",
            "Epoch 40/300\n",
            "80/80 [==============================] - 0s 1ms/step - loss: 0.2365 - acc: 0.0125 - val_loss: 0.1900 - val_acc: 0.0000e+00\n",
            "Epoch 41/300\n",
            "80/80 [==============================] - 0s 1ms/step - loss: 0.2347 - acc: 0.0125 - val_loss: 0.1900 - val_acc: 0.0000e+00\n",
            "Epoch 42/300\n",
            "80/80 [==============================] - 0s 1ms/step - loss: 0.2329 - acc: 0.0125 - val_loss: 0.1899 - val_acc: 0.0000e+00\n",
            "Epoch 43/300\n",
            "80/80 [==============================] - 0s 1ms/step - loss: 0.2312 - acc: 0.0125 - val_loss: 0.1898 - val_acc: 0.0000e+00\n",
            "Epoch 44/300\n",
            "80/80 [==============================] - 0s 1ms/step - loss: 0.2295 - acc: 0.0125 - val_loss: 0.1899 - val_acc: 0.0000e+00\n",
            "Epoch 45/300\n",
            "80/80 [==============================] - 0s 1ms/step - loss: 0.2277 - acc: 0.0125 - val_loss: 0.1900 - val_acc: 0.0000e+00\n",
            "Epoch 46/300\n",
            "80/80 [==============================] - 0s 1ms/step - loss: 0.2261 - acc: 0.0125 - val_loss: 0.1900 - val_acc: 0.0000e+00\n",
            "Epoch 47/300\n",
            "80/80 [==============================] - 0s 1ms/step - loss: 0.2248 - acc: 0.0125 - val_loss: 0.1901 - val_acc: 0.0000e+00\n",
            "Epoch 48/300\n",
            "80/80 [==============================] - 0s 1ms/step - loss: 0.2231 - acc: 0.0125 - val_loss: 0.1901 - val_acc: 0.0000e+00\n",
            "Epoch 49/300\n",
            "80/80 [==============================] - 0s 1ms/step - loss: 0.2213 - acc: 0.0125 - val_loss: 0.1901 - val_acc: 0.0000e+00\n",
            "Epoch 50/300\n",
            "80/80 [==============================] - 0s 1ms/step - loss: 0.2198 - acc: 0.0125 - val_loss: 0.1902 - val_acc: 0.0000e+00\n",
            "Epoch 51/300\n",
            "80/80 [==============================] - 0s 2ms/step - loss: 0.2183 - acc: 0.0125 - val_loss: 0.1902 - val_acc: 0.0000e+00\n",
            "Epoch 52/300\n",
            "80/80 [==============================] - 0s 1ms/step - loss: 0.2167 - acc: 0.0125 - val_loss: 0.1901 - val_acc: 0.0000e+00\n",
            "Epoch 53/300\n",
            "80/80 [==============================] - 0s 1ms/step - loss: 0.2151 - acc: 0.0125 - val_loss: 0.1898 - val_acc: 0.0000e+00\n",
            "Epoch 54/300\n",
            "80/80 [==============================] - 0s 1ms/step - loss: 0.2135 - acc: 0.0125 - val_loss: 0.1893 - val_acc: 0.0000e+00\n",
            "Epoch 55/300\n",
            "80/80 [==============================] - 0s 1ms/step - loss: 0.2118 - acc: 0.0125 - val_loss: 0.1885 - val_acc: 0.0000e+00\n",
            "Epoch 56/300\n",
            "80/80 [==============================] - 0s 1ms/step - loss: 0.2103 - acc: 0.0125 - val_loss: 0.1878 - val_acc: 0.0000e+00\n",
            "Epoch 57/300\n",
            "80/80 [==============================] - 0s 1ms/step - loss: 0.2085 - acc: 0.0125 - val_loss: 0.1867 - val_acc: 0.0000e+00\n",
            "Epoch 58/300\n",
            "80/80 [==============================] - 0s 1ms/step - loss: 0.2068 - acc: 0.0125 - val_loss: 0.1858 - val_acc: 0.0000e+00\n",
            "Epoch 59/300\n",
            "80/80 [==============================] - 0s 1ms/step - loss: 0.2051 - acc: 0.0125 - val_loss: 0.1848 - val_acc: 0.0000e+00\n",
            "Epoch 60/300\n",
            "80/80 [==============================] - 0s 1ms/step - loss: 0.2032 - acc: 0.0125 - val_loss: 0.1835 - val_acc: 0.0000e+00\n",
            "Epoch 61/300\n",
            "80/80 [==============================] - 0s 1ms/step - loss: 0.2013 - acc: 0.0125 - val_loss: 0.1820 - val_acc: 0.0000e+00\n",
            "Epoch 62/300\n",
            "80/80 [==============================] - 0s 1ms/step - loss: 0.1993 - acc: 0.0125 - val_loss: 0.1801 - val_acc: 0.0000e+00\n",
            "Epoch 63/300\n",
            "80/80 [==============================] - 0s 1ms/step - loss: 0.1973 - acc: 0.0125 - val_loss: 0.1778 - val_acc: 0.0000e+00\n",
            "Epoch 64/300\n",
            "80/80 [==============================] - 0s 1ms/step - loss: 0.1951 - acc: 0.0125 - val_loss: 0.1755 - val_acc: 0.0000e+00\n",
            "Epoch 65/300\n",
            "80/80 [==============================] - 0s 1ms/step - loss: 0.1927 - acc: 0.0125 - val_loss: 0.1732 - val_acc: 0.0000e+00\n",
            "Epoch 66/300\n",
            "80/80 [==============================] - 0s 1ms/step - loss: 0.1904 - acc: 0.0125 - val_loss: 0.1707 - val_acc: 0.0000e+00\n",
            "Epoch 67/300\n",
            "80/80 [==============================] - 0s 1ms/step - loss: 0.1879 - acc: 0.0125 - val_loss: 0.1678 - val_acc: 0.0000e+00\n",
            "Epoch 68/300\n",
            "80/80 [==============================] - 0s 1ms/step - loss: 0.1851 - acc: 0.0125 - val_loss: 0.1648 - val_acc: 0.0000e+00\n",
            "Epoch 69/300\n",
            "80/80 [==============================] - 0s 1ms/step - loss: 0.1824 - acc: 0.0125 - val_loss: 0.1613 - val_acc: 0.0000e+00\n",
            "Epoch 70/300\n",
            "80/80 [==============================] - 0s 2ms/step - loss: 0.1794 - acc: 0.0125 - val_loss: 0.1576 - val_acc: 0.0000e+00\n",
            "Epoch 71/300\n",
            "80/80 [==============================] - 0s 1ms/step - loss: 0.1763 - acc: 0.0125 - val_loss: 0.1537 - val_acc: 0.0000e+00\n",
            "Epoch 72/300\n",
            "80/80 [==============================] - 0s 1ms/step - loss: 0.1729 - acc: 0.0125 - val_loss: 0.1496 - val_acc: 0.0000e+00\n",
            "Epoch 73/300\n",
            "80/80 [==============================] - 0s 1ms/step - loss: 0.1694 - acc: 0.0125 - val_loss: 0.1454 - val_acc: 0.0000e+00\n",
            "Epoch 74/300\n",
            "80/80 [==============================] - 0s 2ms/step - loss: 0.1654 - acc: 0.0125 - val_loss: 0.1410 - val_acc: 0.0000e+00\n",
            "Epoch 75/300\n",
            "80/80 [==============================] - 0s 1ms/step - loss: 0.1616 - acc: 0.0125 - val_loss: 0.1363 - val_acc: 0.0000e+00\n",
            "Epoch 76/300\n",
            "80/80 [==============================] - 0s 1ms/step - loss: 0.1575 - acc: 0.0125 - val_loss: 0.1309 - val_acc: 0.0000e+00\n",
            "Epoch 77/300\n",
            "80/80 [==============================] - 0s 1ms/step - loss: 0.1530 - acc: 0.0125 - val_loss: 0.1254 - val_acc: 0.0000e+00\n",
            "Epoch 78/300\n",
            "80/80 [==============================] - 0s 1ms/step - loss: 0.1482 - acc: 0.0125 - val_loss: 0.1198 - val_acc: 0.0000e+00\n",
            "Epoch 79/300\n",
            "80/80 [==============================] - 0s 1ms/step - loss: 0.1432 - acc: 0.0125 - val_loss: 0.1140 - val_acc: 0.0000e+00\n",
            "Epoch 80/300\n",
            "80/80 [==============================] - 0s 1ms/step - loss: 0.1379 - acc: 0.0125 - val_loss: 0.1080 - val_acc: 0.0000e+00\n",
            "Epoch 81/300\n",
            "80/80 [==============================] - 0s 1ms/step - loss: 0.1325 - acc: 0.0125 - val_loss: 0.1020 - val_acc: 0.0000e+00\n",
            "Epoch 82/300\n",
            "80/80 [==============================] - 0s 1ms/step - loss: 0.1266 - acc: 0.0125 - val_loss: 0.0956 - val_acc: 0.0000e+00\n",
            "Epoch 83/300\n",
            "80/80 [==============================] - 0s 1ms/step - loss: 0.1202 - acc: 0.0125 - val_loss: 0.0891 - val_acc: 0.0000e+00\n",
            "Epoch 84/300\n",
            "80/80 [==============================] - 0s 1ms/step - loss: 0.1134 - acc: 0.0125 - val_loss: 0.0825 - val_acc: 0.0000e+00\n",
            "Epoch 85/300\n",
            "80/80 [==============================] - 0s 1ms/step - loss: 0.1064 - acc: 0.0125 - val_loss: 0.0759 - val_acc: 0.0000e+00\n",
            "Epoch 86/300\n",
            "80/80 [==============================] - 0s 1ms/step - loss: 0.0988 - acc: 0.0125 - val_loss: 0.0688 - val_acc: 0.0000e+00\n",
            "Epoch 87/300\n",
            "80/80 [==============================] - 0s 1ms/step - loss: 0.0908 - acc: 0.0125 - val_loss: 0.0603 - val_acc: 0.0000e+00\n",
            "Epoch 88/300\n",
            "80/80 [==============================] - 0s 1ms/step - loss: 0.0823 - acc: 0.0125 - val_loss: 0.0515 - val_acc: 0.0000e+00\n",
            "Epoch 89/300\n",
            "80/80 [==============================] - 0s 1ms/step - loss: 0.0745 - acc: 0.0125 - val_loss: 0.0500 - val_acc: 0.0000e+00\n",
            "Epoch 90/300\n",
            "80/80 [==============================] - 0s 1ms/step - loss: 0.0702 - acc: 0.0125 - val_loss: 0.0494 - val_acc: 0.0000e+00\n",
            "Epoch 91/300\n",
            "80/80 [==============================] - 0s 1ms/step - loss: 0.0657 - acc: 0.0125 - val_loss: 0.0518 - val_acc: 0.0000e+00\n",
            "Epoch 92/300\n",
            "80/80 [==============================] - 0s 1ms/step - loss: 0.0618 - acc: 0.0125 - val_loss: 0.0545 - val_acc: 0.0000e+00\n",
            "Epoch 93/300\n",
            "80/80 [==============================] - 0s 1ms/step - loss: 0.0601 - acc: 0.0125 - val_loss: 0.0557 - val_acc: 0.0000e+00\n",
            "Epoch 94/300\n",
            "80/80 [==============================] - 0s 1ms/step - loss: 0.0590 - acc: 0.0125 - val_loss: 0.0559 - val_acc: 0.0000e+00\n",
            "Epoch 95/300\n",
            "80/80 [==============================] - 0s 1ms/step - loss: 0.0573 - acc: 0.0125 - val_loss: 0.0553 - val_acc: 0.0000e+00\n",
            "Epoch 96/300\n",
            "80/80 [==============================] - 0s 1ms/step - loss: 0.0559 - acc: 0.0125 - val_loss: 0.0541 - val_acc: 0.0000e+00\n",
            "Epoch 97/300\n",
            "80/80 [==============================] - 0s 1ms/step - loss: 0.0544 - acc: 0.0125 - val_loss: 0.0527 - val_acc: 0.0000e+00\n",
            "Epoch 98/300\n",
            "80/80 [==============================] - 0s 1ms/step - loss: 0.0529 - acc: 0.0125 - val_loss: 0.0514 - val_acc: 0.0000e+00\n",
            "Epoch 99/300\n",
            "80/80 [==============================] - 0s 1ms/step - loss: 0.0516 - acc: 0.0125 - val_loss: 0.0504 - val_acc: 0.0000e+00\n",
            "Epoch 100/300\n",
            "80/80 [==============================] - 0s 1ms/step - loss: 0.0501 - acc: 0.0125 - val_loss: 0.0495 - val_acc: 0.0000e+00\n",
            "Epoch 101/300\n",
            "80/80 [==============================] - 0s 1ms/step - loss: 0.0486 - acc: 0.0125 - val_loss: 0.0486 - val_acc: 0.0000e+00\n",
            "Epoch 102/300\n",
            "80/80 [==============================] - 0s 1ms/step - loss: 0.0472 - acc: 0.0125 - val_loss: 0.0479 - val_acc: 0.0000e+00\n",
            "Epoch 103/300\n",
            "80/80 [==============================] - 0s 1ms/step - loss: 0.0458 - acc: 0.0125 - val_loss: 0.0464 - val_acc: 0.0000e+00\n",
            "Epoch 104/300\n",
            "80/80 [==============================] - 0s 1ms/step - loss: 0.0444 - acc: 0.0125 - val_loss: 0.0443 - val_acc: 0.0000e+00\n",
            "Epoch 105/300\n",
            "80/80 [==============================] - 0s 1ms/step - loss: 0.0429 - acc: 0.0125 - val_loss: 0.0425 - val_acc: 0.0000e+00\n",
            "Epoch 106/300\n",
            "80/80 [==============================] - 0s 1ms/step - loss: 0.0417 - acc: 0.0125 - val_loss: 0.0411 - val_acc: 0.0000e+00\n",
            "Epoch 107/300\n",
            "80/80 [==============================] - 0s 1ms/step - loss: 0.0405 - acc: 0.0125 - val_loss: 0.0399 - val_acc: 0.0000e+00\n",
            "Epoch 108/300\n",
            "80/80 [==============================] - 0s 1ms/step - loss: 0.0396 - acc: 0.0125 - val_loss: 0.0390 - val_acc: 0.0000e+00\n",
            "Epoch 109/300\n",
            "80/80 [==============================] - 0s 1ms/step - loss: 0.0382 - acc: 0.0125 - val_loss: 0.0383 - val_acc: 0.0000e+00\n",
            "Epoch 110/300\n",
            "80/80 [==============================] - 0s 1ms/step - loss: 0.0372 - acc: 0.0125 - val_loss: 0.0383 - val_acc: 0.0000e+00\n",
            "Epoch 111/300\n",
            "80/80 [==============================] - 0s 1ms/step - loss: 0.0362 - acc: 0.0125 - val_loss: 0.0376 - val_acc: 0.0000e+00\n",
            "Epoch 112/300\n",
            "80/80 [==============================] - 0s 1ms/step - loss: 0.0352 - acc: 0.0125 - val_loss: 0.0370 - val_acc: 0.0000e+00\n",
            "Epoch 113/300\n",
            "80/80 [==============================] - 0s 1ms/step - loss: 0.0341 - acc: 0.0125 - val_loss: 0.0364 - val_acc: 0.0000e+00\n",
            "Epoch 114/300\n",
            "80/80 [==============================] - 0s 1ms/step - loss: 0.0330 - acc: 0.0125 - val_loss: 0.0359 - val_acc: 0.0000e+00\n",
            "Epoch 115/300\n",
            "80/80 [==============================] - 0s 1ms/step - loss: 0.0322 - acc: 0.0125 - val_loss: 0.0354 - val_acc: 0.0000e+00\n",
            "Epoch 116/300\n",
            "80/80 [==============================] - 0s 1ms/step - loss: 0.0313 - acc: 0.0125 - val_loss: 0.0348 - val_acc: 0.0000e+00\n",
            "Epoch 117/300\n",
            "80/80 [==============================] - 0s 1ms/step - loss: 0.0305 - acc: 0.0125 - val_loss: 0.0344 - val_acc: 0.0000e+00\n",
            "Epoch 118/300\n",
            "80/80 [==============================] - 0s 1ms/step - loss: 0.0298 - acc: 0.0125 - val_loss: 0.0340 - val_acc: 0.0000e+00\n",
            "Epoch 119/300\n",
            "80/80 [==============================] - 0s 1ms/step - loss: 0.0292 - acc: 0.0125 - val_loss: 0.0333 - val_acc: 0.0000e+00\n",
            "Epoch 120/300\n",
            "80/80 [==============================] - 0s 1ms/step - loss: 0.0283 - acc: 0.0125 - val_loss: 0.0324 - val_acc: 0.0000e+00\n",
            "Epoch 121/300\n",
            "80/80 [==============================] - 0s 1ms/step - loss: 0.0278 - acc: 0.0125 - val_loss: 0.0318 - val_acc: 0.0000e+00\n",
            "Epoch 122/300\n",
            "80/80 [==============================] - 0s 1ms/step - loss: 0.0272 - acc: 0.0125 - val_loss: 0.0311 - val_acc: 0.0000e+00\n",
            "Epoch 123/300\n",
            "80/80 [==============================] - 0s 1ms/step - loss: 0.0266 - acc: 0.0125 - val_loss: 0.0304 - val_acc: 0.0000e+00\n",
            "Epoch 124/300\n",
            "80/80 [==============================] - 0s 1ms/step - loss: 0.0261 - acc: 0.0125 - val_loss: 0.0299 - val_acc: 0.0000e+00\n",
            "Epoch 125/300\n",
            "80/80 [==============================] - 0s 1ms/step - loss: 0.0256 - acc: 0.0125 - val_loss: 0.0293 - val_acc: 0.0000e+00\n",
            "Epoch 126/300\n",
            "80/80 [==============================] - 0s 1ms/step - loss: 0.0252 - acc: 0.0125 - val_loss: 0.0289 - val_acc: 0.0000e+00\n",
            "Epoch 127/300\n",
            "80/80 [==============================] - 0s 1ms/step - loss: 0.0246 - acc: 0.0125 - val_loss: 0.0286 - val_acc: 0.0000e+00\n",
            "Epoch 128/300\n",
            "80/80 [==============================] - 0s 1ms/step - loss: 0.0243 - acc: 0.0125 - val_loss: 0.0282 - val_acc: 0.0000e+00\n",
            "Epoch 129/300\n",
            "80/80 [==============================] - 0s 1ms/step - loss: 0.0238 - acc: 0.0125 - val_loss: 0.0280 - val_acc: 0.0000e+00\n",
            "Epoch 130/300\n",
            "80/80 [==============================] - 0s 1ms/step - loss: 0.0234 - acc: 0.0125 - val_loss: 0.0276 - val_acc: 0.0000e+00\n",
            "Epoch 131/300\n",
            "80/80 [==============================] - 0s 1ms/step - loss: 0.0230 - acc: 0.0125 - val_loss: 0.0277 - val_acc: 0.0000e+00\n",
            "Epoch 132/300\n",
            "80/80 [==============================] - 0s 1ms/step - loss: 0.0226 - acc: 0.0125 - val_loss: 0.0280 - val_acc: 0.0000e+00\n",
            "Epoch 133/300\n",
            "80/80 [==============================] - 0s 1ms/step - loss: 0.0225 - acc: 0.0125 - val_loss: 0.0273 - val_acc: 0.0000e+00\n",
            "Epoch 134/300\n",
            "80/80 [==============================] - 0s 1ms/step - loss: 0.0220 - acc: 0.0125 - val_loss: 0.0265 - val_acc: 0.0000e+00\n",
            "Epoch 135/300\n",
            "80/80 [==============================] - 0s 1ms/step - loss: 0.0216 - acc: 0.0125 - val_loss: 0.0261 - val_acc: 0.0000e+00\n",
            "Epoch 136/300\n",
            "80/80 [==============================] - 0s 1ms/step - loss: 0.0214 - acc: 0.0125 - val_loss: 0.0252 - val_acc: 0.0000e+00\n",
            "Epoch 137/300\n",
            "80/80 [==============================] - 0s 1ms/step - loss: 0.0209 - acc: 0.0125 - val_loss: 0.0249 - val_acc: 0.0000e+00\n",
            "Epoch 138/300\n",
            "80/80 [==============================] - 0s 1ms/step - loss: 0.0206 - acc: 0.0125 - val_loss: 0.0251 - val_acc: 0.0000e+00\n",
            "Epoch 139/300\n",
            "80/80 [==============================] - 0s 1ms/step - loss: 0.0205 - acc: 0.0125 - val_loss: 0.0249 - val_acc: 0.0000e+00\n",
            "Epoch 140/300\n",
            "80/80 [==============================] - 0s 1ms/step - loss: 0.0201 - acc: 0.0125 - val_loss: 0.0243 - val_acc: 0.0000e+00\n",
            "Epoch 141/300\n",
            "80/80 [==============================] - 0s 1ms/step - loss: 0.0199 - acc: 0.0125 - val_loss: 0.0236 - val_acc: 0.0000e+00\n",
            "Epoch 142/300\n",
            "80/80 [==============================] - 0s 1ms/step - loss: 0.0196 - acc: 0.0125 - val_loss: 0.0235 - val_acc: 0.0000e+00\n",
            "Epoch 143/300\n",
            "80/80 [==============================] - 0s 1ms/step - loss: 0.0193 - acc: 0.0125 - val_loss: 0.0238 - val_acc: 0.0000e+00\n",
            "Epoch 144/300\n",
            "80/80 [==============================] - 0s 1ms/step - loss: 0.0194 - acc: 0.0125 - val_loss: 0.0236 - val_acc: 0.0000e+00\n",
            "Epoch 145/300\n",
            "80/80 [==============================] - 0s 1ms/step - loss: 0.0189 - acc: 0.0125 - val_loss: 0.0229 - val_acc: 0.0000e+00\n",
            "Epoch 146/300\n",
            "80/80 [==============================] - 0s 1ms/step - loss: 0.0186 - acc: 0.0125 - val_loss: 0.0223 - val_acc: 0.0000e+00\n",
            "Epoch 147/300\n",
            "80/80 [==============================] - 0s 1ms/step - loss: 0.0184 - acc: 0.0125 - val_loss: 0.0222 - val_acc: 0.0000e+00\n",
            "Epoch 148/300\n",
            "80/80 [==============================] - 0s 1ms/step - loss: 0.0183 - acc: 0.0125 - val_loss: 0.0230 - val_acc: 0.0000e+00\n",
            "Epoch 149/300\n",
            "80/80 [==============================] - 0s 1ms/step - loss: 0.0182 - acc: 0.0125 - val_loss: 0.0225 - val_acc: 0.0000e+00\n",
            "Epoch 150/300\n",
            "80/80 [==============================] - 0s 1ms/step - loss: 0.0179 - acc: 0.0125 - val_loss: 0.0212 - val_acc: 0.0000e+00\n",
            "Epoch 151/300\n",
            "80/80 [==============================] - 0s 1ms/step - loss: 0.0176 - acc: 0.0125 - val_loss: 0.0214 - val_acc: 0.0000e+00\n",
            "Epoch 152/300\n",
            "80/80 [==============================] - 0s 1ms/step - loss: 0.0174 - acc: 0.0125 - val_loss: 0.0213 - val_acc: 0.0000e+00\n",
            "Epoch 153/300\n",
            "80/80 [==============================] - 0s 1ms/step - loss: 0.0172 - acc: 0.0125 - val_loss: 0.0203 - val_acc: 0.0000e+00\n",
            "Epoch 154/300\n",
            "80/80 [==============================] - 0s 1ms/step - loss: 0.0181 - acc: 0.0125 - val_loss: 0.0197 - val_acc: 0.0000e+00\n",
            "Epoch 155/300\n",
            "80/80 [==============================] - 0s 1ms/step - loss: 0.0171 - acc: 0.0125 - val_loss: 0.0204 - val_acc: 0.0000e+00\n",
            "Epoch 156/300\n",
            "80/80 [==============================] - 0s 1ms/step - loss: 0.0168 - acc: 0.0125 - val_loss: 0.0217 - val_acc: 0.0000e+00\n",
            "Epoch 157/300\n",
            "80/80 [==============================] - 0s 1ms/step - loss: 0.0169 - acc: 0.0125 - val_loss: 0.0205 - val_acc: 0.0000e+00\n",
            "Epoch 158/300\n",
            "80/80 [==============================] - 0s 1ms/step - loss: 0.0163 - acc: 0.0125 - val_loss: 0.0211 - val_acc: 0.0000e+00\n",
            "Epoch 159/300\n",
            "80/80 [==============================] - 0s 1ms/step - loss: 0.0164 - acc: 0.0125 - val_loss: 0.0209 - val_acc: 0.0000e+00\n",
            "Epoch 160/300\n",
            "80/80 [==============================] - 0s 1ms/step - loss: 0.0161 - acc: 0.0125 - val_loss: 0.0195 - val_acc: 0.0000e+00\n",
            "Epoch 161/300\n",
            "80/80 [==============================] - 0s 1ms/step - loss: 0.0162 - acc: 0.0125 - val_loss: 0.0187 - val_acc: 0.0000e+00\n",
            "Epoch 162/300\n",
            "80/80 [==============================] - 0s 1ms/step - loss: 0.0157 - acc: 0.0125 - val_loss: 0.0197 - val_acc: 0.0000e+00\n",
            "Epoch 163/300\n",
            "80/80 [==============================] - 0s 1ms/step - loss: 0.0159 - acc: 0.0125 - val_loss: 0.0196 - val_acc: 0.0000e+00\n",
            "Epoch 164/300\n",
            "80/80 [==============================] - 0s 1ms/step - loss: 0.0159 - acc: 0.0125 - val_loss: 0.0183 - val_acc: 0.0000e+00\n",
            "Epoch 165/300\n",
            "80/80 [==============================] - 0s 1ms/step - loss: 0.0155 - acc: 0.0125 - val_loss: 0.0183 - val_acc: 0.0000e+00\n",
            "Epoch 166/300\n",
            "80/80 [==============================] - 0s 1ms/step - loss: 0.0154 - acc: 0.0125 - val_loss: 0.0181 - val_acc: 0.0000e+00\n",
            "Epoch 167/300\n",
            "80/80 [==============================] - 0s 1ms/step - loss: 0.0156 - acc: 0.0125 - val_loss: 0.0186 - val_acc: 0.0000e+00\n",
            "Epoch 168/300\n",
            "80/80 [==============================] - 0s 1ms/step - loss: 0.0150 - acc: 0.0125 - val_loss: 0.0175 - val_acc: 0.0000e+00\n",
            "Epoch 169/300\n",
            "80/80 [==============================] - 0s 1ms/step - loss: 0.0155 - acc: 0.0125 - val_loss: 0.0173 - val_acc: 0.0000e+00\n",
            "Epoch 170/300\n",
            "80/80 [==============================] - 0s 1ms/step - loss: 0.0151 - acc: 0.0125 - val_loss: 0.0184 - val_acc: 0.0000e+00\n",
            "Epoch 171/300\n",
            "80/80 [==============================] - 0s 1ms/step - loss: 0.0154 - acc: 0.0125 - val_loss: 0.0180 - val_acc: 0.0000e+00\n",
            "Epoch 172/300\n",
            "80/80 [==============================] - 0s 1ms/step - loss: 0.0147 - acc: 0.0125 - val_loss: 0.0171 - val_acc: 0.0000e+00\n",
            "Epoch 173/300\n",
            "80/80 [==============================] - 0s 1ms/step - loss: 0.0152 - acc: 0.0125 - val_loss: 0.0170 - val_acc: 0.0000e+00\n",
            "Epoch 174/300\n",
            "80/80 [==============================] - 0s 1ms/step - loss: 0.0148 - acc: 0.0125 - val_loss: 0.0179 - val_acc: 0.0000e+00\n",
            "Epoch 175/300\n",
            "80/80 [==============================] - 0s 1ms/step - loss: 0.0147 - acc: 0.0125 - val_loss: 0.0174 - val_acc: 0.0000e+00\n",
            "Epoch 176/300\n",
            "80/80 [==============================] - 0s 1ms/step - loss: 0.0147 - acc: 0.0125 - val_loss: 0.0170 - val_acc: 0.0000e+00\n",
            "Epoch 177/300\n",
            "80/80 [==============================] - 0s 1ms/step - loss: 0.0143 - acc: 0.0125 - val_loss: 0.0177 - val_acc: 0.0000e+00\n",
            "Epoch 178/300\n",
            "80/80 [==============================] - 0s 1ms/step - loss: 0.0144 - acc: 0.0125 - val_loss: 0.0180 - val_acc: 0.0000e+00\n",
            "Epoch 179/300\n",
            "80/80 [==============================] - 0s 1ms/step - loss: 0.0143 - acc: 0.0125 - val_loss: 0.0169 - val_acc: 0.0000e+00\n",
            "Epoch 180/300\n",
            "80/80 [==============================] - 0s 1ms/step - loss: 0.0146 - acc: 0.0125 - val_loss: 0.0168 - val_acc: 0.0000e+00\n",
            "Epoch 181/300\n",
            "80/80 [==============================] - 0s 1ms/step - loss: 0.0149 - acc: 0.0125 - val_loss: 0.0178 - val_acc: 0.0000e+00\n",
            "Epoch 182/300\n",
            "80/80 [==============================] - 0s 1ms/step - loss: 0.0146 - acc: 0.0125 - val_loss: 0.0170 - val_acc: 0.0000e+00\n",
            "Epoch 183/300\n",
            "80/80 [==============================] - 0s 1ms/step - loss: 0.0144 - acc: 0.0125 - val_loss: 0.0179 - val_acc: 0.0000e+00\n",
            "Epoch 184/300\n",
            "80/80 [==============================] - 0s 1ms/step - loss: 0.0142 - acc: 0.0125 - val_loss: 0.0167 - val_acc: 0.0000e+00\n",
            "Epoch 185/300\n",
            "80/80 [==============================] - 0s 1ms/step - loss: 0.0140 - acc: 0.0125 - val_loss: 0.0168 - val_acc: 0.0000e+00\n",
            "Epoch 186/300\n",
            "80/80 [==============================] - 0s 1ms/step - loss: 0.0138 - acc: 0.0125 - val_loss: 0.0168 - val_acc: 0.0000e+00\n",
            "Epoch 187/300\n",
            "80/80 [==============================] - 0s 1ms/step - loss: 0.0137 - acc: 0.0125 - val_loss: 0.0166 - val_acc: 0.0000e+00\n",
            "Epoch 188/300\n",
            "80/80 [==============================] - 0s 1ms/step - loss: 0.0136 - acc: 0.0125 - val_loss: 0.0168 - val_acc: 0.0000e+00\n",
            "Epoch 189/300\n",
            "80/80 [==============================] - 0s 1ms/step - loss: 0.0137 - acc: 0.0125 - val_loss: 0.0166 - val_acc: 0.0000e+00\n",
            "Epoch 190/300\n",
            "80/80 [==============================] - 0s 1ms/step - loss: 0.0135 - acc: 0.0125 - val_loss: 0.0166 - val_acc: 0.0000e+00\n",
            "Epoch 191/300\n",
            "80/80 [==============================] - 0s 1ms/step - loss: 0.0139 - acc: 0.0125 - val_loss: 0.0166 - val_acc: 0.0000e+00\n",
            "Epoch 192/300\n",
            "80/80 [==============================] - 0s 1ms/step - loss: 0.0136 - acc: 0.0125 - val_loss: 0.0166 - val_acc: 0.0000e+00\n",
            "Epoch 193/300\n",
            "80/80 [==============================] - 0s 1ms/step - loss: 0.0136 - acc: 0.0125 - val_loss: 0.0174 - val_acc: 0.0000e+00\n",
            "Epoch 194/300\n",
            "80/80 [==============================] - 0s 1ms/step - loss: 0.0134 - acc: 0.0125 - val_loss: 0.0170 - val_acc: 0.0000e+00\n",
            "Epoch 195/300\n",
            "80/80 [==============================] - 0s 1ms/step - loss: 0.0133 - acc: 0.0125 - val_loss: 0.0166 - val_acc: 0.0000e+00\n",
            "Epoch 196/300\n",
            "80/80 [==============================] - 0s 1ms/step - loss: 0.0133 - acc: 0.0125 - val_loss: 0.0169 - val_acc: 0.0000e+00\n",
            "Epoch 197/300\n",
            "80/80 [==============================] - 0s 1ms/step - loss: 0.0131 - acc: 0.0125 - val_loss: 0.0165 - val_acc: 0.0000e+00\n",
            "Epoch 198/300\n",
            "80/80 [==============================] - 0s 1ms/step - loss: 0.0136 - acc: 0.0125 - val_loss: 0.0164 - val_acc: 0.0000e+00\n",
            "Epoch 199/300\n",
            "80/80 [==============================] - 0s 1ms/step - loss: 0.0136 - acc: 0.0125 - val_loss: 0.0166 - val_acc: 0.0000e+00\n",
            "Epoch 200/300\n",
            "80/80 [==============================] - 0s 1ms/step - loss: 0.0130 - acc: 0.0125 - val_loss: 0.0169 - val_acc: 0.0000e+00\n",
            "Epoch 201/300\n",
            "80/80 [==============================] - 0s 1ms/step - loss: 0.0130 - acc: 0.0125 - val_loss: 0.0168 - val_acc: 0.0000e+00\n",
            "Epoch 202/300\n",
            "80/80 [==============================] - 0s 1ms/step - loss: 0.0130 - acc: 0.0125 - val_loss: 0.0165 - val_acc: 0.0000e+00\n",
            "Epoch 203/300\n",
            "80/80 [==============================] - 0s 1ms/step - loss: 0.0129 - acc: 0.0125 - val_loss: 0.0162 - val_acc: 0.0000e+00\n",
            "Epoch 204/300\n",
            "80/80 [==============================] - 0s 1ms/step - loss: 0.0130 - acc: 0.0125 - val_loss: 0.0165 - val_acc: 0.0000e+00\n",
            "Epoch 205/300\n",
            "80/80 [==============================] - 0s 1ms/step - loss: 0.0130 - acc: 0.0125 - val_loss: 0.0165 - val_acc: 0.0000e+00\n",
            "Epoch 206/300\n",
            "80/80 [==============================] - 0s 1ms/step - loss: 0.0125 - acc: 0.0125 - val_loss: 0.0163 - val_acc: 0.0000e+00\n",
            "Epoch 207/300\n",
            "80/80 [==============================] - 0s 1ms/step - loss: 0.0134 - acc: 0.0125 - val_loss: 0.0164 - val_acc: 0.0000e+00\n",
            "Epoch 208/300\n",
            "80/80 [==============================] - 0s 1ms/step - loss: 0.0128 - acc: 0.0125 - val_loss: 0.0178 - val_acc: 0.0000e+00\n",
            "Epoch 209/300\n",
            "80/80 [==============================] - 0s 1ms/step - loss: 0.0124 - acc: 0.0125 - val_loss: 0.0162 - val_acc: 0.0000e+00\n",
            "Epoch 210/300\n",
            "80/80 [==============================] - 0s 1ms/step - loss: 0.0141 - acc: 0.0125 - val_loss: 0.0160 - val_acc: 0.0000e+00\n",
            "Epoch 211/300\n",
            "80/80 [==============================] - 0s 1ms/step - loss: 0.0125 - acc: 0.0125 - val_loss: 0.0178 - val_acc: 0.0000e+00\n",
            "Epoch 212/300\n",
            "80/80 [==============================] - 0s 1ms/step - loss: 0.0128 - acc: 0.0125 - val_loss: 0.0159 - val_acc: 0.0000e+00\n",
            "Epoch 213/300\n",
            "80/80 [==============================] - 0s 1ms/step - loss: 0.0129 - acc: 0.0125 - val_loss: 0.0160 - val_acc: 0.0000e+00\n",
            "Epoch 214/300\n",
            "80/80 [==============================] - 0s 1ms/step - loss: 0.0129 - acc: 0.0125 - val_loss: 0.0165 - val_acc: 0.0000e+00\n",
            "Epoch 215/300\n",
            "80/80 [==============================] - 0s 1ms/step - loss: 0.0127 - acc: 0.0125 - val_loss: 0.0158 - val_acc: 0.0000e+00\n",
            "Epoch 216/300\n",
            "80/80 [==============================] - 0s 1ms/step - loss: 0.0125 - acc: 0.0125 - val_loss: 0.0158 - val_acc: 0.0000e+00\n",
            "Epoch 217/300\n",
            "80/80 [==============================] - 0s 1ms/step - loss: 0.0126 - acc: 0.0125 - val_loss: 0.0160 - val_acc: 0.0000e+00\n",
            "Epoch 218/300\n",
            "80/80 [==============================] - 0s 1ms/step - loss: 0.0121 - acc: 0.0125 - val_loss: 0.0164 - val_acc: 0.0000e+00\n",
            "Epoch 219/300\n",
            "80/80 [==============================] - 0s 1ms/step - loss: 0.0122 - acc: 0.0125 - val_loss: 0.0156 - val_acc: 0.0000e+00\n",
            "Epoch 220/300\n",
            "80/80 [==============================] - 0s 1ms/step - loss: 0.0122 - acc: 0.0125 - val_loss: 0.0157 - val_acc: 0.0000e+00\n",
            "Epoch 221/300\n",
            "80/80 [==============================] - 0s 1ms/step - loss: 0.0122 - acc: 0.0125 - val_loss: 0.0161 - val_acc: 0.0000e+00\n",
            "Epoch 222/300\n",
            "80/80 [==============================] - 0s 1ms/step - loss: 0.0120 - acc: 0.0125 - val_loss: 0.0155 - val_acc: 0.0000e+00\n",
            "Epoch 223/300\n",
            "80/80 [==============================] - 0s 1ms/step - loss: 0.0119 - acc: 0.0125 - val_loss: 0.0157 - val_acc: 0.0000e+00\n",
            "Epoch 224/300\n",
            "80/80 [==============================] - 0s 1ms/step - loss: 0.0118 - acc: 0.0125 - val_loss: 0.0160 - val_acc: 0.0000e+00\n",
            "Epoch 225/300\n",
            "80/80 [==============================] - 0s 1ms/step - loss: 0.0121 - acc: 0.0125 - val_loss: 0.0158 - val_acc: 0.0000e+00\n",
            "Epoch 226/300\n",
            "80/80 [==============================] - 0s 1ms/step - loss: 0.0117 - acc: 0.0125 - val_loss: 0.0153 - val_acc: 0.0000e+00\n",
            "Epoch 227/300\n",
            "80/80 [==============================] - 0s 1ms/step - loss: 0.0120 - acc: 0.0125 - val_loss: 0.0155 - val_acc: 0.0000e+00\n",
            "Epoch 228/300\n",
            "80/80 [==============================] - 0s 1ms/step - loss: 0.0117 - acc: 0.0125 - val_loss: 0.0155 - val_acc: 0.0000e+00\n",
            "Epoch 229/300\n",
            "80/80 [==============================] - 0s 1ms/step - loss: 0.0117 - acc: 0.0125 - val_loss: 0.0154 - val_acc: 0.0000e+00\n",
            "Epoch 230/300\n",
            "80/80 [==============================] - 0s 1ms/step - loss: 0.0118 - acc: 0.0125 - val_loss: 0.0154 - val_acc: 0.0000e+00\n",
            "Epoch 231/300\n",
            "80/80 [==============================] - 0s 1ms/step - loss: 0.0116 - acc: 0.0125 - val_loss: 0.0164 - val_acc: 0.0000e+00\n",
            "Epoch 232/300\n",
            "80/80 [==============================] - 0s 1ms/step - loss: 0.0117 - acc: 0.0125 - val_loss: 0.0151 - val_acc: 0.0000e+00\n",
            "Epoch 233/300\n",
            "80/80 [==============================] - 0s 1ms/step - loss: 0.0118 - acc: 0.0125 - val_loss: 0.0152 - val_acc: 0.0000e+00\n",
            "Epoch 234/300\n",
            "80/80 [==============================] - 0s 1ms/step - loss: 0.0116 - acc: 0.0125 - val_loss: 0.0162 - val_acc: 0.0000e+00\n",
            "Epoch 235/300\n",
            "80/80 [==============================] - 0s 1ms/step - loss: 0.0119 - acc: 0.0125 - val_loss: 0.0150 - val_acc: 0.0000e+00\n",
            "Epoch 236/300\n",
            "80/80 [==============================] - 0s 1ms/step - loss: 0.0115 - acc: 0.0125 - val_loss: 0.0150 - val_acc: 0.0000e+00\n",
            "Epoch 237/300\n",
            "80/80 [==============================] - 0s 1ms/step - loss: 0.0112 - acc: 0.0125 - val_loss: 0.0151 - val_acc: 0.0000e+00\n",
            "Epoch 238/300\n",
            "80/80 [==============================] - 0s 1ms/step - loss: 0.0117 - acc: 0.0125 - val_loss: 0.0149 - val_acc: 0.0000e+00\n",
            "Epoch 239/300\n",
            "80/80 [==============================] - 0s 1ms/step - loss: 0.0114 - acc: 0.0125 - val_loss: 0.0149 - val_acc: 0.0000e+00\n",
            "Epoch 240/300\n",
            "80/80 [==============================] - 0s 1ms/step - loss: 0.0113 - acc: 0.0125 - val_loss: 0.0154 - val_acc: 0.0000e+00\n",
            "Epoch 241/300\n",
            "80/80 [==============================] - 0s 1ms/step - loss: 0.0111 - acc: 0.0125 - val_loss: 0.0149 - val_acc: 0.0000e+00\n",
            "Epoch 242/300\n",
            "80/80 [==============================] - 0s 1ms/step - loss: 0.0111 - acc: 0.0125 - val_loss: 0.0153 - val_acc: 0.0000e+00\n",
            "Epoch 243/300\n",
            "80/80 [==============================] - 0s 1ms/step - loss: 0.0109 - acc: 0.0125 - val_loss: 0.0158 - val_acc: 0.0000e+00\n",
            "Epoch 244/300\n",
            "80/80 [==============================] - 0s 1ms/step - loss: 0.0112 - acc: 0.0125 - val_loss: 0.0154 - val_acc: 0.0000e+00\n",
            "Epoch 245/300\n",
            "80/80 [==============================] - 0s 1ms/step - loss: 0.0109 - acc: 0.0125 - val_loss: 0.0148 - val_acc: 0.0000e+00\n",
            "Epoch 246/300\n",
            "80/80 [==============================] - 0s 1ms/step - loss: 0.0112 - acc: 0.0125 - val_loss: 0.0156 - val_acc: 0.0000e+00\n",
            "Epoch 247/300\n",
            "80/80 [==============================] - 0s 1ms/step - loss: 0.0110 - acc: 0.0125 - val_loss: 0.0150 - val_acc: 0.0000e+00\n",
            "Epoch 248/300\n",
            "80/80 [==============================] - 0s 1ms/step - loss: 0.0105 - acc: 0.0125 - val_loss: 0.0148 - val_acc: 0.0000e+00\n",
            "Epoch 249/300\n",
            "80/80 [==============================] - 0s 1ms/step - loss: 0.0116 - acc: 0.0125 - val_loss: 0.0147 - val_acc: 0.0000e+00\n",
            "Epoch 250/300\n",
            "80/80 [==============================] - 0s 1ms/step - loss: 0.0111 - acc: 0.0125 - val_loss: 0.0149 - val_acc: 0.0000e+00\n",
            "Epoch 251/300\n",
            "80/80 [==============================] - 0s 1ms/step - loss: 0.0109 - acc: 0.0125 - val_loss: 0.0144 - val_acc: 0.0000e+00\n",
            "Epoch 252/300\n",
            "80/80 [==============================] - 0s 1ms/step - loss: 0.0109 - acc: 0.0125 - val_loss: 0.0146 - val_acc: 0.0000e+00\n",
            "Epoch 253/300\n",
            "80/80 [==============================] - 0s 1ms/step - loss: 0.0109 - acc: 0.0125 - val_loss: 0.0146 - val_acc: 0.0000e+00\n",
            "Epoch 254/300\n",
            "80/80 [==============================] - 0s 1ms/step - loss: 0.0107 - acc: 0.0125 - val_loss: 0.0143 - val_acc: 0.0000e+00\n",
            "Epoch 255/300\n",
            "80/80 [==============================] - 0s 1ms/step - loss: 0.0104 - acc: 0.0125 - val_loss: 0.0144 - val_acc: 0.0000e+00\n",
            "Epoch 256/300\n",
            "80/80 [==============================] - 0s 1ms/step - loss: 0.0104 - acc: 0.0125 - val_loss: 0.0144 - val_acc: 0.0000e+00\n",
            "Epoch 257/300\n",
            "80/80 [==============================] - 0s 1ms/step - loss: 0.0103 - acc: 0.0125 - val_loss: 0.0147 - val_acc: 0.0000e+00\n",
            "Epoch 258/300\n",
            "80/80 [==============================] - 0s 1ms/step - loss: 0.0104 - acc: 0.0125 - val_loss: 0.0149 - val_acc: 0.0000e+00\n",
            "Epoch 259/300\n",
            "80/80 [==============================] - 0s 1ms/step - loss: 0.0101 - acc: 0.0125 - val_loss: 0.0145 - val_acc: 0.0000e+00\n",
            "Epoch 260/300\n",
            "80/80 [==============================] - 0s 1ms/step - loss: 0.0103 - acc: 0.0125 - val_loss: 0.0151 - val_acc: 0.0000e+00\n",
            "Epoch 261/300\n",
            "80/80 [==============================] - 0s 1ms/step - loss: 0.0103 - acc: 0.0125 - val_loss: 0.0151 - val_acc: 0.0000e+00\n",
            "Epoch 262/300\n",
            "80/80 [==============================] - 0s 1ms/step - loss: 0.0101 - acc: 0.0125 - val_loss: 0.0141 - val_acc: 0.0000e+00\n",
            "Epoch 263/300\n",
            "80/80 [==============================] - 0s 1ms/step - loss: 0.0108 - acc: 0.0125 - val_loss: 0.0141 - val_acc: 0.0000e+00\n",
            "Epoch 264/300\n",
            "80/80 [==============================] - 0s 1ms/step - loss: 0.0105 - acc: 0.0125 - val_loss: 0.0141 - val_acc: 0.0000e+00\n",
            "Epoch 265/300\n",
            "80/80 [==============================] - 0s 1ms/step - loss: 0.0112 - acc: 0.0125 - val_loss: 0.0141 - val_acc: 0.0000e+00\n",
            "Epoch 266/300\n",
            "80/80 [==============================] - 0s 1ms/step - loss: 0.0101 - acc: 0.0125 - val_loss: 0.0163 - val_acc: 0.0000e+00\n",
            "Epoch 267/300\n",
            "80/80 [==============================] - 0s 1ms/step - loss: 0.0107 - acc: 0.0125 - val_loss: 0.0146 - val_acc: 0.0000e+00\n",
            "Epoch 268/300\n",
            "80/80 [==============================] - 0s 1ms/step - loss: 0.0127 - acc: 0.0125 - val_loss: 0.0140 - val_acc: 0.0000e+00\n",
            "Epoch 269/300\n",
            "80/80 [==============================] - 0s 1ms/step - loss: 0.0102 - acc: 0.0125 - val_loss: 0.0171 - val_acc: 0.0000e+00\n",
            "Epoch 270/300\n",
            "80/80 [==============================] - 0s 1ms/step - loss: 0.0112 - acc: 0.0125 - val_loss: 0.0142 - val_acc: 0.0000e+00\n",
            "Epoch 271/300\n",
            "80/80 [==============================] - 0s 1ms/step - loss: 0.0112 - acc: 0.0125 - val_loss: 0.0142 - val_acc: 0.0000e+00\n",
            "Epoch 272/300\n",
            "80/80 [==============================] - 0s 1ms/step - loss: 0.0100 - acc: 0.0125 - val_loss: 0.0153 - val_acc: 0.0000e+00\n",
            "Epoch 273/300\n",
            "80/80 [==============================] - 0s 1ms/step - loss: 0.0098 - acc: 0.0125 - val_loss: 0.0140 - val_acc: 0.0000e+00\n",
            "Epoch 274/300\n",
            "80/80 [==============================] - 0s 1ms/step - loss: 0.0097 - acc: 0.0125 - val_loss: 0.0140 - val_acc: 0.0000e+00\n",
            "Epoch 275/300\n",
            "80/80 [==============================] - 0s 1ms/step - loss: 0.0097 - acc: 0.0125 - val_loss: 0.0135 - val_acc: 0.0000e+00\n",
            "Epoch 276/300\n",
            "80/80 [==============================] - 0s 1ms/step - loss: 0.0096 - acc: 0.0125 - val_loss: 0.0136 - val_acc: 0.0000e+00\n",
            "Epoch 277/300\n",
            "80/80 [==============================] - 0s 1ms/step - loss: 0.0095 - acc: 0.0125 - val_loss: 0.0134 - val_acc: 0.0000e+00\n",
            "Epoch 278/300\n",
            "80/80 [==============================] - 0s 1ms/step - loss: 0.0096 - acc: 0.0125 - val_loss: 0.0135 - val_acc: 0.0000e+00\n",
            "Epoch 279/300\n",
            "80/80 [==============================] - 0s 1ms/step - loss: 0.0094 - acc: 0.0125 - val_loss: 0.0138 - val_acc: 0.0000e+00\n",
            "Epoch 280/300\n",
            "80/80 [==============================] - 0s 1ms/step - loss: 0.0095 - acc: 0.0125 - val_loss: 0.0137 - val_acc: 0.0000e+00\n",
            "Epoch 281/300\n",
            "80/80 [==============================] - 0s 1ms/step - loss: 0.0095 - acc: 0.0125 - val_loss: 0.0146 - val_acc: 0.0000e+00\n",
            "Epoch 282/300\n",
            "80/80 [==============================] - 0s 1ms/step - loss: 0.0095 - acc: 0.0125 - val_loss: 0.0141 - val_acc: 0.0000e+00\n",
            "Epoch 283/300\n",
            "80/80 [==============================] - 0s 1ms/step - loss: 0.0096 - acc: 0.0125 - val_loss: 0.0152 - val_acc: 0.0000e+00\n",
            "Epoch 284/300\n",
            "80/80 [==============================] - 0s 1ms/step - loss: 0.0093 - acc: 0.0125 - val_loss: 0.0138 - val_acc: 0.0000e+00\n",
            "Epoch 285/300\n",
            "80/80 [==============================] - 0s 1ms/step - loss: 0.0097 - acc: 0.0125 - val_loss: 0.0145 - val_acc: 0.0000e+00\n",
            "Epoch 286/300\n",
            "80/80 [==============================] - 0s 1ms/step - loss: 0.0094 - acc: 0.0125 - val_loss: 0.0136 - val_acc: 0.0000e+00\n",
            "Epoch 287/300\n",
            "80/80 [==============================] - 0s 1ms/step - loss: 0.0092 - acc: 0.0125 - val_loss: 0.0133 - val_acc: 0.0000e+00\n",
            "Epoch 288/300\n",
            "80/80 [==============================] - 0s 1ms/step - loss: 0.0094 - acc: 0.0125 - val_loss: 0.0134 - val_acc: 0.0000e+00\n",
            "Epoch 289/300\n",
            "80/80 [==============================] - 0s 1ms/step - loss: 0.0091 - acc: 0.0125 - val_loss: 0.0131 - val_acc: 0.0000e+00\n",
            "Epoch 290/300\n",
            "80/80 [==============================] - 0s 1ms/step - loss: 0.0094 - acc: 0.0125 - val_loss: 0.0131 - val_acc: 0.0000e+00\n",
            "Epoch 291/300\n",
            "80/80 [==============================] - 0s 1ms/step - loss: 0.0089 - acc: 0.0125 - val_loss: 0.0132 - val_acc: 0.0000e+00\n",
            "Epoch 292/300\n",
            "80/80 [==============================] - 0s 1ms/step - loss: 0.0093 - acc: 0.0125 - val_loss: 0.0134 - val_acc: 0.0000e+00\n",
            "Epoch 293/300\n",
            "80/80 [==============================] - 0s 1ms/step - loss: 0.0088 - acc: 0.0125 - val_loss: 0.0136 - val_acc: 0.0000e+00\n",
            "Epoch 294/300\n",
            "80/80 [==============================] - 0s 1ms/step - loss: 0.0087 - acc: 0.0125 - val_loss: 0.0136 - val_acc: 0.0000e+00\n",
            "Epoch 295/300\n",
            "80/80 [==============================] - 0s 1ms/step - loss: 0.0089 - acc: 0.0125 - val_loss: 0.0144 - val_acc: 0.0000e+00\n",
            "Epoch 296/300\n",
            "80/80 [==============================] - 0s 1ms/step - loss: 0.0088 - acc: 0.0125 - val_loss: 0.0135 - val_acc: 0.0000e+00\n",
            "Epoch 297/300\n",
            "80/80 [==============================] - 0s 1ms/step - loss: 0.0088 - acc: 0.0125 - val_loss: 0.0137 - val_acc: 0.0000e+00\n",
            "Epoch 298/300\n",
            "80/80 [==============================] - 0s 1ms/step - loss: 0.0090 - acc: 0.0125 - val_loss: 0.0129 - val_acc: 0.0000e+00\n",
            "Epoch 299/300\n",
            "80/80 [==============================] - 0s 1ms/step - loss: 0.0087 - acc: 0.0125 - val_loss: 0.0130 - val_acc: 0.0000e+00\n",
            "Epoch 300/300\n",
            "80/80 [==============================] - 0s 1ms/step - loss: 0.0085 - acc: 0.0125 - val_loss: 0.0129 - val_acc: 0.0000e+00\n"
          ],
          "name": "stdout"
        }
      ]
    },
    {
      "cell_type": "code",
      "metadata": {
        "id": "qoWkBT_K3P8m",
        "colab_type": "code",
        "colab": {}
      },
      "source": [
        "x_pred = model.predict(x_test)"
      ],
      "execution_count": 0,
      "outputs": []
    },
    {
      "cell_type": "code",
      "metadata": {
        "id": "Bnw_frTh3hsm",
        "colab_type": "code",
        "colab": {
          "base_uri": "https://localhost:8080/",
          "height": 269
        },
        "outputId": "6e6d3bb1-177f-40d0-88c2-9bb5c9316182"
      },
      "source": [
        "plt.scatter( range(20), x_pred, c='r')\n",
        "plt.scatter( range(20), y_test, c='g')\n",
        "plt.show()"
      ],
      "execution_count": 164,
      "outputs": [
        {
          "output_type": "display_data",
          "data": {
            "image/png": "[encoded data removed]",
            "text/plain": [
              "<Figure size 432x288 with 1 Axes>"
            ]
          },
          "metadata": {
            "tags": []
          }
        }
      ]
    },
    {
      "cell_type": "code",
      "metadata": {
        "id": "XTciX5Dd38V-",
        "colab_type": "code",
        "colab": {
          "base_uri": "https://localhost:8080/",
          "height": 269
        },
        "outputId": "3a7e2696-02bf-4066-cb9f-ab464720f622"
      },
      "source": [
        "plt.plot(history.history['loss'])\n",
        "plt.show()"
      ],
      "execution_count": 165,
      "outputs": [
        {
          "output_type": "display_data",
          "data": {
            "image/png": "[encoded data removed]",
            "text/plain": [
              "<Figure size 432x288 with 1 Axes>"
            ]
          },
          "metadata": {
            "tags": []
          }
        }
      ]
    },
    {
      "cell_type": "code",
      "metadata": {
        "id": "i8u_HsNc4S4-",
        "colab_type": "code",
        "colab": {
          "base_uri": "https://localhost:8080/",
          "height": 34
        },
        "outputId": "f421890f-6668-4449-8b2a-f50860b5a8ae"
      },
      "source": [
        "print(history.history.keys())"
      ],
      "execution_count": 166,
      "outputs": [
        {
          "output_type": "stream",
          "text": [
            "dict_keys(['val_loss', 'val_acc', 'loss', 'acc'])\n"
          ],
          "name": "stdout"
        }
      ]
    },
    {
      "cell_type": "code",
      "metadata": {
        "id": "v7CEh7fxGNnc",
        "colab_type": "code",
        "colab": {
          "base_uri": "https://localhost:8080/",
          "height": 269
        },
        "outputId": "40794c45-e387-4bb1-8826-13d4b31c6792"
      },
      "source": [
        "plt.plot(history.history['val_acc'])\n",
        "plt.show()"
      ],
      "execution_count": 167,
      "outputs": [
        {
          "output_type": "display_data",
          "data": {
            "image/png": "[encoded data removed]",
            "text/plain": [
              "<Figure size 432x288 with 1 Axes>"
            ]
          },
          "metadata": {
            "tags": []
          }
        }
      ]
    },
    {
      "cell_type": "code",
      "metadata": {
        "id": "xZ4-W8W-WQbj",
        "colab_type": "code",
        "colab": {}
      },
      "source": [
        ""
      ],
      "execution_count": 0,
      "outputs": []
    }
  ]
}