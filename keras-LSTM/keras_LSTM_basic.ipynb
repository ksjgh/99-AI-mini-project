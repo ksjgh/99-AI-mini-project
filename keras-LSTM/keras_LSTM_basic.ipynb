{
  "nbformat": 4,
  "nbformat_minor": 0,
  "metadata": {
    "colab": {
      "name": "keras_LSTM_basic.ipynb",
      "version": "0.3.2",
      "provenance": [],
      "collapsed_sections": []
    },
    "kernelspec": {
      "name": "python3",
      "display_name": "Python 3"
    },
    "accelerator": "GPU"
  },
  "cells": [
    {
      "cell_type": "code",
      "metadata": {
        "id": "rJXZFc4CN47m",
        "colab_type": "code",
        "colab": {}
      },
      "source": [
        "# see https://youtu.be/iMIWee_PXl8\n",
        "\n",
        "from keras.models import Sequential\n",
        "from keras.layers import Dense, LSTM\n",
        "from sklearn.model_selection import train_test_split\n",
        "import numpy as np\n",
        "import matplotlib.pyplot as plt"
      ],
      "execution_count": 0,
      "outputs": []
    },
    {
      "cell_type": "code",
      "metadata": {
        "id": "lVrGv0Gnxh02",
        "colab_type": "code",
        "colab": {}
      },
      "source": [
        "# data = [[ [(j+i)] for i in range(5)] for j in range(100) ]\n",
        "data = [[ [(j+i)/100] for i in range(5)] for j in range(100) ]"
      ],
      "execution_count": 0,
      "outputs": []
    },
    {
      "cell_type": "code",
      "metadata": {
        "id": "EyMax_TyyCJI",
        "colab_type": "code",
        "colab": {
          "base_uri": "https://localhost:8080/",
          "height": 187
        },
        "outputId": "f612cde5-123f-4cc3-88cc-b97837397fad"
      },
      "source": [
        "data[:10]"
      ],
      "execution_count": 59,
      "outputs": [
        {
          "output_type": "execute_result",
          "data": {
            "text/plain": [
              "[[[0.0], [0.01], [0.02], [0.03], [0.04]],\n",
              " [[0.01], [0.02], [0.03], [0.04], [0.05]],\n",
              " [[0.02], [0.03], [0.04], [0.05], [0.06]],\n",
              " [[0.03], [0.04], [0.05], [0.06], [0.07]],\n",
              " [[0.04], [0.05], [0.06], [0.07], [0.08]],\n",
              " [[0.05], [0.06], [0.07], [0.08], [0.09]],\n",
              " [[0.06], [0.07], [0.08], [0.09], [0.1]],\n",
              " [[0.07], [0.08], [0.09], [0.1], [0.11]],\n",
              " [[0.08], [0.09], [0.1], [0.11], [0.12]],\n",
              " [[0.09], [0.1], [0.11], [0.12], [0.13]]]"
            ]
          },
          "metadata": {
            "tags": []
          },
          "execution_count": 59
        }
      ]
    },
    {
      "cell_type": "code",
      "metadata": {
        "id": "LWrn5BCGyE4A",
        "colab_type": "code",
        "colab": {}
      },
      "source": [
        "target = [ (i+5)/100 for i in range(100) ]"
      ],
      "execution_count": 0,
      "outputs": []
    },
    {
      "cell_type": "code",
      "metadata": {
        "id": "68IX7Ix1yHsY",
        "colab_type": "code",
        "colab": {
          "base_uri": "https://localhost:8080/",
          "height": 34
        },
        "outputId": "db1bd2d7-7df0-4d89-f418-ff819789b57d"
      },
      "source": [
        "target[:10]"
      ],
      "execution_count": 61,
      "outputs": [
        {
          "output_type": "execute_result",
          "data": {
            "text/plain": [
              "[0.05, 0.06, 0.07, 0.08, 0.09, 0.1, 0.11, 0.12, 0.13, 0.14]"
            ]
          },
          "metadata": {
            "tags": []
          },
          "execution_count": 61
        }
      ]
    },
    {
      "cell_type": "code",
      "metadata": {
        "id": "50z2ITr1GVCi",
        "colab_type": "code",
        "colab": {}
      },
      "source": [
        "# test for variable sequence length\n",
        "# data = [[ [(j+i)/100] for i in range(5)] for j in range(100) ]\n",
        "# target = [ (i++5)/100 for i in range(100) ]\n",
        "\n",
        "data = [[ [(j+i)/100] for i in range(6)] for j in range(100) ]\n",
        "target = [ (i+6)/100 for i in range(100) ]"
      ],
      "execution_count": 0,
      "outputs": []
    },
    {
      "cell_type": "code",
      "metadata": {
        "id": "IxuNb4yBydEJ",
        "colab_type": "code",
        "colab": {}
      },
      "source": [
        "data = np.array(data,dtype=float)\n",
        "target = np.array(target,dtype=float)"
      ],
      "execution_count": 0,
      "outputs": []
    },
    {
      "cell_type": "code",
      "metadata": {
        "id": "pn2Diy60y-ap",
        "colab_type": "code",
        "colab": {
          "base_uri": "https://localhost:8080/",
          "height": 34
        },
        "outputId": "ee116d51-9f53-4e43-cfad-57398e744c65"
      },
      "source": [
        "data.shape"
      ],
      "execution_count": 96,
      "outputs": [
        {
          "output_type": "execute_result",
          "data": {
            "text/plain": [
              "(100, 6, 1)"
            ]
          },
          "metadata": {
            "tags": []
          },
          "execution_count": 96
        }
      ]
    },
    {
      "cell_type": "code",
      "metadata": {
        "id": "F-CUxW1AzBGw",
        "colab_type": "code",
        "colab": {
          "base_uri": "https://localhost:8080/",
          "height": 34
        },
        "outputId": "1e011329-d443-41ae-c9e2-00ed01b5f0cc"
      },
      "source": [
        "target.shape"
      ],
      "execution_count": 97,
      "outputs": [
        {
          "output_type": "execute_result",
          "data": {
            "text/plain": [
              "(100,)"
            ]
          },
          "metadata": {
            "tags": []
          },
          "execution_count": 97
        }
      ]
    },
    {
      "cell_type": "code",
      "metadata": {
        "id": "PNjT1m9PzC0Y",
        "colab_type": "code",
        "colab": {}
      },
      "source": [
        "x_train , x_test , y_train, y_test = train_test_split( data, target, test_size = 0.2, random_state=4)"
      ],
      "execution_count": 0,
      "outputs": []
    },
    {
      "cell_type": "code",
      "metadata": {
        "id": "yllMZNKczzMA",
        "colab_type": "code",
        "colab": {}
      },
      "source": [
        "model = Sequential()"
      ],
      "execution_count": 0,
      "outputs": []
    },
    {
      "cell_type": "code",
      "metadata": {
        "id": "IyCJy7t11pJ3",
        "colab_type": "code",
        "colab": {}
      },
      "source": [
        "# model.add( LSTM((1), batch_input_shape = (None,5,1), return_sequences=True) )\n",
        "model.add( LSTM((1), batch_input_shape = (None,None,1), return_sequences=True) )\n",
        "model.add( LSTM((1), return_sequences=False ) )"
      ],
      "execution_count": 0,
      "outputs": []
    },
    {
      "cell_type": "code",
      "metadata": {
        "id": "p397ZE3O1_nf",
        "colab_type": "code",
        "colab": {}
      },
      "source": [
        "model.compile(loss=\"mean_absolute_error\", optimizer = \"adam\", metrics = ['accuracy'])"
      ],
      "execution_count": 0,
      "outputs": []
    },
    {
      "cell_type": "code",
      "metadata": {
        "id": "LWkI1s-Z2Y8H",
        "colab_type": "code",
        "colab": {
          "base_uri": "https://localhost:8080/",
          "height": 204
        },
        "outputId": "21a29d83-ebcb-410c-b43d-5ff22117ec42"
      },
      "source": [
        "model.summary()"
      ],
      "execution_count": 69,
      "outputs": [
        {
          "output_type": "stream",
          "text": [
            "_________________________________________________________________\n",
            "Layer (type)                 Output Shape              Param #   \n",
            "=================================================================\n",
            "lstm_7 (LSTM)                (None, None, 1)           12        \n",
            "_________________________________________________________________\n",
            "lstm_8 (LSTM)                (None, 1)                 12        \n",
            "=================================================================\n",
            "Total params: 24\n",
            "Trainable params: 24\n",
            "Non-trainable params: 0\n",
            "_________________________________________________________________\n"
          ],
          "name": "stdout"
        }
      ]
    },
    {
      "cell_type": "code",
      "metadata": {
        "id": "p-WdxVm92bWO",
        "colab_type": "code",
        "colab": {
          "base_uri": "https://localhost:8080/",
          "height": 10234
        },
        "outputId": "050f8145-10f1-4b92-cc87-c4ed70ae3ba2"
      },
      "source": [
        "history = model.fit( x_train, y_train, epochs=300, validation_data=(x_test,y_test) )"
      ],
      "execution_count": 99,
      "outputs": [
        {
          "output_type": "stream",
          "text": [
            "Train on 80 samples, validate on 20 samples\n",
            "Epoch 1/300\n",
            "80/80 [==============================] - 0s 826us/step - loss: 0.0685 - acc: 0.0125 - val_loss: 0.0358 - val_acc: 0.0000e+00\n",
            "Epoch 2/300\n",
            "80/80 [==============================] - 0s 742us/step - loss: 0.0534 - acc: 0.0125 - val_loss: 0.0338 - val_acc: 0.0000e+00\n",
            "Epoch 3/300\n",
            "80/80 [==============================] - 0s 722us/step - loss: 0.0428 - acc: 0.0125 - val_loss: 0.0436 - val_acc: 0.0000e+00\n",
            "Epoch 4/300\n",
            "80/80 [==============================] - 0s 798us/step - loss: 0.0373 - acc: 0.0125 - val_loss: 0.0523 - val_acc: 0.0000e+00\n",
            "Epoch 5/300\n",
            "80/80 [==============================] - 0s 763us/step - loss: 0.0342 - acc: 0.0125 - val_loss: 0.0531 - val_acc: 0.0000e+00\n",
            "Epoch 6/300\n",
            "80/80 [==============================] - 0s 750us/step - loss: 0.0309 - acc: 0.0125 - val_loss: 0.0403 - val_acc: 0.0000e+00\n",
            "Epoch 7/300\n",
            "80/80 [==============================] - 0s 745us/step - loss: 0.0229 - acc: 0.0125 - val_loss: 0.0234 - val_acc: 0.0000e+00\n",
            "Epoch 8/300\n",
            "80/80 [==============================] - 0s 727us/step - loss: 0.0200 - acc: 0.0125 - val_loss: 0.0195 - val_acc: 0.0000e+00\n",
            "Epoch 9/300\n",
            "80/80 [==============================] - 0s 727us/step - loss: 0.0201 - acc: 0.0125 - val_loss: 0.0202 - val_acc: 0.0000e+00\n",
            "Epoch 10/300\n",
            "80/80 [==============================] - 0s 711us/step - loss: 0.0186 - acc: 0.0125 - val_loss: 0.0209 - val_acc: 0.0000e+00\n",
            "Epoch 11/300\n",
            "80/80 [==============================] - 0s 723us/step - loss: 0.0184 - acc: 0.0125 - val_loss: 0.0227 - val_acc: 0.0000e+00\n",
            "Epoch 12/300\n",
            "80/80 [==============================] - 0s 713us/step - loss: 0.0187 - acc: 0.0125 - val_loss: 0.0211 - val_acc: 0.0000e+00\n",
            "Epoch 13/300\n",
            "80/80 [==============================] - 0s 711us/step - loss: 0.0181 - acc: 0.0125 - val_loss: 0.0207 - val_acc: 0.0000e+00\n",
            "Epoch 14/300\n",
            "80/80 [==============================] - 0s 706us/step - loss: 0.0180 - acc: 0.0125 - val_loss: 0.0207 - val_acc: 0.0000e+00\n",
            "Epoch 15/300\n",
            "80/80 [==============================] - 0s 718us/step - loss: 0.0177 - acc: 0.0125 - val_loss: 0.0208 - val_acc: 0.0000e+00\n",
            "Epoch 16/300\n",
            "80/80 [==============================] - 0s 722us/step - loss: 0.0177 - acc: 0.0125 - val_loss: 0.0209 - val_acc: 0.0000e+00\n",
            "Epoch 17/300\n",
            "80/80 [==============================] - 0s 714us/step - loss: 0.0175 - acc: 0.0125 - val_loss: 0.0206 - val_acc: 0.0000e+00\n",
            "Epoch 18/300\n",
            "80/80 [==============================] - 0s 707us/step - loss: 0.0175 - acc: 0.0125 - val_loss: 0.0201 - val_acc: 0.0000e+00\n",
            "Epoch 19/300\n",
            "80/80 [==============================] - 0s 722us/step - loss: 0.0175 - acc: 0.0125 - val_loss: 0.0201 - val_acc: 0.0000e+00\n",
            "Epoch 20/300\n",
            "80/80 [==============================] - 0s 716us/step - loss: 0.0175 - acc: 0.0125 - val_loss: 0.0204 - val_acc: 0.0000e+00\n",
            "Epoch 21/300\n",
            "80/80 [==============================] - 0s 699us/step - loss: 0.0175 - acc: 0.0125 - val_loss: 0.0211 - val_acc: 0.0000e+00\n",
            "Epoch 22/300\n",
            "80/80 [==============================] - 0s 707us/step - loss: 0.0176 - acc: 0.0125 - val_loss: 0.0207 - val_acc: 0.0000e+00\n",
            "Epoch 23/300\n",
            "80/80 [==============================] - 0s 726us/step - loss: 0.0174 - acc: 0.0125 - val_loss: 0.0200 - val_acc: 0.0000e+00\n",
            "Epoch 24/300\n",
            "80/80 [==============================] - 0s 738us/step - loss: 0.0174 - acc: 0.0125 - val_loss: 0.0200 - val_acc: 0.0000e+00\n",
            "Epoch 25/300\n",
            "80/80 [==============================] - 0s 727us/step - loss: 0.0174 - acc: 0.0125 - val_loss: 0.0203 - val_acc: 0.0000e+00\n",
            "Epoch 26/300\n",
            "80/80 [==============================] - 0s 745us/step - loss: 0.0174 - acc: 0.0125 - val_loss: 0.0203 - val_acc: 0.0000e+00\n",
            "Epoch 27/300\n",
            "80/80 [==============================] - 0s 803us/step - loss: 0.0172 - acc: 0.0125 - val_loss: 0.0200 - val_acc: 0.0000e+00\n",
            "Epoch 28/300\n",
            "80/80 [==============================] - 0s 732us/step - loss: 0.0173 - acc: 0.0125 - val_loss: 0.0199 - val_acc: 0.0000e+00\n",
            "Epoch 29/300\n",
            "80/80 [==============================] - 0s 735us/step - loss: 0.0173 - acc: 0.0125 - val_loss: 0.0203 - val_acc: 0.0000e+00\n",
            "Epoch 30/300\n",
            "80/80 [==============================] - 0s 746us/step - loss: 0.0173 - acc: 0.0125 - val_loss: 0.0206 - val_acc: 0.0000e+00\n",
            "Epoch 31/300\n",
            "80/80 [==============================] - 0s 692us/step - loss: 0.0173 - acc: 0.0125 - val_loss: 0.0202 - val_acc: 0.0000e+00\n",
            "Epoch 32/300\n",
            "80/80 [==============================] - 0s 711us/step - loss: 0.0172 - acc: 0.0125 - val_loss: 0.0197 - val_acc: 0.0000e+00\n",
            "Epoch 33/300\n",
            "80/80 [==============================] - 0s 677us/step - loss: 0.0174 - acc: 0.0125 - val_loss: 0.0198 - val_acc: 0.0000e+00\n",
            "Epoch 34/300\n",
            "80/80 [==============================] - 0s 681us/step - loss: 0.0172 - acc: 0.0125 - val_loss: 0.0202 - val_acc: 0.0000e+00\n",
            "Epoch 35/300\n",
            "80/80 [==============================] - 0s 706us/step - loss: 0.0172 - acc: 0.0125 - val_loss: 0.0206 - val_acc: 0.0000e+00\n",
            "Epoch 36/300\n",
            "80/80 [==============================] - 0s 680us/step - loss: 0.0173 - acc: 0.0125 - val_loss: 0.0203 - val_acc: 0.0000e+00\n",
            "Epoch 37/300\n",
            "80/80 [==============================] - 0s 721us/step - loss: 0.0171 - acc: 0.0125 - val_loss: 0.0201 - val_acc: 0.0000e+00\n",
            "Epoch 38/300\n",
            "80/80 [==============================] - 0s 707us/step - loss: 0.0171 - acc: 0.0125 - val_loss: 0.0198 - val_acc: 0.0000e+00\n",
            "Epoch 39/300\n",
            "80/80 [==============================] - 0s 719us/step - loss: 0.0173 - acc: 0.0125 - val_loss: 0.0198 - val_acc: 0.0000e+00\n",
            "Epoch 40/300\n",
            "80/80 [==============================] - 0s 790us/step - loss: 0.0171 - acc: 0.0125 - val_loss: 0.0201 - val_acc: 0.0000e+00\n",
            "Epoch 41/300\n",
            "80/80 [==============================] - 0s 763us/step - loss: 0.0171 - acc: 0.0125 - val_loss: 0.0202 - val_acc: 0.0000e+00\n",
            "Epoch 42/300\n",
            "80/80 [==============================] - 0s 761us/step - loss: 0.0171 - acc: 0.0125 - val_loss: 0.0198 - val_acc: 0.0000e+00\n",
            "Epoch 43/300\n",
            "80/80 [==============================] - 0s 767us/step - loss: 0.0172 - acc: 0.0125 - val_loss: 0.0199 - val_acc: 0.0000e+00\n",
            "Epoch 44/300\n",
            "80/80 [==============================] - 0s 878us/step - loss: 0.0170 - acc: 0.0125 - val_loss: 0.0203 - val_acc: 0.0000e+00\n",
            "Epoch 45/300\n",
            "80/80 [==============================] - 0s 771us/step - loss: 0.0171 - acc: 0.0125 - val_loss: 0.0204 - val_acc: 0.0000e+00\n",
            "Epoch 46/300\n",
            "80/80 [==============================] - 0s 792us/step - loss: 0.0172 - acc: 0.0125 - val_loss: 0.0202 - val_acc: 0.0000e+00\n",
            "Epoch 47/300\n",
            "80/80 [==============================] - 0s 787us/step - loss: 0.0169 - acc: 0.0125 - val_loss: 0.0198 - val_acc: 0.0000e+00\n",
            "Epoch 48/300\n",
            "80/80 [==============================] - 0s 769us/step - loss: 0.0172 - acc: 0.0125 - val_loss: 0.0195 - val_acc: 0.0000e+00\n",
            "Epoch 49/300\n",
            "80/80 [==============================] - 0s 767us/step - loss: 0.0172 - acc: 0.0125 - val_loss: 0.0198 - val_acc: 0.0000e+00\n",
            "Epoch 50/300\n",
            "80/80 [==============================] - 0s 750us/step - loss: 0.0169 - acc: 0.0125 - val_loss: 0.0204 - val_acc: 0.0000e+00\n",
            "Epoch 51/300\n",
            "80/80 [==============================] - 0s 750us/step - loss: 0.0172 - acc: 0.0125 - val_loss: 0.0207 - val_acc: 0.0000e+00\n",
            "Epoch 52/300\n",
            "80/80 [==============================] - 0s 789us/step - loss: 0.0173 - acc: 0.0125 - val_loss: 0.0201 - val_acc: 0.0000e+00\n",
            "Epoch 53/300\n",
            "80/80 [==============================] - 0s 785us/step - loss: 0.0169 - acc: 0.0125 - val_loss: 0.0201 - val_acc: 0.0000e+00\n",
            "Epoch 54/300\n",
            "80/80 [==============================] - 0s 819us/step - loss: 0.0170 - acc: 0.0125 - val_loss: 0.0201 - val_acc: 0.0000e+00\n",
            "Epoch 55/300\n",
            "80/80 [==============================] - 0s 767us/step - loss: 0.0169 - acc: 0.0125 - val_loss: 0.0198 - val_acc: 0.0000e+00\n",
            "Epoch 56/300\n",
            "80/80 [==============================] - 0s 774us/step - loss: 0.0169 - acc: 0.0125 - val_loss: 0.0198 - val_acc: 0.0000e+00\n",
            "Epoch 57/300\n",
            "80/80 [==============================] - 0s 750us/step - loss: 0.0169 - acc: 0.0125 - val_loss: 0.0199 - val_acc: 0.0000e+00\n",
            "Epoch 58/300\n",
            "80/80 [==============================] - 0s 765us/step - loss: 0.0169 - acc: 0.0125 - val_loss: 0.0199 - val_acc: 0.0000e+00\n",
            "Epoch 59/300\n",
            "80/80 [==============================] - 0s 789us/step - loss: 0.0172 - acc: 0.0125 - val_loss: 0.0197 - val_acc: 0.0000e+00\n",
            "Epoch 60/300\n",
            "80/80 [==============================] - 0s 900us/step - loss: 0.0168 - acc: 0.0125 - val_loss: 0.0203 - val_acc: 0.0000e+00\n",
            "Epoch 61/300\n",
            "80/80 [==============================] - 0s 771us/step - loss: 0.0172 - acc: 0.0125 - val_loss: 0.0206 - val_acc: 0.0000e+00\n",
            "Epoch 62/300\n",
            "80/80 [==============================] - 0s 747us/step - loss: 0.0169 - acc: 0.0125 - val_loss: 0.0198 - val_acc: 0.0000e+00\n",
            "Epoch 63/300\n",
            "80/80 [==============================] - 0s 781us/step - loss: 0.0168 - acc: 0.0125 - val_loss: 0.0194 - val_acc: 0.0000e+00\n",
            "Epoch 64/300\n",
            "80/80 [==============================] - 0s 776us/step - loss: 0.0170 - acc: 0.0125 - val_loss: 0.0197 - val_acc: 0.0000e+00\n",
            "Epoch 65/300\n",
            "80/80 [==============================] - 0s 770us/step - loss: 0.0167 - acc: 0.0125 - val_loss: 0.0202 - val_acc: 0.0000e+00\n",
            "Epoch 66/300\n",
            "80/80 [==============================] - 0s 767us/step - loss: 0.0170 - acc: 0.0125 - val_loss: 0.0204 - val_acc: 0.0000e+00\n",
            "Epoch 67/300\n",
            "80/80 [==============================] - 0s 781us/step - loss: 0.0170 - acc: 0.0125 - val_loss: 0.0200 - val_acc: 0.0000e+00\n",
            "Epoch 68/300\n",
            "80/80 [==============================] - 0s 775us/step - loss: 0.0167 - acc: 0.0125 - val_loss: 0.0197 - val_acc: 0.0000e+00\n",
            "Epoch 69/300\n",
            "80/80 [==============================] - 0s 769us/step - loss: 0.0168 - acc: 0.0125 - val_loss: 0.0193 - val_acc: 0.0000e+00\n",
            "Epoch 70/300\n",
            "80/80 [==============================] - 0s 778us/step - loss: 0.0171 - acc: 0.0125 - val_loss: 0.0195 - val_acc: 0.0000e+00\n",
            "Epoch 71/300\n",
            "80/80 [==============================] - 0s 774us/step - loss: 0.0168 - acc: 0.0125 - val_loss: 0.0202 - val_acc: 0.0000e+00\n",
            "Epoch 72/300\n",
            "80/80 [==============================] - 0s 817us/step - loss: 0.0169 - acc: 0.0125 - val_loss: 0.0202 - val_acc: 0.0000e+00\n",
            "Epoch 73/300\n",
            "80/80 [==============================] - 0s 765us/step - loss: 0.0166 - acc: 0.0125 - val_loss: 0.0195 - val_acc: 0.0000e+00\n",
            "Epoch 74/300\n",
            "80/80 [==============================] - 0s 765us/step - loss: 0.0169 - acc: 0.0125 - val_loss: 0.0193 - val_acc: 0.0000e+00\n",
            "Epoch 75/300\n",
            "80/80 [==============================] - 0s 768us/step - loss: 0.0171 - acc: 0.0125 - val_loss: 0.0195 - val_acc: 0.0000e+00\n",
            "Epoch 76/300\n",
            "80/80 [==============================] - 0s 881us/step - loss: 0.0167 - acc: 0.0125 - val_loss: 0.0202 - val_acc: 0.0000e+00\n",
            "Epoch 77/300\n",
            "80/80 [==============================] - 0s 775us/step - loss: 0.0171 - acc: 0.0125 - val_loss: 0.0202 - val_acc: 0.0000e+00\n",
            "Epoch 78/300\n",
            "80/80 [==============================] - 0s 798us/step - loss: 0.0167 - acc: 0.0125 - val_loss: 0.0196 - val_acc: 0.0000e+00\n",
            "Epoch 79/300\n",
            "80/80 [==============================] - 0s 778us/step - loss: 0.0168 - acc: 0.0125 - val_loss: 0.0198 - val_acc: 0.0000e+00\n",
            "Epoch 80/300\n",
            "80/80 [==============================] - 0s 760us/step - loss: 0.0167 - acc: 0.0125 - val_loss: 0.0196 - val_acc: 0.0000e+00\n",
            "Epoch 81/300\n",
            "80/80 [==============================] - 0s 765us/step - loss: 0.0166 - acc: 0.0125 - val_loss: 0.0200 - val_acc: 0.0000e+00\n",
            "Epoch 82/300\n",
            "80/80 [==============================] - 0s 780us/step - loss: 0.0166 - acc: 0.0125 - val_loss: 0.0204 - val_acc: 0.0000e+00\n",
            "Epoch 83/300\n",
            "80/80 [==============================] - 0s 781us/step - loss: 0.0168 - acc: 0.0125 - val_loss: 0.0200 - val_acc: 0.0000e+00\n",
            "Epoch 84/300\n",
            "80/80 [==============================] - 0s 772us/step - loss: 0.0165 - acc: 0.0125 - val_loss: 0.0195 - val_acc: 0.0000e+00\n",
            "Epoch 85/300\n",
            "80/80 [==============================] - 0s 768us/step - loss: 0.0166 - acc: 0.0125 - val_loss: 0.0192 - val_acc: 0.0000e+00\n",
            "Epoch 86/300\n",
            "80/80 [==============================] - 0s 759us/step - loss: 0.0168 - acc: 0.0125 - val_loss: 0.0194 - val_acc: 0.0000e+00\n",
            "Epoch 87/300\n",
            "80/80 [==============================] - 0s 798us/step - loss: 0.0165 - acc: 0.0125 - val_loss: 0.0199 - val_acc: 0.0000e+00\n",
            "Epoch 88/300\n",
            "80/80 [==============================] - 0s 796us/step - loss: 0.0166 - acc: 0.0125 - val_loss: 0.0204 - val_acc: 0.0000e+00\n",
            "Epoch 89/300\n",
            "80/80 [==============================] - 0s 791us/step - loss: 0.0167 - acc: 0.0125 - val_loss: 0.0199 - val_acc: 0.0000e+00\n",
            "Epoch 90/300\n",
            "80/80 [==============================] - 0s 795us/step - loss: 0.0170 - acc: 0.0125 - val_loss: 0.0192 - val_acc: 0.0000e+00\n",
            "Epoch 91/300\n",
            "80/80 [==============================] - 0s 759us/step - loss: 0.0168 - acc: 0.0125 - val_loss: 0.0194 - val_acc: 0.0000e+00\n",
            "Epoch 92/300\n",
            "80/80 [==============================] - 0s 892us/step - loss: 0.0165 - acc: 0.0125 - val_loss: 0.0198 - val_acc: 0.0000e+00\n",
            "Epoch 93/300\n",
            "80/80 [==============================] - 0s 801us/step - loss: 0.0165 - acc: 0.0125 - val_loss: 0.0198 - val_acc: 0.0000e+00\n",
            "Epoch 94/300\n",
            "80/80 [==============================] - 0s 769us/step - loss: 0.0165 - acc: 0.0125 - val_loss: 0.0197 - val_acc: 0.0000e+00\n",
            "Epoch 95/300\n",
            "80/80 [==============================] - 0s 778us/step - loss: 0.0166 - acc: 0.0125 - val_loss: 0.0194 - val_acc: 0.0000e+00\n",
            "Epoch 96/300\n",
            "80/80 [==============================] - 0s 759us/step - loss: 0.0165 - acc: 0.0125 - val_loss: 0.0197 - val_acc: 0.0000e+00\n",
            "Epoch 97/300\n",
            "80/80 [==============================] - 0s 755us/step - loss: 0.0165 - acc: 0.0125 - val_loss: 0.0200 - val_acc: 0.0000e+00\n",
            "Epoch 98/300\n",
            "80/80 [==============================] - 0s 771us/step - loss: 0.0166 - acc: 0.0125 - val_loss: 0.0197 - val_acc: 0.0000e+00\n",
            "Epoch 99/300\n",
            "80/80 [==============================] - 0s 775us/step - loss: 0.0165 - acc: 0.0125 - val_loss: 0.0198 - val_acc: 0.0000e+00\n",
            "Epoch 100/300\n",
            "80/80 [==============================] - 0s 750us/step - loss: 0.0165 - acc: 0.0125 - val_loss: 0.0199 - val_acc: 0.0000e+00\n",
            "Epoch 101/300\n",
            "80/80 [==============================] - 0s 752us/step - loss: 0.0165 - acc: 0.0125 - val_loss: 0.0195 - val_acc: 0.0000e+00\n",
            "Epoch 102/300\n",
            "80/80 [==============================] - 0s 762us/step - loss: 0.0164 - acc: 0.0125 - val_loss: 0.0194 - val_acc: 0.0000e+00\n",
            "Epoch 103/300\n",
            "80/80 [==============================] - 0s 775us/step - loss: 0.0164 - acc: 0.0125 - val_loss: 0.0195 - val_acc: 0.0000e+00\n",
            "Epoch 104/300\n",
            "80/80 [==============================] - 0s 765us/step - loss: 0.0164 - acc: 0.0125 - val_loss: 0.0195 - val_acc: 0.0000e+00\n",
            "Epoch 105/300\n",
            "80/80 [==============================] - 0s 766us/step - loss: 0.0164 - acc: 0.0125 - val_loss: 0.0196 - val_acc: 0.0000e+00\n",
            "Epoch 106/300\n",
            "80/80 [==============================] - 0s 781us/step - loss: 0.0164 - acc: 0.0125 - val_loss: 0.0194 - val_acc: 0.0000e+00\n",
            "Epoch 107/300\n",
            "80/80 [==============================] - 0s 789us/step - loss: 0.0165 - acc: 0.0125 - val_loss: 0.0192 - val_acc: 0.0000e+00\n",
            "Epoch 108/300\n",
            "80/80 [==============================] - 0s 850us/step - loss: 0.0164 - acc: 0.0125 - val_loss: 0.0198 - val_acc: 0.0000e+00\n",
            "Epoch 109/300\n",
            "80/80 [==============================] - 0s 838us/step - loss: 0.0166 - acc: 0.0125 - val_loss: 0.0200 - val_acc: 0.0000e+00\n",
            "Epoch 110/300\n",
            "80/80 [==============================] - 0s 783us/step - loss: 0.0164 - acc: 0.0125 - val_loss: 0.0192 - val_acc: 0.0000e+00\n",
            "Epoch 111/300\n",
            "80/80 [==============================] - 0s 770us/step - loss: 0.0164 - acc: 0.0125 - val_loss: 0.0191 - val_acc: 0.0000e+00\n",
            "Epoch 112/300\n",
            "80/80 [==============================] - 0s 749us/step - loss: 0.0165 - acc: 0.0125 - val_loss: 0.0191 - val_acc: 0.0000e+00\n",
            "Epoch 113/300\n",
            "80/80 [==============================] - 0s 766us/step - loss: 0.0165 - acc: 0.0125 - val_loss: 0.0199 - val_acc: 0.0000e+00\n",
            "Epoch 114/300\n",
            "80/80 [==============================] - 0s 793us/step - loss: 0.0164 - acc: 0.0125 - val_loss: 0.0201 - val_acc: 0.0000e+00\n",
            "Epoch 115/300\n",
            "80/80 [==============================] - 0s 781us/step - loss: 0.0165 - acc: 0.0125 - val_loss: 0.0198 - val_acc: 0.0000e+00\n",
            "Epoch 116/300\n",
            "80/80 [==============================] - 0s 779us/step - loss: 0.0163 - acc: 0.0125 - val_loss: 0.0195 - val_acc: 0.0000e+00\n",
            "Epoch 117/300\n",
            "80/80 [==============================] - 0s 769us/step - loss: 0.0163 - acc: 0.0125 - val_loss: 0.0193 - val_acc: 0.0000e+00\n",
            "Epoch 118/300\n",
            "80/80 [==============================] - 0s 760us/step - loss: 0.0164 - acc: 0.0125 - val_loss: 0.0194 - val_acc: 0.0000e+00\n",
            "Epoch 119/300\n",
            "80/80 [==============================] - 0s 793us/step - loss: 0.0165 - acc: 0.0125 - val_loss: 0.0200 - val_acc: 0.0000e+00\n",
            "Epoch 120/300\n",
            "80/80 [==============================] - 0s 791us/step - loss: 0.0164 - acc: 0.0125 - val_loss: 0.0194 - val_acc: 0.0000e+00\n",
            "Epoch 121/300\n",
            "80/80 [==============================] - 0s 761us/step - loss: 0.0164 - acc: 0.0125 - val_loss: 0.0191 - val_acc: 0.0000e+00\n",
            "Epoch 122/300\n",
            "80/80 [==============================] - 0s 779us/step - loss: 0.0164 - acc: 0.0125 - val_loss: 0.0194 - val_acc: 0.0000e+00\n",
            "Epoch 123/300\n",
            "80/80 [==============================] - 0s 769us/step - loss: 0.0162 - acc: 0.0125 - val_loss: 0.0200 - val_acc: 0.0000e+00\n",
            "Epoch 124/300\n",
            "80/80 [==============================] - 0s 768us/step - loss: 0.0166 - acc: 0.0125 - val_loss: 0.0203 - val_acc: 0.0000e+00\n",
            "Epoch 125/300\n",
            "80/80 [==============================] - 0s 911us/step - loss: 0.0165 - acc: 0.0125 - val_loss: 0.0193 - val_acc: 0.0000e+00\n",
            "Epoch 126/300\n",
            "80/80 [==============================] - 0s 791us/step - loss: 0.0163 - acc: 0.0125 - val_loss: 0.0191 - val_acc: 0.0000e+00\n",
            "Epoch 127/300\n",
            "80/80 [==============================] - 0s 782us/step - loss: 0.0164 - acc: 0.0125 - val_loss: 0.0195 - val_acc: 0.0000e+00\n",
            "Epoch 128/300\n",
            "80/80 [==============================] - 0s 748us/step - loss: 0.0162 - acc: 0.0125 - val_loss: 0.0195 - val_acc: 0.0000e+00\n",
            "Epoch 129/300\n",
            "80/80 [==============================] - 0s 767us/step - loss: 0.0162 - acc: 0.0125 - val_loss: 0.0198 - val_acc: 0.0000e+00\n",
            "Epoch 130/300\n",
            "80/80 [==============================] - 0s 832us/step - loss: 0.0162 - acc: 0.0125 - val_loss: 0.0198 - val_acc: 0.0000e+00\n",
            "Epoch 131/300\n",
            "80/80 [==============================] - 0s 781us/step - loss: 0.0162 - acc: 0.0125 - val_loss: 0.0195 - val_acc: 0.0000e+00\n",
            "Epoch 132/300\n",
            "80/80 [==============================] - 0s 756us/step - loss: 0.0162 - acc: 0.0125 - val_loss: 0.0195 - val_acc: 0.0000e+00\n",
            "Epoch 133/300\n",
            "80/80 [==============================] - 0s 753us/step - loss: 0.0162 - acc: 0.0125 - val_loss: 0.0197 - val_acc: 0.0000e+00\n",
            "Epoch 134/300\n",
            "80/80 [==============================] - 0s 758us/step - loss: 0.0162 - acc: 0.0125 - val_loss: 0.0198 - val_acc: 0.0000e+00\n",
            "Epoch 135/300\n",
            "80/80 [==============================] - 0s 786us/step - loss: 0.0164 - acc: 0.0125 - val_loss: 0.0192 - val_acc: 0.0000e+00\n",
            "Epoch 136/300\n",
            "80/80 [==============================] - 0s 792us/step - loss: 0.0163 - acc: 0.0125 - val_loss: 0.0190 - val_acc: 0.0000e+00\n",
            "Epoch 137/300\n",
            "80/80 [==============================] - 0s 767us/step - loss: 0.0164 - acc: 0.0125 - val_loss: 0.0194 - val_acc: 0.0000e+00\n",
            "Epoch 138/300\n",
            "80/80 [==============================] - 0s 759us/step - loss: 0.0162 - acc: 0.0125 - val_loss: 0.0195 - val_acc: 0.0000e+00\n",
            "Epoch 139/300\n",
            "80/80 [==============================] - 0s 753us/step - loss: 0.0162 - acc: 0.0125 - val_loss: 0.0193 - val_acc: 0.0000e+00\n",
            "Epoch 140/300\n",
            "80/80 [==============================] - 0s 758us/step - loss: 0.0161 - acc: 0.0125 - val_loss: 0.0198 - val_acc: 0.0000e+00\n",
            "Epoch 141/300\n",
            "80/80 [==============================] - 0s 870us/step - loss: 0.0165 - acc: 0.0125 - val_loss: 0.0203 - val_acc: 0.0000e+00\n",
            "Epoch 142/300\n",
            "80/80 [==============================] - 0s 784us/step - loss: 0.0165 - acc: 0.0125 - val_loss: 0.0193 - val_acc: 0.0000e+00\n",
            "Epoch 143/300\n",
            "80/80 [==============================] - 0s 763us/step - loss: 0.0162 - acc: 0.0125 - val_loss: 0.0191 - val_acc: 0.0000e+00\n",
            "Epoch 144/300\n",
            "80/80 [==============================] - 0s 764us/step - loss: 0.0166 - acc: 0.0125 - val_loss: 0.0189 - val_acc: 0.0000e+00\n",
            "Epoch 145/300\n",
            "80/80 [==============================] - 0s 757us/step - loss: 0.0164 - acc: 0.0125 - val_loss: 0.0192 - val_acc: 0.0000e+00\n",
            "Epoch 146/300\n",
            "80/80 [==============================] - 0s 774us/step - loss: 0.0161 - acc: 0.0125 - val_loss: 0.0197 - val_acc: 0.0000e+00\n",
            "Epoch 147/300\n",
            "80/80 [==============================] - 0s 800us/step - loss: 0.0162 - acc: 0.0125 - val_loss: 0.0201 - val_acc: 0.0000e+00\n",
            "Epoch 148/300\n",
            "80/80 [==============================] - 0s 752us/step - loss: 0.0164 - acc: 0.0125 - val_loss: 0.0198 - val_acc: 0.0000e+00\n",
            "Epoch 149/300\n",
            "80/80 [==============================] - 0s 755us/step - loss: 0.0161 - acc: 0.0125 - val_loss: 0.0189 - val_acc: 0.0000e+00\n",
            "Epoch 150/300\n",
            "80/80 [==============================] - 0s 764us/step - loss: 0.0163 - acc: 0.0125 - val_loss: 0.0189 - val_acc: 0.0000e+00\n",
            "Epoch 151/300\n",
            "80/80 [==============================] - 0s 783us/step - loss: 0.0162 - acc: 0.0125 - val_loss: 0.0192 - val_acc: 0.0000e+00\n",
            "Epoch 152/300\n",
            "80/80 [==============================] - 0s 765us/step - loss: 0.0163 - acc: 0.0125 - val_loss: 0.0201 - val_acc: 0.0000e+00\n",
            "Epoch 153/300\n",
            "80/80 [==============================] - 0s 755us/step - loss: 0.0164 - acc: 0.0125 - val_loss: 0.0195 - val_acc: 0.0000e+00\n",
            "Epoch 154/300\n",
            "80/80 [==============================] - 0s 800us/step - loss: 0.0160 - acc: 0.0125 - val_loss: 0.0189 - val_acc: 0.0000e+00\n",
            "Epoch 155/300\n",
            "80/80 [==============================] - 0s 788us/step - loss: 0.0167 - acc: 0.0125 - val_loss: 0.0188 - val_acc: 0.0000e+00\n",
            "Epoch 156/300\n",
            "80/80 [==============================] - 0s 773us/step - loss: 0.0163 - acc: 0.0125 - val_loss: 0.0196 - val_acc: 0.0000e+00\n",
            "Epoch 157/300\n",
            "80/80 [==============================] - 0s 883us/step - loss: 0.0161 - acc: 0.0125 - val_loss: 0.0206 - val_acc: 0.0000e+00\n",
            "Epoch 158/300\n",
            "80/80 [==============================] - 0s 779us/step - loss: 0.0164 - acc: 0.0125 - val_loss: 0.0200 - val_acc: 0.0000e+00\n",
            "Epoch 159/300\n",
            "80/80 [==============================] - 0s 788us/step - loss: 0.0160 - acc: 0.0125 - val_loss: 0.0189 - val_acc: 0.0000e+00\n",
            "Epoch 160/300\n",
            "80/80 [==============================] - 0s 800us/step - loss: 0.0162 - acc: 0.0125 - val_loss: 0.0188 - val_acc: 0.0000e+00\n",
            "Epoch 161/300\n",
            "80/80 [==============================] - 0s 771us/step - loss: 0.0166 - acc: 0.0125 - val_loss: 0.0189 - val_acc: 0.0000e+00\n",
            "Epoch 162/300\n",
            "80/80 [==============================] - 0s 783us/step - loss: 0.0161 - acc: 0.0125 - val_loss: 0.0199 - val_acc: 0.0000e+00\n",
            "Epoch 163/300\n",
            "80/80 [==============================] - 0s 784us/step - loss: 0.0163 - acc: 0.0125 - val_loss: 0.0203 - val_acc: 0.0000e+00\n",
            "Epoch 164/300\n",
            "80/80 [==============================] - 0s 773us/step - loss: 0.0162 - acc: 0.0125 - val_loss: 0.0191 - val_acc: 0.0000e+00\n",
            "Epoch 165/300\n",
            "80/80 [==============================] - 0s 766us/step - loss: 0.0163 - acc: 0.0125 - val_loss: 0.0188 - val_acc: 0.0000e+00\n",
            "Epoch 166/300\n",
            "80/80 [==============================] - 0s 767us/step - loss: 0.0165 - acc: 0.0125 - val_loss: 0.0189 - val_acc: 0.0000e+00\n",
            "Epoch 167/300\n",
            "80/80 [==============================] - 0s 774us/step - loss: 0.0161 - acc: 0.0125 - val_loss: 0.0197 - val_acc: 0.0000e+00\n",
            "Epoch 168/300\n",
            "80/80 [==============================] - 0s 781us/step - loss: 0.0161 - acc: 0.0125 - val_loss: 0.0198 - val_acc: 0.0000e+00\n",
            "Epoch 169/300\n",
            "80/80 [==============================] - 0s 793us/step - loss: 0.0160 - acc: 0.0125 - val_loss: 0.0191 - val_acc: 0.0000e+00\n",
            "Epoch 170/300\n",
            "80/80 [==============================] - 0s 919us/step - loss: 0.0160 - acc: 0.0125 - val_loss: 0.0189 - val_acc: 0.0000e+00\n",
            "Epoch 171/300\n",
            "80/80 [==============================] - 0s 786us/step - loss: 0.0161 - acc: 0.0125 - val_loss: 0.0189 - val_acc: 0.0000e+00\n",
            "Epoch 172/300\n",
            "80/80 [==============================] - 0s 747us/step - loss: 0.0161 - acc: 0.0125 - val_loss: 0.0192 - val_acc: 0.0000e+00\n",
            "Epoch 173/300\n",
            "80/80 [==============================] - 0s 897us/step - loss: 0.0159 - acc: 0.0125 - val_loss: 0.0200 - val_acc: 0.0000e+00\n",
            "Epoch 174/300\n",
            "80/80 [==============================] - 0s 785us/step - loss: 0.0163 - acc: 0.0125 - val_loss: 0.0204 - val_acc: 0.0000e+00\n",
            "Epoch 175/300\n",
            "80/80 [==============================] - 0s 808us/step - loss: 0.0165 - acc: 0.0125 - val_loss: 0.0197 - val_acc: 0.0000e+00\n",
            "Epoch 176/300\n",
            "80/80 [==============================] - 0s 819us/step - loss: 0.0164 - acc: 0.0125 - val_loss: 0.0189 - val_acc: 0.0000e+00\n",
            "Epoch 177/300\n",
            "80/80 [==============================] - 0s 767us/step - loss: 0.0161 - acc: 0.0125 - val_loss: 0.0190 - val_acc: 0.0000e+00\n",
            "Epoch 178/300\n",
            "80/80 [==============================] - 0s 777us/step - loss: 0.0161 - acc: 0.0125 - val_loss: 0.0197 - val_acc: 0.0000e+00\n",
            "Epoch 179/300\n",
            "80/80 [==============================] - 0s 778us/step - loss: 0.0161 - acc: 0.0125 - val_loss: 0.0198 - val_acc: 0.0000e+00\n",
            "Epoch 180/300\n",
            "80/80 [==============================] - 0s 780us/step - loss: 0.0163 - acc: 0.0125 - val_loss: 0.0199 - val_acc: 0.0000e+00\n",
            "Epoch 181/300\n",
            "80/80 [==============================] - 0s 780us/step - loss: 0.0160 - acc: 0.0125 - val_loss: 0.0188 - val_acc: 0.0000e+00\n",
            "Epoch 182/300\n",
            "80/80 [==============================] - 0s 758us/step - loss: 0.0161 - acc: 0.0125 - val_loss: 0.0188 - val_acc: 0.0000e+00\n",
            "Epoch 183/300\n",
            "80/80 [==============================] - 0s 766us/step - loss: 0.0162 - acc: 0.0125 - val_loss: 0.0193 - val_acc: 0.0000e+00\n",
            "Epoch 184/300\n",
            "80/80 [==============================] - 0s 779us/step - loss: 0.0159 - acc: 0.0125 - val_loss: 0.0197 - val_acc: 0.0000e+00\n",
            "Epoch 185/300\n",
            "80/80 [==============================] - 0s 789us/step - loss: 0.0162 - acc: 0.0125 - val_loss: 0.0197 - val_acc: 0.0000e+00\n",
            "Epoch 186/300\n",
            "80/80 [==============================] - 0s 780us/step - loss: 0.0159 - acc: 0.0125 - val_loss: 0.0190 - val_acc: 0.0000e+00\n",
            "Epoch 187/300\n",
            "80/80 [==============================] - 0s 756us/step - loss: 0.0159 - acc: 0.0125 - val_loss: 0.0188 - val_acc: 0.0000e+00\n",
            "Epoch 188/300\n",
            "80/80 [==============================] - 0s 771us/step - loss: 0.0163 - acc: 0.0125 - val_loss: 0.0189 - val_acc: 0.0000e+00\n",
            "Epoch 189/300\n",
            "80/80 [==============================] - 0s 880us/step - loss: 0.0159 - acc: 0.0125 - val_loss: 0.0199 - val_acc: 0.0000e+00\n",
            "Epoch 190/300\n",
            "80/80 [==============================] - 0s 780us/step - loss: 0.0163 - acc: 0.0125 - val_loss: 0.0202 - val_acc: 0.0000e+00\n",
            "Epoch 191/300\n",
            "80/80 [==============================] - 0s 785us/step - loss: 0.0162 - acc: 0.0125 - val_loss: 0.0192 - val_acc: 0.0000e+00\n",
            "Epoch 192/300\n",
            "80/80 [==============================] - 0s 783us/step - loss: 0.0159 - acc: 0.0125 - val_loss: 0.0191 - val_acc: 0.0000e+00\n",
            "Epoch 193/300\n",
            "80/80 [==============================] - 0s 767us/step - loss: 0.0160 - acc: 0.0125 - val_loss: 0.0190 - val_acc: 0.0000e+00\n",
            "Epoch 194/300\n",
            "80/80 [==============================] - 0s 782us/step - loss: 0.0158 - acc: 0.0125 - val_loss: 0.0195 - val_acc: 0.0000e+00\n",
            "Epoch 195/300\n",
            "80/80 [==============================] - 0s 800us/step - loss: 0.0160 - acc: 0.0125 - val_loss: 0.0196 - val_acc: 0.0000e+00\n",
            "Epoch 196/300\n",
            "80/80 [==============================] - 0s 772us/step - loss: 0.0159 - acc: 0.0125 - val_loss: 0.0189 - val_acc: 0.0000e+00\n",
            "Epoch 197/300\n",
            "80/80 [==============================] - 0s 783us/step - loss: 0.0163 - acc: 0.0125 - val_loss: 0.0188 - val_acc: 0.0000e+00\n",
            "Epoch 198/300\n",
            "80/80 [==============================] - 0s 774us/step - loss: 0.0161 - acc: 0.0125 - val_loss: 0.0193 - val_acc: 0.0000e+00\n",
            "Epoch 199/300\n",
            "80/80 [==============================] - 0s 772us/step - loss: 0.0160 - acc: 0.0125 - val_loss: 0.0197 - val_acc: 0.0000e+00\n",
            "Epoch 200/300\n",
            "80/80 [==============================] - 0s 765us/step - loss: 0.0159 - acc: 0.0125 - val_loss: 0.0193 - val_acc: 0.0000e+00\n",
            "Epoch 201/300\n",
            "80/80 [==============================] - 0s 769us/step - loss: 0.0159 - acc: 0.0125 - val_loss: 0.0189 - val_acc: 0.0000e+00\n",
            "Epoch 202/300\n",
            "80/80 [==============================] - 0s 786us/step - loss: 0.0160 - acc: 0.0125 - val_loss: 0.0190 - val_acc: 0.0000e+00\n",
            "Epoch 203/300\n",
            "80/80 [==============================] - 0s 798us/step - loss: 0.0159 - acc: 0.0125 - val_loss: 0.0190 - val_acc: 0.0000e+00\n",
            "Epoch 204/300\n",
            "80/80 [==============================] - 0s 783us/step - loss: 0.0158 - acc: 0.0125 - val_loss: 0.0195 - val_acc: 0.0000e+00\n",
            "Epoch 205/300\n",
            "80/80 [==============================] - 0s 855us/step - loss: 0.0160 - acc: 0.0125 - val_loss: 0.0198 - val_acc: 0.0000e+00\n",
            "Epoch 206/300\n",
            "80/80 [==============================] - 0s 767us/step - loss: 0.0161 - acc: 0.0125 - val_loss: 0.0190 - val_acc: 0.0000e+00\n",
            "Epoch 207/300\n",
            "80/80 [==============================] - 0s 786us/step - loss: 0.0159 - acc: 0.0125 - val_loss: 0.0192 - val_acc: 0.0000e+00\n",
            "Epoch 208/300\n",
            "80/80 [==============================] - 0s 780us/step - loss: 0.0160 - acc: 0.0125 - val_loss: 0.0192 - val_acc: 0.0000e+00\n",
            "Epoch 209/300\n",
            "80/80 [==============================] - 0s 774us/step - loss: 0.0158 - acc: 0.0125 - val_loss: 0.0197 - val_acc: 0.0000e+00\n",
            "Epoch 210/300\n",
            "80/80 [==============================] - 0s 762us/step - loss: 0.0159 - acc: 0.0125 - val_loss: 0.0194 - val_acc: 0.0000e+00\n",
            "Epoch 211/300\n",
            "80/80 [==============================] - 0s 758us/step - loss: 0.0159 - acc: 0.0125 - val_loss: 0.0188 - val_acc: 0.0000e+00\n",
            "Epoch 212/300\n",
            "80/80 [==============================] - 0s 769us/step - loss: 0.0159 - acc: 0.0125 - val_loss: 0.0190 - val_acc: 0.0000e+00\n",
            "Epoch 213/300\n",
            "80/80 [==============================] - 0s 778us/step - loss: 0.0158 - acc: 0.0125 - val_loss: 0.0189 - val_acc: 0.0000e+00\n",
            "Epoch 214/300\n",
            "80/80 [==============================] - 0s 764us/step - loss: 0.0158 - acc: 0.0125 - val_loss: 0.0188 - val_acc: 0.0000e+00\n",
            "Epoch 215/300\n",
            "80/80 [==============================] - 0s 794us/step - loss: 0.0159 - acc: 0.0125 - val_loss: 0.0188 - val_acc: 0.0000e+00\n",
            "Epoch 216/300\n",
            "80/80 [==============================] - 0s 799us/step - loss: 0.0159 - acc: 0.0125 - val_loss: 0.0191 - val_acc: 0.0000e+00\n",
            "Epoch 217/300\n",
            "80/80 [==============================] - 0s 755us/step - loss: 0.0158 - acc: 0.0125 - val_loss: 0.0199 - val_acc: 0.0000e+00\n",
            "Epoch 218/300\n",
            "80/80 [==============================] - 0s 769us/step - loss: 0.0160 - acc: 0.0125 - val_loss: 0.0197 - val_acc: 0.0000e+00\n",
            "Epoch 219/300\n",
            "80/80 [==============================] - 0s 833us/step - loss: 0.0159 - acc: 0.0125 - val_loss: 0.0191 - val_acc: 0.0000e+00\n",
            "Epoch 220/300\n",
            "80/80 [==============================] - 0s 766us/step - loss: 0.0160 - acc: 0.0125 - val_loss: 0.0189 - val_acc: 0.0000e+00\n",
            "Epoch 221/300\n",
            "80/80 [==============================] - 0s 864us/step - loss: 0.0159 - acc: 0.0125 - val_loss: 0.0200 - val_acc: 0.0000e+00\n",
            "Epoch 222/300\n",
            "80/80 [==============================] - 0s 804us/step - loss: 0.0159 - acc: 0.0125 - val_loss: 0.0200 - val_acc: 0.0000e+00\n",
            "Epoch 223/300\n",
            "80/80 [==============================] - 0s 798us/step - loss: 0.0159 - acc: 0.0125 - val_loss: 0.0194 - val_acc: 0.0000e+00\n",
            "Epoch 224/300\n",
            "80/80 [==============================] - 0s 795us/step - loss: 0.0158 - acc: 0.0125 - val_loss: 0.0187 - val_acc: 0.0000e+00\n",
            "Epoch 225/300\n",
            "80/80 [==============================] - 0s 773us/step - loss: 0.0159 - acc: 0.0125 - val_loss: 0.0187 - val_acc: 0.0000e+00\n",
            "Epoch 226/300\n",
            "80/80 [==============================] - 0s 753us/step - loss: 0.0159 - acc: 0.0125 - val_loss: 0.0193 - val_acc: 0.0000e+00\n",
            "Epoch 227/300\n",
            "80/80 [==============================] - 0s 756us/step - loss: 0.0159 - acc: 0.0125 - val_loss: 0.0198 - val_acc: 0.0000e+00\n",
            "Epoch 228/300\n",
            "80/80 [==============================] - 0s 762us/step - loss: 0.0159 - acc: 0.0125 - val_loss: 0.0192 - val_acc: 0.0000e+00\n",
            "Epoch 229/300\n",
            "80/80 [==============================] - 0s 791us/step - loss: 0.0160 - acc: 0.0125 - val_loss: 0.0186 - val_acc: 0.0000e+00\n",
            "Epoch 230/300\n",
            "80/80 [==============================] - 0s 805us/step - loss: 0.0161 - acc: 0.0125 - val_loss: 0.0186 - val_acc: 0.0000e+00\n",
            "Epoch 231/300\n",
            "80/80 [==============================] - 0s 750us/step - loss: 0.0160 - acc: 0.0125 - val_loss: 0.0187 - val_acc: 0.0000e+00\n",
            "Epoch 232/300\n",
            "80/80 [==============================] - 0s 770us/step - loss: 0.0159 - acc: 0.0125 - val_loss: 0.0193 - val_acc: 0.0000e+00\n",
            "Epoch 233/300\n",
            "80/80 [==============================] - 0s 778us/step - loss: 0.0157 - acc: 0.0125 - val_loss: 0.0191 - val_acc: 0.0000e+00\n",
            "Epoch 234/300\n",
            "80/80 [==============================] - 0s 796us/step - loss: 0.0157 - acc: 0.0125 - val_loss: 0.0187 - val_acc: 0.0000e+00\n",
            "Epoch 235/300\n",
            "80/80 [==============================] - 0s 768us/step - loss: 0.0159 - acc: 0.0125 - val_loss: 0.0186 - val_acc: 0.0000e+00\n",
            "Epoch 236/300\n",
            "80/80 [==============================] - 0s 771us/step - loss: 0.0159 - acc: 0.0125 - val_loss: 0.0187 - val_acc: 0.0000e+00\n",
            "Epoch 237/300\n",
            "80/80 [==============================] - 0s 848us/step - loss: 0.0157 - acc: 0.0125 - val_loss: 0.0194 - val_acc: 0.0000e+00\n",
            "Epoch 238/300\n",
            "80/80 [==============================] - 0s 768us/step - loss: 0.0158 - acc: 0.0125 - val_loss: 0.0193 - val_acc: 0.0000e+00\n",
            "Epoch 239/300\n",
            "80/80 [==============================] - 0s 773us/step - loss: 0.0158 - acc: 0.0125 - val_loss: 0.0188 - val_acc: 0.0000e+00\n",
            "Epoch 240/300\n",
            "80/80 [==============================] - 0s 765us/step - loss: 0.0158 - acc: 0.0125 - val_loss: 0.0189 - val_acc: 0.0000e+00\n",
            "Epoch 241/300\n",
            "80/80 [==============================] - 0s 762us/step - loss: 0.0158 - acc: 0.0125 - val_loss: 0.0188 - val_acc: 0.0000e+00\n",
            "Epoch 242/300\n",
            "80/80 [==============================] - 0s 756us/step - loss: 0.0157 - acc: 0.0125 - val_loss: 0.0191 - val_acc: 0.0000e+00\n",
            "Epoch 243/300\n",
            "80/80 [==============================] - 0s 760us/step - loss: 0.0158 - acc: 0.0125 - val_loss: 0.0195 - val_acc: 0.0000e+00\n",
            "Epoch 244/300\n",
            "80/80 [==============================] - 0s 768us/step - loss: 0.0158 - acc: 0.0125 - val_loss: 0.0188 - val_acc: 0.0000e+00\n",
            "Epoch 245/300\n",
            "80/80 [==============================] - 0s 773us/step - loss: 0.0158 - acc: 0.0125 - val_loss: 0.0186 - val_acc: 0.0000e+00\n",
            "Epoch 246/300\n",
            "80/80 [==============================] - 0s 779us/step - loss: 0.0157 - acc: 0.0125 - val_loss: 0.0192 - val_acc: 0.0000e+00\n",
            "Epoch 247/300\n",
            "80/80 [==============================] - 0s 775us/step - loss: 0.0158 - acc: 0.0125 - val_loss: 0.0199 - val_acc: 0.0000e+00\n",
            "Epoch 248/300\n",
            "80/80 [==============================] - 0s 777us/step - loss: 0.0160 - acc: 0.0125 - val_loss: 0.0196 - val_acc: 0.0000e+00\n",
            "Epoch 249/300\n",
            "80/80 [==============================] - 0s 768us/step - loss: 0.0158 - acc: 0.0125 - val_loss: 0.0196 - val_acc: 0.0000e+00\n",
            "Epoch 250/300\n",
            "80/80 [==============================] - 0s 797us/step - loss: 0.0158 - acc: 0.0125 - val_loss: 0.0199 - val_acc: 0.0000e+00\n",
            "Epoch 251/300\n",
            "80/80 [==============================] - 0s 759us/step - loss: 0.0158 - acc: 0.0125 - val_loss: 0.0191 - val_acc: 0.0000e+00\n",
            "Epoch 252/300\n",
            "80/80 [==============================] - 0s 800us/step - loss: 0.0158 - acc: 0.0125 - val_loss: 0.0190 - val_acc: 0.0000e+00\n",
            "Epoch 253/300\n",
            "80/80 [==============================] - 0s 811us/step - loss: 0.0157 - acc: 0.0125 - val_loss: 0.0194 - val_acc: 0.0000e+00\n",
            "Epoch 254/300\n",
            "80/80 [==============================] - 0s 832us/step - loss: 0.0157 - acc: 0.0125 - val_loss: 0.0196 - val_acc: 0.0000e+00\n",
            "Epoch 255/300\n",
            "80/80 [==============================] - 0s 785us/step - loss: 0.0157 - acc: 0.0125 - val_loss: 0.0188 - val_acc: 0.0000e+00\n",
            "Epoch 256/300\n",
            "80/80 [==============================] - 0s 759us/step - loss: 0.0157 - acc: 0.0125 - val_loss: 0.0186 - val_acc: 0.0000e+00\n",
            "Epoch 257/300\n",
            "80/80 [==============================] - 0s 777us/step - loss: 0.0158 - acc: 0.0125 - val_loss: 0.0186 - val_acc: 0.0000e+00\n",
            "Epoch 258/300\n",
            "80/80 [==============================] - 0s 768us/step - loss: 0.0160 - acc: 0.0125 - val_loss: 0.0187 - val_acc: 0.0000e+00\n",
            "Epoch 259/300\n",
            "80/80 [==============================] - 0s 751us/step - loss: 0.0157 - acc: 0.0125 - val_loss: 0.0191 - val_acc: 0.0000e+00\n",
            "Epoch 260/300\n",
            "80/80 [==============================] - 0s 760us/step - loss: 0.0159 - acc: 0.0125 - val_loss: 0.0201 - val_acc: 0.0000e+00\n",
            "Epoch 261/300\n",
            "80/80 [==============================] - 0s 771us/step - loss: 0.0161 - acc: 0.0125 - val_loss: 0.0192 - val_acc: 0.0000e+00\n",
            "Epoch 262/300\n",
            "80/80 [==============================] - 0s 757us/step - loss: 0.0157 - acc: 0.0125 - val_loss: 0.0188 - val_acc: 0.0000e+00\n",
            "Epoch 263/300\n",
            "80/80 [==============================] - 0s 777us/step - loss: 0.0157 - acc: 0.0125 - val_loss: 0.0187 - val_acc: 0.0000e+00\n",
            "Epoch 264/300\n",
            "80/80 [==============================] - 0s 783us/step - loss: 0.0157 - acc: 0.0125 - val_loss: 0.0187 - val_acc: 0.0000e+00\n",
            "Epoch 265/300\n",
            "80/80 [==============================] - 0s 750us/step - loss: 0.0158 - acc: 0.0125 - val_loss: 0.0190 - val_acc: 0.0000e+00\n",
            "Epoch 266/300\n",
            "80/80 [==============================] - 0s 756us/step - loss: 0.0157 - acc: 0.0125 - val_loss: 0.0189 - val_acc: 0.0000e+00\n",
            "Epoch 267/300\n",
            "80/80 [==============================] - 0s 757us/step - loss: 0.0157 - acc: 0.0125 - val_loss: 0.0192 - val_acc: 0.0000e+00\n",
            "Epoch 268/300\n",
            "80/80 [==============================] - 0s 804us/step - loss: 0.0157 - acc: 0.0125 - val_loss: 0.0194 - val_acc: 0.0000e+00\n",
            "Epoch 269/300\n",
            "80/80 [==============================] - 0s 776us/step - loss: 0.0157 - acc: 0.0125 - val_loss: 0.0191 - val_acc: 0.0000e+00\n",
            "Epoch 270/300\n",
            "80/80 [==============================] - 0s 894us/step - loss: 0.0156 - acc: 0.0125 - val_loss: 0.0189 - val_acc: 0.0000e+00\n",
            "Epoch 271/300\n",
            "80/80 [==============================] - 0s 750us/step - loss: 0.0158 - acc: 0.0125 - val_loss: 0.0188 - val_acc: 0.0000e+00\n",
            "Epoch 272/300\n",
            "80/80 [==============================] - 0s 742us/step - loss: 0.0157 - acc: 0.0125 - val_loss: 0.0193 - val_acc: 0.0000e+00\n",
            "Epoch 273/300\n",
            "80/80 [==============================] - 0s 767us/step - loss: 0.0157 - acc: 0.0125 - val_loss: 0.0193 - val_acc: 0.0000e+00\n",
            "Epoch 274/300\n",
            "80/80 [==============================] - 0s 788us/step - loss: 0.0156 - acc: 0.0125 - val_loss: 0.0191 - val_acc: 0.0000e+00\n",
            "Epoch 275/300\n",
            "80/80 [==============================] - 0s 760us/step - loss: 0.0157 - acc: 0.0125 - val_loss: 0.0187 - val_acc: 0.0000e+00\n",
            "Epoch 276/300\n",
            "80/80 [==============================] - 0s 764us/step - loss: 0.0158 - acc: 0.0125 - val_loss: 0.0185 - val_acc: 0.0000e+00\n",
            "Epoch 277/300\n",
            "80/80 [==============================] - 0s 775us/step - loss: 0.0159 - acc: 0.0125 - val_loss: 0.0191 - val_acc: 0.0000e+00\n",
            "Epoch 278/300\n",
            "80/80 [==============================] - 0s 779us/step - loss: 0.0156 - acc: 0.0125 - val_loss: 0.0197 - val_acc: 0.0000e+00\n",
            "Epoch 279/300\n",
            "80/80 [==============================] - 0s 804us/step - loss: 0.0158 - acc: 0.0125 - val_loss: 0.0195 - val_acc: 0.0000e+00\n",
            "Epoch 280/300\n",
            "80/80 [==============================] - 0s 772us/step - loss: 0.0157 - acc: 0.0125 - val_loss: 0.0186 - val_acc: 0.0000e+00\n",
            "Epoch 281/300\n",
            "80/80 [==============================] - 0s 793us/step - loss: 0.0157 - acc: 0.0125 - val_loss: 0.0185 - val_acc: 0.0000e+00\n",
            "Epoch 282/300\n",
            "80/80 [==============================] - 0s 768us/step - loss: 0.0157 - acc: 0.0125 - val_loss: 0.0188 - val_acc: 0.0000e+00\n",
            "Epoch 283/300\n",
            "80/80 [==============================] - 0s 769us/step - loss: 0.0157 - acc: 0.0125 - val_loss: 0.0195 - val_acc: 0.0000e+00\n",
            "Epoch 284/300\n",
            "80/80 [==============================] - 0s 801us/step - loss: 0.0157 - acc: 0.0125 - val_loss: 0.0191 - val_acc: 0.0000e+00\n",
            "Epoch 285/300\n",
            "80/80 [==============================] - 0s 771us/step - loss: 0.0157 - acc: 0.0125 - val_loss: 0.0188 - val_acc: 0.0000e+00\n",
            "Epoch 286/300\n",
            "80/80 [==============================] - 0s 886us/step - loss: 0.0156 - acc: 0.0125 - val_loss: 0.0190 - val_acc: 0.0000e+00\n",
            "Epoch 287/300\n",
            "80/80 [==============================] - 0s 770us/step - loss: 0.0156 - acc: 0.0125 - val_loss: 0.0192 - val_acc: 0.0000e+00\n",
            "Epoch 288/300\n",
            "80/80 [==============================] - 0s 767us/step - loss: 0.0156 - acc: 0.0125 - val_loss: 0.0189 - val_acc: 0.0000e+00\n",
            "Epoch 289/300\n",
            "80/80 [==============================] - 0s 785us/step - loss: 0.0156 - acc: 0.0125 - val_loss: 0.0187 - val_acc: 0.0000e+00\n",
            "Epoch 290/300\n",
            "80/80 [==============================] - 0s 783us/step - loss: 0.0157 - acc: 0.0125 - val_loss: 0.0191 - val_acc: 0.0000e+00\n",
            "Epoch 291/300\n",
            "80/80 [==============================] - 0s 776us/step - loss: 0.0156 - acc: 0.0125 - val_loss: 0.0191 - val_acc: 0.0000e+00\n",
            "Epoch 292/300\n",
            "80/80 [==============================] - 0s 767us/step - loss: 0.0156 - acc: 0.0125 - val_loss: 0.0190 - val_acc: 0.0000e+00\n",
            "Epoch 293/300\n",
            "80/80 [==============================] - 0s 782us/step - loss: 0.0156 - acc: 0.0125 - val_loss: 0.0192 - val_acc: 0.0000e+00\n",
            "Epoch 294/300\n",
            "80/80 [==============================] - 0s 771us/step - loss: 0.0157 - acc: 0.0125 - val_loss: 0.0187 - val_acc: 0.0000e+00\n",
            "Epoch 295/300\n",
            "80/80 [==============================] - 0s 789us/step - loss: 0.0155 - acc: 0.0125 - val_loss: 0.0190 - val_acc: 0.0000e+00\n",
            "Epoch 296/300\n",
            "80/80 [==============================] - 0s 785us/step - loss: 0.0155 - acc: 0.0125 - val_loss: 0.0191 - val_acc: 0.0000e+00\n",
            "Epoch 297/300\n",
            "80/80 [==============================] - 0s 781us/step - loss: 0.0156 - acc: 0.0125 - val_loss: 0.0190 - val_acc: 0.0000e+00\n",
            "Epoch 298/300\n",
            "80/80 [==============================] - 0s 757us/step - loss: 0.0155 - acc: 0.0125 - val_loss: 0.0185 - val_acc: 0.0000e+00\n",
            "Epoch 299/300\n",
            "80/80 [==============================] - 0s 786us/step - loss: 0.0157 - acc: 0.0125 - val_loss: 0.0186 - val_acc: 0.0000e+00\n",
            "Epoch 300/300\n",
            "80/80 [==============================] - 0s 776us/step - loss: 0.0156 - acc: 0.0125 - val_loss: 0.0189 - val_acc: 0.0000e+00\n"
          ],
          "name": "stdout"
        }
      ]
    },
    {
      "cell_type": "code",
      "metadata": {
        "id": "qoWkBT_K3P8m",
        "colab_type": "code",
        "colab": {}
      },
      "source": [
        "x_pred = model.predict(x_test)"
      ],
      "execution_count": 0,
      "outputs": []
    },
    {
      "cell_type": "code",
      "metadata": {
        "id": "Bnw_frTh3hsm",
        "colab_type": "code",
        "colab": {
          "base_uri": "https://localhost:8080/",
          "height": 269
        },
        "outputId": "c63c0694-2a13-4b5c-d326-dd130a289add"
      },
      "source": [
        "plt.scatter( range(20), x_pred, c='r')\n",
        "plt.scatter( range(20), y_test, c='g')\n",
        "plt.show()"
      ],
      "execution_count": 101,
      "outputs": [
        {
          "output_type": "display_data",
          "data": {
            "image/png": "[encoded data removed]",
            "text/plain": [
              "<Figure size 432x288 with 1 Axes>"
            ]
          },
          "metadata": {
            "tags": []
          }
        }
      ]
    },
    {
      "cell_type": "code",
      "metadata": {
        "id": "XTciX5Dd38V-",
        "colab_type": "code",
        "colab": {
          "base_uri": "https://localhost:8080/",
          "height": 269
        },
        "outputId": "455d1584-e14c-4452-f6bd-6805b946a9ef"
      },
      "source": [
        "plt.plot(history.history['loss'])\n",
        "plt.show()"
      ],
      "execution_count": 102,
      "outputs": [
        {
          "output_type": "display_data",
          "data": {
            "image/png": "[encoded data removed]",
            "text/plain": [
              "<Figure size 432x288 with 1 Axes>"
            ]
          },
          "metadata": {
            "tags": []
          }
        }
      ]
    },
    {
      "cell_type": "code",
      "metadata": {
        "id": "i8u_HsNc4S4-",
        "colab_type": "code",
        "colab": {
          "base_uri": "https://localhost:8080/",
          "height": 34
        },
        "outputId": "4c435ecc-4440-4d26-a7c1-190afc9c5622"
      },
      "source": [
        "print(history.history.keys())"
      ],
      "execution_count": 104,
      "outputs": [
        {
          "output_type": "stream",
          "text": [
            "dict_keys(['val_loss', 'val_acc', 'loss', 'acc'])\n"
          ],
          "name": "stdout"
        }
      ]
    },
    {
      "cell_type": "code",
      "metadata": {
        "id": "v7CEh7fxGNnc",
        "colab_type": "code",
        "colab": {
          "base_uri": "https://localhost:8080/",
          "height": 269
        },
        "outputId": "386cabfd-4e9b-4471-a81b-2420eb175784"
      },
      "source": [
        "plt.plot(history.history['acc'])\n",
        "plt.show()"
      ],
      "execution_count": 108,
      "outputs": [
        {
          "output_type": "display_data",
          "data": {
            "image/png": "[encoded data removed]",
            "text/plain": [
              "<Figure size 432x288 with 1 Axes>"
            ]
          },
          "metadata": {
            "tags": []
          }
        }
      ]
    },
    {
      "cell_type": "code",
      "metadata": {
        "id": "xZ4-W8W-WQbj",
        "colab_type": "code",
        "colab": {}
      },
      "source": [
        ""
      ],
      "execution_count": 0,
      "outputs": []
    }
  ]
}